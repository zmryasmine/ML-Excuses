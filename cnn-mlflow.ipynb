{
 "cells": [
  {
   "cell_type": "code",
   "execution_count": 1,
   "metadata": {},
   "outputs": [],
   "source": [
    "import mlflow\n",
    "import mlflow.keras\n",
    "import numpy as np\n",
    "import pandas as pd\n",
    "import os\n",
    "from tensorflow.keras.preprocessing.image import load_img, img_to_array\n",
    "from sklearn.model_selection import train_test_split\n",
    "from sklearn.metrics import classification_report, confusion_matrix, roc_curve, auc\n",
    "from tensorflow.keras.utils import to_categorical\n",
    "from tensorflow.keras.callbacks import Callback\n",
    "from tensorflow.keras.models import Sequential\n",
    "from tensorflow.keras.layers import Conv2D, MaxPooling2D, Flatten, Dense, Dropout\n",
    "from tensorflow.keras.optimizers import Adam, SGD, RMSprop\n",
    "from tensorflow.keras.metrics import Recall, AUC\n",
    "import matplotlib.pyplot as plt\n",
    "import seaborn as sns"
   ]
  },
  {
   "cell_type": "code",
   "execution_count": 2,
   "metadata": {},
   "outputs": [],
   "source": [
    "import itertools\n",
    "from sklearn.model_selection import StratifiedKFold\n",
    "from sklearn.metrics import roc_auc_score, roc_curve, auc, precision_score, recall_score, f1_score, accuracy_score, confusion_matrix\n",
    "from tensorflow.keras.callbacks import EarlyStopping\n",
    "import mlflow.keras\n",
    "from mlflow.models import infer_signature"
   ]
  },
  {
   "cell_type": "code",
   "execution_count": 3,
   "metadata": {},
   "outputs": [
    {
     "name": "stdout",
     "output_type": "stream",
     "text": [
      "(8000,)\n",
      "[3 3 3 3 3 3 3 3 3 3]\n"
     ]
    }
   ],
   "source": [
    "metadata = pd.read_csv('dataset/balanced_metadata.csv')\n",
    "image_folder = 'dataset/balanced_dataset/'\n",
    "images = []\n",
    "labels = []\n",
    "for i, row in metadata.iterrows():\n",
    "    img_path = os.path.join(image_folder, row['image_name'])\n",
    "    img = load_img(img_path, target_size=(128, 128))\n",
    "    images.append(img_to_array(img))\n",
    "    labels.append(row['target'])\n",
    "\n",
    "images = np.array(images) / 255.0  # Normalisation\n",
    "labels = np.array(labels)\n",
    "print(labels.shape)\n",
    "print(labels[:10])"
   ]
  },
  {
   "cell_type": "code",
   "execution_count": 4,
   "metadata": {},
   "outputs": [
    {
     "name": "stdout",
     "output_type": "stream",
     "text": [
      "(8000, 128, 128, 3)\n",
      "(8000, 4)\n"
     ]
    }
   ],
   "source": [
    "labels = to_categorical(labels, num_classes=4)\n",
    "print(images.shape)  \n",
    "print(labels.shape)"
   ]
  },
  {
   "cell_type": "code",
   "execution_count": 5,
   "metadata": {},
   "outputs": [],
   "source": [
    "def build_cnn_model(input_shape=(128, 128, 3), num_classes=4, optimizer='adam',\n",
    "                    dropout_rate=0.5, activation='relu', filters=32, kernel_size=(3, 3)):\n",
    "    model = Sequential()\n",
    "\n",
    "    # Première couche convolutionnelle\n",
    "    model.add(Conv2D(filters, kernel_size, activation=activation, input_shape=input_shape))\n",
    "    model.add(MaxPooling2D((2, 2)))\n",
    "\n",
    "    # Deuxième couche convolutionnelle\n",
    "    model.add(Conv2D(filters * 2, kernel_size, activation=activation))\n",
    "    model.add(MaxPooling2D((2, 2)))\n",
    "\n",
    "    # Troisième couche convolutionnelle\n",
    "    model.add(Conv2D(filters * 4, kernel_size, activation=activation))\n",
    "    model.add(MaxPooling2D((2, 2)))\n",
    "\n",
    "    # Aplatir les résultats des couches précédentes\n",
    "    model.add(Flatten())\n",
    "\n",
    "    # Couches entièrement connectées\n",
    "    model.add(Dense(128, activation=activation))\n",
    "    model.add(Dropout(dropout_rate))  # Dropout pour éviter l'overfitting\n",
    "    model.add(Dense(num_classes, activation='softmax'))  # Classification multi-classe\n",
    "\n",
    "    # Choisir l'optimiseur basé sur l'argument\n",
    "    if optimizer == 'adam':\n",
    "        optimizer_instance = Adam()\n",
    "    elif optimizer == 'sgd':\n",
    "        optimizer_instance = SGD()\n",
    "    elif optimizer == 'rmsprop':\n",
    "        optimizer_instance = RMSprop()\n",
    "\n",
    "    # Compiler le modèle avec les métriques supplémentaires\n",
    "    model.compile(optimizer=optimizer_instance, \n",
    "                  loss='categorical_crossentropy', \n",
    "                  metrics=['accuracy', Recall(), AUC()])\n",
    "\n",
    "    return model"
   ]
  },
  {
   "cell_type": "code",
   "execution_count": 6,
   "metadata": {},
   "outputs": [],
   "source": [
    "# Choix des paramètres\n",
    "param_grid = {\n",
    "    'optimizer': 'adam',  # Optimiseur à tester\n",
    "    'dropout_rate': [0.3, 0.5],  # Taux de dropout\n",
    "    'activation': 'relu',  # Fonction d'activation des couches\n",
    "    'filters': [16, 32],  # Nombre de filtres dans les couches convolutionnelles\n",
    "    'kernel_size': (3, 3),  # Taille des noyaux de convolution\n",
    "    'batch_size': 32,  # Taille des mini-batchs\n",
    "    'epochs': 10  # Nombre d'époques\n",
    "}"
   ]
  },
  {
   "cell_type": "code",
   "execution_count": 7,
   "metadata": {},
   "outputs": [],
   "source": [
    "X_train, X_test, y_train, y_test = train_test_split(images, labels, test_size=0.2, random_state=42)\n",
    "X_train, X_val, y_train, y_val = train_test_split(X_train, y_train, test_size=0.2, random_state=42)"
   ]
  },
  {
   "cell_type": "markdown",
   "metadata": {},
   "source": [
    "- run on terminal **mlflow server --host 127.0.0.1 --port 5000**"
   ]
  },
  {
   "cell_type": "code",
   "execution_count": 8,
   "metadata": {},
   "outputs": [],
   "source": [
    "mlflow.set_tracking_uri(uri=\"http://127.0.0.1:5000\")"
   ]
  },
  {
   "cell_type": "markdown",
   "metadata": {},
   "source": [
    "- run on terminal **mlflow ui**"
   ]
  },
  {
   "cell_type": "code",
   "execution_count": 9,
   "metadata": {},
   "outputs": [
    {
     "data": {
      "text/plain": [
       "<Experiment: artifact_location='mlflow-artifacts:/344762819335167390', creation_time=1733865490229, experiment_id='344762819335167390', last_update_time=1733865490229, lifecycle_stage='active', name='Brain_Tumor_Classification', tags={}>"
      ]
     },
     "execution_count": 9,
     "metadata": {},
     "output_type": "execute_result"
    }
   ],
   "source": [
    "mlflow.set_experiment(\"Brain_Tumor_Classification\")"
   ]
  },
  {
   "cell_type": "code",
   "execution_count": 10,
   "metadata": {},
   "outputs": [
    {
     "name": "stdout",
     "output_type": "stream",
     "text": [
      "Experiment ID: 344762819335167390\n"
     ]
    }
   ],
   "source": [
    "experiment = mlflow.get_experiment_by_name(\"Brain_Tumor_Classification\")\n",
    "experiment_id = experiment.experiment_id\n",
    "\n",
    "print(f\"Experiment ID: {experiment_id}\")"
   ]
  },
  {
   "cell_type": "code",
   "execution_count": 11,
   "metadata": {},
   "outputs": [],
   "source": [
    "# Paramètres pour la validation croisée\n",
    "num_folds = 3\n",
    "cv = StratifiedKFold(n_splits=num_folds, shuffle=True, random_state=42)"
   ]
  },
  {
   "cell_type": "code",
   "execution_count": 12,
   "metadata": {},
   "outputs": [
    {
     "name": "stdout",
     "output_type": "stream",
     "text": [
      "Starting experiment 1 with parameters: {'filters': 16, 'kernel_size': (3, 3), 'dropout_rate': 0.3, 'batch_size': 32, 'epochs': 10, 'optimizer': 'adam'}\n",
      "Fold 1/3\n"
     ]
    },
    {
     "name": "stderr",
     "output_type": "stream",
     "text": [
      "c:\\Users\\user\\Documents\\GitHub\\ML-Excuses\\env\\Lib\\site-packages\\keras\\src\\layers\\convolutional\\base_conv.py:107: UserWarning: Do not pass an `input_shape`/`input_dim` argument to a layer. When using Sequential models, prefer using an `Input(shape)` object as the first layer in the model instead.\n",
      "  super().__init__(activity_regularizer=activity_regularizer, **kwargs)\n"
     ]
    },
    {
     "name": "stdout",
     "output_type": "stream",
     "text": [
      "Epoch 1/10\n",
      "\u001b[1m107/107\u001b[0m \u001b[32m━━━━━━━━━━━━━━━━━━━━\u001b[0m\u001b[37m\u001b[0m \u001b[1m11s\u001b[0m 82ms/step - accuracy: 0.5318 - auc: 0.7942 - loss: 1.0487 - recall: 0.3095 - val_accuracy: 0.7762 - val_auc: 0.9451 - val_loss: 0.5673 - val_recall: 0.7299\n",
      "Epoch 2/10\n",
      "\u001b[1m107/107\u001b[0m \u001b[32m━━━━━━━━━━━━━━━━━━━━\u001b[0m\u001b[37m\u001b[0m \u001b[1m9s\u001b[0m 85ms/step - accuracy: 0.7730 - auc: 0.9417 - loss: 0.5786 - recall: 0.7306 - val_accuracy: 0.8055 - val_auc: 0.9612 - val_loss: 0.4692 - val_recall: 0.7774\n",
      "Epoch 3/10\n",
      "\u001b[1m107/107\u001b[0m \u001b[32m━━━━━━━━━━━━━━━━━━━━\u001b[0m\u001b[37m\u001b[0m \u001b[1m9s\u001b[0m 82ms/step - accuracy: 0.8371 - auc: 0.9688 - loss: 0.4223 - recall: 0.8109 - val_accuracy: 0.8360 - val_auc: 0.9644 - val_loss: 0.4480 - val_recall: 0.8248\n",
      "Epoch 4/10\n",
      "\u001b[1m107/107\u001b[0m \u001b[32m━━━━━━━━━━━━━━━━━━━━\u001b[0m\u001b[37m\u001b[0m \u001b[1m8s\u001b[0m 76ms/step - accuracy: 0.8721 - auc: 0.9808 - loss: 0.3239 - recall: 0.8627 - val_accuracy: 0.8606 - val_auc: 0.9706 - val_loss: 0.3974 - val_recall: 0.8500\n",
      "Epoch 5/10\n",
      "\u001b[1m107/107\u001b[0m \u001b[32m━━━━━━━━━━━━━━━━━━━━\u001b[0m\u001b[37m\u001b[0m \u001b[1m8s\u001b[0m 76ms/step - accuracy: 0.9072 - auc: 0.9883 - loss: 0.2510 - recall: 0.8951 - val_accuracy: 0.8822 - val_auc: 0.9820 - val_loss: 0.3088 - val_recall: 0.8746\n",
      "Epoch 6/10\n",
      "\u001b[1m107/107\u001b[0m \u001b[32m━━━━━━━━━━━━━━━━━━━━\u001b[0m\u001b[37m\u001b[0m \u001b[1m8s\u001b[0m 76ms/step - accuracy: 0.9370 - auc: 0.9939 - loss: 0.1802 - recall: 0.9334 - val_accuracy: 0.8711 - val_auc: 0.9755 - val_loss: 0.3878 - val_recall: 0.8612\n",
      "Epoch 7/10\n",
      "\u001b[1m107/107\u001b[0m \u001b[32m━━━━━━━━━━━━━━━━━━━━\u001b[0m\u001b[37m\u001b[0m \u001b[1m8s\u001b[0m 76ms/step - accuracy: 0.9355 - auc: 0.9936 - loss: 0.1753 - recall: 0.9305 - val_accuracy: 0.8998 - val_auc: 0.9861 - val_loss: 0.2700 - val_recall: 0.8928\n",
      "Epoch 8/10\n",
      "\u001b[1m107/107\u001b[0m \u001b[32m━━━━━━━━━━━━━━━━━━━━\u001b[0m\u001b[37m\u001b[0m \u001b[1m8s\u001b[0m 76ms/step - accuracy: 0.9609 - auc: 0.9976 - loss: 0.1120 - recall: 0.9573 - val_accuracy: 0.9074 - val_auc: 0.9804 - val_loss: 0.3085 - val_recall: 0.9010\n",
      "Epoch 9/10\n",
      "\u001b[1m107/107\u001b[0m \u001b[32m━━━━━━━━━━━━━━━━━━━━\u001b[0m\u001b[37m\u001b[0m \u001b[1m8s\u001b[0m 76ms/step - accuracy: 0.9693 - auc: 0.9982 - loss: 0.0874 - recall: 0.9692 - val_accuracy: 0.9010 - val_auc: 0.9831 - val_loss: 0.3145 - val_recall: 0.8981\n",
      "Epoch 10/10\n",
      "\u001b[1m107/107\u001b[0m \u001b[32m━━━━━━━━━━━━━━━━━━━━\u001b[0m\u001b[37m\u001b[0m \u001b[1m8s\u001b[0m 77ms/step - accuracy: 0.9796 - auc: 0.9992 - loss: 0.0674 - recall: 0.9788 - val_accuracy: 0.9080 - val_auc: 0.9819 - val_loss: 0.3253 - val_recall: 0.9045\n",
      "\u001b[1m54/54\u001b[0m \u001b[32m━━━━━━━━━━━━━━━━━━━━\u001b[0m\u001b[37m\u001b[0m \u001b[1m3s\u001b[0m 55ms/step\n",
      "Fold 2/3\n"
     ]
    },
    {
     "name": "stderr",
     "output_type": "stream",
     "text": [
      "c:\\Users\\user\\Documents\\GitHub\\ML-Excuses\\env\\Lib\\site-packages\\keras\\src\\layers\\convolutional\\base_conv.py:107: UserWarning: Do not pass an `input_shape`/`input_dim` argument to a layer. When using Sequential models, prefer using an `Input(shape)` object as the first layer in the model instead.\n",
      "  super().__init__(activity_regularizer=activity_regularizer, **kwargs)\n"
     ]
    },
    {
     "name": "stdout",
     "output_type": "stream",
     "text": [
      "Epoch 1/10\n",
      "\u001b[1m107/107\u001b[0m \u001b[32m━━━━━━━━━━━━━━━━━━━━\u001b[0m\u001b[37m\u001b[0m \u001b[1m14s\u001b[0m 114ms/step - accuracy: 0.5318 - auc_1: 0.8128 - loss: 0.9981 - recall_1: 0.3503 - val_accuracy: 0.7844 - val_auc_1: 0.9517 - val_loss: 0.5251 - val_recall_1: 0.7540\n",
      "Epoch 2/10\n",
      "\u001b[1m107/107\u001b[0m \u001b[32m━━━━━━━━━━━━━━━━━━━━\u001b[0m\u001b[37m\u001b[0m \u001b[1m12s\u001b[0m 110ms/step - accuracy: 0.7882 - auc_1: 0.9493 - loss: 0.5373 - recall_1: 0.7470 - val_accuracy: 0.7698 - val_auc_1: 0.9420 - val_loss: 0.5850 - val_recall_1: 0.7481\n",
      "Epoch 3/10\n",
      "\u001b[1m107/107\u001b[0m \u001b[32m━━━━━━━━━━━━━━━━━━━━\u001b[0m\u001b[37m\u001b[0m \u001b[1m12s\u001b[0m 114ms/step - accuracy: 0.8519 - auc_1: 0.9708 - loss: 0.4067 - recall_1: 0.8310 - val_accuracy: 0.7879 - val_auc_1: 0.9598 - val_loss: 0.4720 - val_recall_1: 0.7715\n",
      "Epoch 4/10\n",
      "\u001b[1m107/107\u001b[0m \u001b[32m━━━━━━━━━━━━━━━━━━━━\u001b[0m\u001b[37m\u001b[0m \u001b[1m12s\u001b[0m 114ms/step - accuracy: 0.8896 - auc_1: 0.9846 - loss: 0.2915 - recall_1: 0.8761 - val_accuracy: 0.8231 - val_auc_1: 0.9621 - val_loss: 0.4697 - val_recall_1: 0.8120\n",
      "Epoch 5/10\n",
      "\u001b[1m107/107\u001b[0m \u001b[32m━━━━━━━━━━━━━━━━━━━━\u001b[0m\u001b[37m\u001b[0m \u001b[1m12s\u001b[0m 113ms/step - accuracy: 0.9185 - auc_1: 0.9901 - loss: 0.2293 - recall_1: 0.9121 - val_accuracy: 0.8594 - val_auc_1: 0.9769 - val_loss: 0.3610 - val_recall_1: 0.8500\n",
      "Epoch 6/10\n",
      "\u001b[1m107/107\u001b[0m \u001b[32m━━━━━━━━━━━━━━━━━━━━\u001b[0m\u001b[37m\u001b[0m \u001b[1m12s\u001b[0m 115ms/step - accuracy: 0.9480 - auc_1: 0.9959 - loss: 0.1484 - recall_1: 0.9444 - val_accuracy: 0.8676 - val_auc_1: 0.9787 - val_loss: 0.3672 - val_recall_1: 0.8606\n",
      "Epoch 7/10\n",
      "\u001b[1m107/107\u001b[0m \u001b[32m━━━━━━━━━━━━━━━━━━━━\u001b[0m\u001b[37m\u001b[0m \u001b[1m12s\u001b[0m 113ms/step - accuracy: 0.9622 - auc_1: 0.9977 - loss: 0.1086 - recall_1: 0.9594 - val_accuracy: 0.8963 - val_auc_1: 0.9810 - val_loss: 0.3454 - val_recall_1: 0.8957\n",
      "Epoch 8/10\n",
      "\u001b[1m107/107\u001b[0m \u001b[32m━━━━━━━━━━━━━━━━━━━━\u001b[0m\u001b[37m\u001b[0m \u001b[1m13s\u001b[0m 118ms/step - accuracy: 0.9713 - auc_1: 0.9990 - loss: 0.0767 - recall_1: 0.9695 - val_accuracy: 0.8951 - val_auc_1: 0.9756 - val_loss: 0.4293 - val_recall_1: 0.8946\n",
      "Epoch 9/10\n",
      "\u001b[1m107/107\u001b[0m \u001b[32m━━━━━━━━━━━━━━━━━━━━\u001b[0m\u001b[37m\u001b[0m \u001b[1m13s\u001b[0m 119ms/step - accuracy: 0.9717 - auc_1: 0.9983 - loss: 0.0819 - recall_1: 0.9693 - val_accuracy: 0.9033 - val_auc_1: 0.9778 - val_loss: 0.3818 - val_recall_1: 0.9010\n",
      "Epoch 10/10\n",
      "\u001b[1m107/107\u001b[0m \u001b[32m━━━━━━━━━━━━━━━━━━━━\u001b[0m\u001b[37m\u001b[0m \u001b[1m12s\u001b[0m 115ms/step - accuracy: 0.9823 - auc_1: 0.9994 - loss: 0.0583 - recall_1: 0.9798 - val_accuracy: 0.8910 - val_auc_1: 0.9819 - val_loss: 0.3840 - val_recall_1: 0.8869\n",
      "\u001b[1m54/54\u001b[0m \u001b[32m━━━━━━━━━━━━━━━━━━━━\u001b[0m\u001b[37m\u001b[0m \u001b[1m2s\u001b[0m 33ms/step\n",
      "Fold 3/3\n"
     ]
    },
    {
     "name": "stderr",
     "output_type": "stream",
     "text": [
      "c:\\Users\\user\\Documents\\GitHub\\ML-Excuses\\env\\Lib\\site-packages\\keras\\src\\layers\\convolutional\\base_conv.py:107: UserWarning: Do not pass an `input_shape`/`input_dim` argument to a layer. When using Sequential models, prefer using an `Input(shape)` object as the first layer in the model instead.\n",
      "  super().__init__(activity_regularizer=activity_regularizer, **kwargs)\n"
     ]
    },
    {
     "name": "stdout",
     "output_type": "stream",
     "text": [
      "Epoch 1/10\n",
      "\u001b[1m107/107\u001b[0m \u001b[32m━━━━━━━━━━━━━━━━━━━━\u001b[0m\u001b[37m\u001b[0m \u001b[1m16s\u001b[0m 123ms/step - accuracy: 0.5163 - auc_2: 0.7703 - loss: 1.0942 - recall_2: 0.2604 - val_accuracy: 0.7790 - val_auc_2: 0.9463 - val_loss: 0.5738 - val_recall_2: 0.7345\n",
      "Epoch 2/10\n",
      "\u001b[1m107/107\u001b[0m \u001b[32m━━━━━━━━━━━━━━━━━━━━\u001b[0m\u001b[37m\u001b[0m \u001b[1m13s\u001b[0m 122ms/step - accuracy: 0.7644 - auc_2: 0.9395 - loss: 0.5881 - recall_2: 0.7188 - val_accuracy: 0.8154 - val_auc_2: 0.9566 - val_loss: 0.5004 - val_recall_2: 0.7872\n",
      "Epoch 3/10\n",
      "\u001b[1m107/107\u001b[0m \u001b[32m━━━━━━━━━━━━━━━━━━━━\u001b[0m\u001b[37m\u001b[0m \u001b[1m13s\u001b[0m 120ms/step - accuracy: 0.8222 - auc_2: 0.9646 - loss: 0.4421 - recall_2: 0.7989 - val_accuracy: 0.8382 - val_auc_2: 0.9662 - val_loss: 0.4455 - val_recall_2: 0.8054\n",
      "Epoch 4/10\n",
      "\u001b[1m107/107\u001b[0m \u001b[32m━━━━━━━━━━━━━━━━━━━━\u001b[0m\u001b[37m\u001b[0m \u001b[1m12s\u001b[0m 116ms/step - accuracy: 0.8699 - auc_2: 0.9806 - loss: 0.3324 - recall_2: 0.8502 - val_accuracy: 0.8699 - val_auc_2: 0.9717 - val_loss: 0.3934 - val_recall_2: 0.8552\n",
      "Epoch 5/10\n",
      "\u001b[1m107/107\u001b[0m \u001b[32m━━━━━━━━━━━━━━━━━━━━\u001b[0m\u001b[37m\u001b[0m \u001b[1m12s\u001b[0m 115ms/step - accuracy: 0.9074 - auc_2: 0.9885 - loss: 0.2505 - recall_2: 0.9007 - val_accuracy: 0.8810 - val_auc_2: 0.9807 - val_loss: 0.3272 - val_recall_2: 0.8746\n",
      "Epoch 6/10\n",
      "\u001b[1m107/107\u001b[0m \u001b[32m━━━━━━━━━━━━━━━━━━━━\u001b[0m\u001b[37m\u001b[0m \u001b[1m12s\u001b[0m 116ms/step - accuracy: 0.9374 - auc_2: 0.9941 - loss: 0.1749 - recall_2: 0.9333 - val_accuracy: 0.8939 - val_auc_2: 0.9823 - val_loss: 0.3123 - val_recall_2: 0.8904\n",
      "Epoch 7/10\n",
      "\u001b[1m107/107\u001b[0m \u001b[32m━━━━━━━━━━━━━━━━━━━━\u001b[0m\u001b[37m\u001b[0m \u001b[1m13s\u001b[0m 118ms/step - accuracy: 0.9534 - auc_2: 0.9963 - loss: 0.1334 - recall_2: 0.9503 - val_accuracy: 0.8939 - val_auc_2: 0.9824 - val_loss: 0.3107 - val_recall_2: 0.8863\n",
      "Epoch 8/10\n",
      "\u001b[1m107/107\u001b[0m \u001b[32m━━━━━━━━━━━━━━━━━━━━\u001b[0m\u001b[37m\u001b[0m \u001b[1m13s\u001b[0m 119ms/step - accuracy: 0.9665 - auc_2: 0.9982 - loss: 0.0984 - recall_2: 0.9640 - val_accuracy: 0.8939 - val_auc_2: 0.9805 - val_loss: 0.3453 - val_recall_2: 0.8916\n",
      "Epoch 9/10\n",
      "\u001b[1m107/107\u001b[0m \u001b[32m━━━━━━━━━━━━━━━━━━━━\u001b[0m\u001b[37m\u001b[0m \u001b[1m13s\u001b[0m 117ms/step - accuracy: 0.9764 - auc_2: 0.9990 - loss: 0.0733 - recall_2: 0.9764 - val_accuracy: 0.8986 - val_auc_2: 0.9842 - val_loss: 0.3127 - val_recall_2: 0.8957\n",
      "Epoch 10/10\n",
      "\u001b[1m107/107\u001b[0m \u001b[32m━━━━━━━━━━━━━━━━━━━━\u001b[0m\u001b[37m\u001b[0m \u001b[1m13s\u001b[0m 121ms/step - accuracy: 0.9771 - auc_2: 0.9992 - loss: 0.0661 - recall_2: 0.9757 - val_accuracy: 0.9074 - val_auc_2: 0.9803 - val_loss: 0.3822 - val_recall_2: 0.9045\n",
      "\u001b[1m54/54\u001b[0m \u001b[32m━━━━━━━━━━━━━━━━━━━━\u001b[0m\u001b[37m\u001b[0m \u001b[1m3s\u001b[0m 43ms/step\n",
      "\u001b[1m50/50\u001b[0m \u001b[32m━━━━━━━━━━━━━━━━━━━━\u001b[0m\u001b[37m\u001b[0m \u001b[1m2s\u001b[0m 36ms/step\n"
     ]
    },
    {
     "name": "stderr",
     "output_type": "stream",
     "text": [
      "2024/12/10 23:20:29 WARNING mlflow.keras.save: You are saving a Keras model without specifying model signature.\n",
      "2024/12/10 23:20:40 WARNING mlflow.models.model: Model logged without a signature and input example. Please set `input_example` parameter when logging the model to auto infer the model signature.\n"
     ]
    },
    {
     "name": "stdout",
     "output_type": "stream",
     "text": [
      "\u001b[1m160/160\u001b[0m \u001b[32m━━━━━━━━━━━━━━━━━━━━\u001b[0m\u001b[37m\u001b[0m \u001b[1m6s\u001b[0m 39ms/step\n"
     ]
    },
    {
     "data": {
      "application/vnd.jupyter.widget-view+json": {
       "model_id": "a46a3a2fa9554860bcbc0be9db1edb94",
       "version_major": 2,
       "version_minor": 0
      },
      "text/plain": [
       "Downloading artifacts:   0%|          | 0/7 [00:00<?, ?it/s]"
      ]
     },
     "metadata": {},
     "output_type": "display_data"
    },
    {
     "name": "stdout",
     "output_type": "stream",
     "text": [
      "\u001b[1m1/1\u001b[0m \u001b[32m━━━━━━━━━━━━━━━━━━━━\u001b[0m\u001b[37m\u001b[0m \u001b[1m0s\u001b[0m 62ms/step\n"
     ]
    },
    {
     "name": "stderr",
     "output_type": "stream",
     "text": [
      "Successfully registered model 'convolutional-neural-network'.\n",
      "2024/12/10 23:20:57 INFO mlflow.store.model_registry.abstract_store: Waiting up to 300 seconds for model version to finish creation. Model name: convolutional-neural-network, version 1\n",
      "Created version '1' of model 'convolutional-neural-network'.\n"
     ]
    },
    {
     "name": "stdout",
     "output_type": "stream",
     "text": [
      "🏃 View run CNN : Experiment 1 at: http://127.0.0.1:5000/#/experiments/344762819335167390/runs/ebf5c6e3ba6e459ba70ae803999bd4da\n",
      "🧪 View experiment at: http://127.0.0.1:5000/#/experiments/344762819335167390\n",
      "Starting experiment 2 with parameters: {'filters': 16, 'kernel_size': (3, 3), 'dropout_rate': 0.5, 'batch_size': 32, 'epochs': 10, 'optimizer': 'adam'}\n",
      "Fold 1/3\n"
     ]
    },
    {
     "name": "stderr",
     "output_type": "stream",
     "text": [
      "c:\\Users\\user\\Documents\\GitHub\\ML-Excuses\\env\\Lib\\site-packages\\keras\\src\\layers\\convolutional\\base_conv.py:107: UserWarning: Do not pass an `input_shape`/`input_dim` argument to a layer. When using Sequential models, prefer using an `Input(shape)` object as the first layer in the model instead.\n",
      "  super().__init__(activity_regularizer=activity_regularizer, **kwargs)\n"
     ]
    },
    {
     "name": "stdout",
     "output_type": "stream",
     "text": [
      "Epoch 1/10\n",
      "\u001b[1m107/107\u001b[0m \u001b[32m━━━━━━━━━━━━━━━━━━━━\u001b[0m\u001b[37m\u001b[0m \u001b[1m10s\u001b[0m 85ms/step - accuracy: 0.4547 - auc_3: 0.7333 - loss: 1.1491 - recall_3: 0.2083 - val_accuracy: 0.7504 - val_auc_3: 0.9308 - val_loss: 0.6418 - val_recall_3: 0.6690\n",
      "Epoch 2/10\n",
      "\u001b[1m107/107\u001b[0m \u001b[32m━━━━━━━━━━━━━━━━━━━━\u001b[0m\u001b[37m\u001b[0m \u001b[1m9s\u001b[0m 79ms/step - accuracy: 0.7370 - auc_3: 0.9259 - loss: 0.6615 - recall_3: 0.6658 - val_accuracy: 0.8213 - val_auc_3: 0.9595 - val_loss: 0.4834 - val_recall_3: 0.7827\n",
      "Epoch 3/10\n",
      "\u001b[1m107/107\u001b[0m \u001b[32m━━━━━━━━━━━━━━━━━━━━\u001b[0m\u001b[37m\u001b[0m \u001b[1m8s\u001b[0m 77ms/step - accuracy: 0.7844 - auc_3: 0.9466 - loss: 0.5486 - recall_3: 0.7454 - val_accuracy: 0.8248 - val_auc_3: 0.9661 - val_loss: 0.4387 - val_recall_3: 0.7926\n",
      "Epoch 4/10\n",
      "\u001b[1m107/107\u001b[0m \u001b[32m━━━━━━━━━━━━━━━━━━━━\u001b[0m\u001b[37m\u001b[0m \u001b[1m8s\u001b[0m 77ms/step - accuracy: 0.8354 - auc_3: 0.9643 - loss: 0.4520 - recall_3: 0.8042 - val_accuracy: 0.8266 - val_auc_3: 0.9651 - val_loss: 0.4347 - val_recall_3: 0.8102\n",
      "Epoch 5/10\n",
      "\u001b[1m107/107\u001b[0m \u001b[32m━━━━━━━━━━━━━━━━━━━━\u001b[0m\u001b[37m\u001b[0m \u001b[1m8s\u001b[0m 76ms/step - accuracy: 0.8654 - auc_3: 0.9770 - loss: 0.3562 - recall_3: 0.8397 - val_accuracy: 0.8623 - val_auc_3: 0.9758 - val_loss: 0.3617 - val_recall_3: 0.8477\n",
      "Epoch 6/10\n",
      "\u001b[1m107/107\u001b[0m \u001b[32m━━━━━━━━━━━━━━━━━━━━\u001b[0m\u001b[37m\u001b[0m \u001b[1m8s\u001b[0m 78ms/step - accuracy: 0.8746 - auc_3: 0.9821 - loss: 0.3105 - recall_3: 0.8630 - val_accuracy: 0.8670 - val_auc_3: 0.9739 - val_loss: 0.3841 - val_recall_3: 0.8582\n",
      "Epoch 7/10\n",
      "\u001b[1m107/107\u001b[0m \u001b[32m━━━━━━━━━━━━━━━━━━━━\u001b[0m\u001b[37m\u001b[0m \u001b[1m8s\u001b[0m 77ms/step - accuracy: 0.8966 - auc_3: 0.9872 - loss: 0.2641 - recall_3: 0.8847 - val_accuracy: 0.8840 - val_auc_3: 0.9790 - val_loss: 0.3341 - val_recall_3: 0.8787\n",
      "Epoch 8/10\n",
      "\u001b[1m107/107\u001b[0m \u001b[32m━━━━━━━━━━━━━━━━━━━━\u001b[0m\u001b[37m\u001b[0m \u001b[1m8s\u001b[0m 77ms/step - accuracy: 0.9186 - auc_3: 0.9921 - loss: 0.2075 - recall_3: 0.9111 - val_accuracy: 0.8776 - val_auc_3: 0.9769 - val_loss: 0.3769 - val_recall_3: 0.8735\n",
      "Epoch 9/10\n",
      "\u001b[1m107/107\u001b[0m \u001b[32m━━━━━━━━━━━━━━━━━━━━\u001b[0m\u001b[37m\u001b[0m \u001b[1m8s\u001b[0m 76ms/step - accuracy: 0.9356 - auc_3: 0.9938 - loss: 0.1740 - recall_3: 0.9300 - val_accuracy: 0.9010 - val_auc_3: 0.9848 - val_loss: 0.2836 - val_recall_3: 0.8957\n",
      "Epoch 10/10\n",
      "\u001b[1m107/107\u001b[0m \u001b[32m━━━━━━━━━━━━━━━━━━━━\u001b[0m\u001b[37m\u001b[0m \u001b[1m8s\u001b[0m 76ms/step - accuracy: 0.9461 - auc_3: 0.9960 - loss: 0.1496 - recall_3: 0.9412 - val_accuracy: 0.9022 - val_auc_3: 0.9817 - val_loss: 0.3189 - val_recall_3: 0.8963\n",
      "\u001b[1m54/54\u001b[0m \u001b[32m━━━━━━━━━━━━━━━━━━━━\u001b[0m\u001b[37m\u001b[0m \u001b[1m1s\u001b[0m 20ms/step\n",
      "Fold 2/3\n"
     ]
    },
    {
     "name": "stderr",
     "output_type": "stream",
     "text": [
      "c:\\Users\\user\\Documents\\GitHub\\ML-Excuses\\env\\Lib\\site-packages\\keras\\src\\layers\\convolutional\\base_conv.py:107: UserWarning: Do not pass an `input_shape`/`input_dim` argument to a layer. When using Sequential models, prefer using an `Input(shape)` object as the first layer in the model instead.\n",
      "  super().__init__(activity_regularizer=activity_regularizer, **kwargs)\n"
     ]
    },
    {
     "name": "stdout",
     "output_type": "stream",
     "text": [
      "Epoch 1/10\n",
      "\u001b[1m107/107\u001b[0m \u001b[32m━━━━━━━━━━━━━━━━━━━━\u001b[0m\u001b[37m\u001b[0m \u001b[1m10s\u001b[0m 79ms/step - accuracy: 0.4963 - auc_4: 0.7634 - loss: 1.1182 - recall_4: 0.2443 - val_accuracy: 0.7493 - val_auc_4: 0.9302 - val_loss: 0.6305 - val_recall_4: 0.6913\n",
      "Epoch 2/10\n",
      "\u001b[1m107/107\u001b[0m \u001b[32m━━━━━━━━━━━━━━━━━━━━\u001b[0m\u001b[37m\u001b[0m \u001b[1m10s\u001b[0m 90ms/step - accuracy: 0.7454 - auc_4: 0.9318 - loss: 0.6270 - recall_4: 0.6851 - val_accuracy: 0.7715 - val_auc_4: 0.9479 - val_loss: 0.5550 - val_recall_4: 0.7229\n",
      "Epoch 3/10\n",
      "\u001b[1m107/107\u001b[0m \u001b[32m━━━━━━━━━━━━━━━━━━━━\u001b[0m\u001b[37m\u001b[0m \u001b[1m9s\u001b[0m 81ms/step - accuracy: 0.8018 - auc_4: 0.9579 - loss: 0.4890 - recall_4: 0.7669 - val_accuracy: 0.8336 - val_auc_4: 0.9687 - val_loss: 0.4197 - val_recall_4: 0.8184\n",
      "Epoch 4/10\n",
      "\u001b[1m107/107\u001b[0m \u001b[32m━━━━━━━━━━━━━━━━━━━━\u001b[0m\u001b[37m\u001b[0m \u001b[1m8s\u001b[0m 74ms/step - accuracy: 0.8417 - auc_4: 0.9702 - loss: 0.4062 - recall_4: 0.8246 - val_accuracy: 0.8366 - val_auc_4: 0.9708 - val_loss: 0.3983 - val_recall_4: 0.8219\n",
      "Epoch 5/10\n",
      "\u001b[1m107/107\u001b[0m \u001b[32m━━━━━━━━━━━━━━━━━━━━\u001b[0m\u001b[37m\u001b[0m \u001b[1m8s\u001b[0m 74ms/step - accuracy: 0.8635 - auc_4: 0.9780 - loss: 0.3465 - recall_4: 0.8477 - val_accuracy: 0.8617 - val_auc_4: 0.9773 - val_loss: 0.3507 - val_recall_4: 0.8494\n",
      "Epoch 6/10\n",
      "\u001b[1m107/107\u001b[0m \u001b[32m━━━━━━━━━━━━━━━━━━━━\u001b[0m\u001b[37m\u001b[0m \u001b[1m8s\u001b[0m 74ms/step - accuracy: 0.9123 - auc_4: 0.9890 - loss: 0.2451 - recall_4: 0.9009 - val_accuracy: 0.8694 - val_auc_4: 0.9757 - val_loss: 0.3651 - val_recall_4: 0.8571\n",
      "Epoch 7/10\n",
      "\u001b[1m107/107\u001b[0m \u001b[32m━━━━━━━━━━━━━━━━━━━━\u001b[0m\u001b[37m\u001b[0m \u001b[1m8s\u001b[0m 74ms/step - accuracy: 0.9112 - auc_4: 0.9901 - loss: 0.2286 - recall_4: 0.9018 - val_accuracy: 0.8905 - val_auc_4: 0.9802 - val_loss: 0.3313 - val_recall_4: 0.8846\n",
      "Epoch 8/10\n",
      "\u001b[1m107/107\u001b[0m \u001b[32m━━━━━━━━━━━━━━━━━━━━\u001b[0m\u001b[37m\u001b[0m \u001b[1m8s\u001b[0m 75ms/step - accuracy: 0.9435 - auc_4: 0.9956 - loss: 0.1493 - recall_4: 0.9389 - val_accuracy: 0.8916 - val_auc_4: 0.9789 - val_loss: 0.3339 - val_recall_4: 0.8852\n",
      "Epoch 9/10\n",
      "\u001b[1m107/107\u001b[0m \u001b[32m━━━━━━━━━━━━━━━━━━━━\u001b[0m\u001b[37m\u001b[0m \u001b[1m8s\u001b[0m 79ms/step - accuracy: 0.9517 - auc_4: 0.9966 - loss: 0.1354 - recall_4: 0.9493 - val_accuracy: 0.8805 - val_auc_4: 0.9805 - val_loss: 0.3521 - val_recall_4: 0.8758\n",
      "Epoch 10/10\n",
      "\u001b[1m107/107\u001b[0m \u001b[32m━━━━━━━━━━━━━━━━━━━━\u001b[0m\u001b[37m\u001b[0m \u001b[1m8s\u001b[0m 78ms/step - accuracy: 0.9664 - auc_4: 0.9980 - loss: 0.1046 - recall_4: 0.9624 - val_accuracy: 0.9069 - val_auc_4: 0.9810 - val_loss: 0.3412 - val_recall_4: 0.9039\n",
      "\u001b[1m54/54\u001b[0m \u001b[32m━━━━━━━━━━━━━━━━━━━━\u001b[0m\u001b[37m\u001b[0m \u001b[1m1s\u001b[0m 18ms/step\n",
      "Fold 3/3\n"
     ]
    },
    {
     "name": "stderr",
     "output_type": "stream",
     "text": [
      "c:\\Users\\user\\Documents\\GitHub\\ML-Excuses\\env\\Lib\\site-packages\\keras\\src\\layers\\convolutional\\base_conv.py:107: UserWarning: Do not pass an `input_shape`/`input_dim` argument to a layer. When using Sequential models, prefer using an `Input(shape)` object as the first layer in the model instead.\n",
      "  super().__init__(activity_regularizer=activity_regularizer, **kwargs)\n"
     ]
    },
    {
     "name": "stdout",
     "output_type": "stream",
     "text": [
      "Epoch 1/10\n",
      "\u001b[1m107/107\u001b[0m \u001b[32m━━━━━━━━━━━━━━━━━━━━\u001b[0m\u001b[37m\u001b[0m \u001b[1m9s\u001b[0m 76ms/step - accuracy: 0.5081 - auc_5: 0.7742 - loss: 1.0847 - recall_5: 0.2620 - val_accuracy: 0.7778 - val_auc_5: 0.9373 - val_loss: 0.6111 - val_recall_5: 0.7163\n",
      "Epoch 2/10\n",
      "\u001b[1m107/107\u001b[0m \u001b[32m━━━━━━━━━━━━━━━━━━━━\u001b[0m\u001b[37m\u001b[0m \u001b[1m8s\u001b[0m 74ms/step - accuracy: 0.7614 - auc_5: 0.9367 - loss: 0.6058 - recall_5: 0.7015 - val_accuracy: 0.8283 - val_auc_5: 0.9597 - val_loss: 0.4763 - val_recall_5: 0.8036\n",
      "Epoch 3/10\n",
      "\u001b[1m107/107\u001b[0m \u001b[32m━━━━━━━━━━━━━━━━━━━━\u001b[0m\u001b[37m\u001b[0m \u001b[1m8s\u001b[0m 74ms/step - accuracy: 0.7955 - auc_5: 0.9553 - loss: 0.4998 - recall_5: 0.7563 - val_accuracy: 0.8411 - val_auc_5: 0.9661 - val_loss: 0.4439 - val_recall_5: 0.8195\n",
      "Epoch 4/10\n",
      "\u001b[1m107/107\u001b[0m \u001b[32m━━━━━━━━━━━━━━━━━━━━\u001b[0m\u001b[37m\u001b[0m \u001b[1m8s\u001b[0m 74ms/step - accuracy: 0.8317 - auc_5: 0.9671 - loss: 0.4267 - recall_5: 0.8089 - val_accuracy: 0.8540 - val_auc_5: 0.9681 - val_loss: 0.4324 - val_recall_5: 0.8376\n",
      "Epoch 5/10\n",
      "\u001b[1m107/107\u001b[0m \u001b[32m━━━━━━━━━━━━━━━━━━━━\u001b[0m\u001b[37m\u001b[0m \u001b[1m8s\u001b[0m 74ms/step - accuracy: 0.8641 - auc_5: 0.9804 - loss: 0.3316 - recall_5: 0.8509 - val_accuracy: 0.8587 - val_auc_5: 0.9715 - val_loss: 0.4120 - val_recall_5: 0.8300\n",
      "Epoch 6/10\n",
      "\u001b[1m107/107\u001b[0m \u001b[32m━━━━━━━━━━━━━━━━━━━━\u001b[0m\u001b[37m\u001b[0m \u001b[1m8s\u001b[0m 74ms/step - accuracy: 0.8913 - auc_5: 0.9846 - loss: 0.2894 - recall_5: 0.8761 - val_accuracy: 0.8828 - val_auc_5: 0.9802 - val_loss: 0.3296 - val_recall_5: 0.8716\n",
      "Epoch 7/10\n",
      "\u001b[1m107/107\u001b[0m \u001b[32m━━━━━━━━━━━━━━━━━━━━\u001b[0m\u001b[37m\u001b[0m \u001b[1m8s\u001b[0m 75ms/step - accuracy: 0.9205 - auc_5: 0.9900 - loss: 0.2327 - recall_5: 0.9085 - val_accuracy: 0.8910 - val_auc_5: 0.9834 - val_loss: 0.3034 - val_recall_5: 0.8857\n",
      "Epoch 8/10\n",
      "\u001b[1m107/107\u001b[0m \u001b[32m━━━━━━━━━━━━━━━━━━━━\u001b[0m\u001b[37m\u001b[0m \u001b[1m8s\u001b[0m 77ms/step - accuracy: 0.9382 - auc_5: 0.9937 - loss: 0.1845 - recall_5: 0.9327 - val_accuracy: 0.9015 - val_auc_5: 0.9822 - val_loss: 0.3096 - val_recall_5: 0.8945\n",
      "Epoch 9/10\n",
      "\u001b[1m107/107\u001b[0m \u001b[32m━━━━━━━━━━━━━━━━━━━━\u001b[0m\u001b[37m\u001b[0m \u001b[1m8s\u001b[0m 76ms/step - accuracy: 0.9418 - auc_5: 0.9958 - loss: 0.1477 - recall_5: 0.9362 - val_accuracy: 0.8945 - val_auc_5: 0.9812 - val_loss: 0.3170 - val_recall_5: 0.8857\n",
      "Epoch 10/10\n",
      "\u001b[1m107/107\u001b[0m \u001b[32m━━━━━━━━━━━━━━━━━━━━\u001b[0m\u001b[37m\u001b[0m \u001b[1m8s\u001b[0m 75ms/step - accuracy: 0.9394 - auc_5: 0.9956 - loss: 0.1583 - recall_5: 0.9361 - val_accuracy: 0.9115 - val_auc_5: 0.9843 - val_loss: 0.3183 - val_recall_5: 0.9080\n",
      "\u001b[1m54/54\u001b[0m \u001b[32m━━━━━━━━━━━━━━━━━━━━\u001b[0m\u001b[37m\u001b[0m \u001b[1m1s\u001b[0m 19ms/step\n",
      "\u001b[1m50/50\u001b[0m \u001b[32m━━━━━━━━━━━━━━━━━━━━\u001b[0m\u001b[37m\u001b[0m \u001b[1m1s\u001b[0m 19ms/step\n"
     ]
    },
    {
     "name": "stderr",
     "output_type": "stream",
     "text": [
      "2024/12/10 23:25:15 WARNING mlflow.keras.save: You are saving a Keras model without specifying model signature.\n",
      "2024/12/10 23:25:20 WARNING mlflow.models.model: Model logged without a signature and input example. Please set `input_example` parameter when logging the model to auto infer the model signature.\n"
     ]
    },
    {
     "name": "stdout",
     "output_type": "stream",
     "text": [
      "\u001b[1m160/160\u001b[0m \u001b[32m━━━━━━━━━━━━━━━━━━━━\u001b[0m\u001b[37m\u001b[0m \u001b[1m3s\u001b[0m 16ms/step\n"
     ]
    },
    {
     "data": {
      "application/vnd.jupyter.widget-view+json": {
       "model_id": "80e1f05ce2204571ada4b5c637b5a75e",
       "version_major": 2,
       "version_minor": 0
      },
      "text/plain": [
       "Downloading artifacts:   0%|          | 0/7 [00:00<?, ?it/s]"
      ]
     },
     "metadata": {},
     "output_type": "display_data"
    },
    {
     "name": "stdout",
     "output_type": "stream",
     "text": [
      "\u001b[1m1/1\u001b[0m \u001b[32m━━━━━━━━━━━━━━━━━━━━\u001b[0m\u001b[37m\u001b[0m \u001b[1m0s\u001b[0m 59ms/step\n"
     ]
    },
    {
     "name": "stderr",
     "output_type": "stream",
     "text": [
      "Registered model 'convolutional-neural-network' already exists. Creating a new version of this model...\n",
      "2024/12/10 23:25:28 INFO mlflow.store.model_registry.abstract_store: Waiting up to 300 seconds for model version to finish creation. Model name: convolutional-neural-network, version 2\n",
      "Created version '2' of model 'convolutional-neural-network'.\n"
     ]
    },
    {
     "name": "stdout",
     "output_type": "stream",
     "text": [
      "🏃 View run CNN : Experiment 2 at: http://127.0.0.1:5000/#/experiments/344762819335167390/runs/0691c41a1bc54dbcb837edc3462cbbd1\n",
      "🧪 View experiment at: http://127.0.0.1:5000/#/experiments/344762819335167390\n",
      "Starting experiment 3 with parameters: {'filters': 32, 'kernel_size': (3, 3), 'dropout_rate': 0.3, 'batch_size': 32, 'epochs': 10, 'optimizer': 'adam'}\n",
      "Fold 1/3\n",
      "Epoch 1/10\n"
     ]
    },
    {
     "name": "stderr",
     "output_type": "stream",
     "text": [
      "c:\\Users\\user\\Documents\\GitHub\\ML-Excuses\\env\\Lib\\site-packages\\keras\\src\\layers\\convolutional\\base_conv.py:107: UserWarning: Do not pass an `input_shape`/`input_dim` argument to a layer. When using Sequential models, prefer using an `Input(shape)` object as the first layer in the model instead.\n",
      "  super().__init__(activity_regularizer=activity_regularizer, **kwargs)\n"
     ]
    },
    {
     "name": "stdout",
     "output_type": "stream",
     "text": [
      "\u001b[1m107/107\u001b[0m \u001b[32m━━━━━━━━━━━━━━━━━━━━\u001b[0m\u001b[37m\u001b[0m \u001b[1m23s\u001b[0m 209ms/step - accuracy: 0.4804 - auc_6: 0.7432 - loss: 1.1708 - recall_6: 0.2328 - val_accuracy: 0.7768 - val_auc_6: 0.9422 - val_loss: 0.5960 - val_recall_6: 0.6989\n",
      "Epoch 2/10\n",
      "\u001b[1m107/107\u001b[0m \u001b[32m━━━━━━━━━━━━━━━━━━━━\u001b[0m\u001b[37m\u001b[0m \u001b[1m21s\u001b[0m 195ms/step - accuracy: 0.7803 - auc_6: 0.9464 - loss: 0.5559 - recall_6: 0.7371 - val_accuracy: 0.8360 - val_auc_6: 0.9632 - val_loss: 0.4499 - val_recall_6: 0.8184\n",
      "Epoch 3/10\n",
      "\u001b[1m107/107\u001b[0m \u001b[32m━━━━━━━━━━━━━━━━━━━━\u001b[0m\u001b[37m\u001b[0m \u001b[1m21s\u001b[0m 196ms/step - accuracy: 0.8428 - auc_6: 0.9693 - loss: 0.4077 - recall_6: 0.8278 - val_accuracy: 0.8500 - val_auc_6: 0.9699 - val_loss: 0.4065 - val_recall_6: 0.8266\n",
      "Epoch 4/10\n",
      "\u001b[1m107/107\u001b[0m \u001b[32m━━━━━━━━━━━━━━━━━━━━\u001b[0m\u001b[37m\u001b[0m \u001b[1m21s\u001b[0m 192ms/step - accuracy: 0.8663 - auc_6: 0.9773 - loss: 0.3532 - recall_6: 0.8472 - val_accuracy: 0.8436 - val_auc_6: 0.9749 - val_loss: 0.3704 - val_recall_6: 0.8248\n",
      "Epoch 5/10\n",
      "\u001b[1m107/107\u001b[0m \u001b[32m━━━━━━━━━━━━━━━━━━━━\u001b[0m\u001b[37m\u001b[0m \u001b[1m21s\u001b[0m 194ms/step - accuracy: 0.9150 - auc_6: 0.9883 - loss: 0.2491 - recall_6: 0.9000 - val_accuracy: 0.8992 - val_auc_6: 0.9847 - val_loss: 0.2832 - val_recall_6: 0.8905\n",
      "Epoch 6/10\n",
      "\u001b[1m107/107\u001b[0m \u001b[32m━━━━━━━━━━━━━━━━━━━━\u001b[0m\u001b[37m\u001b[0m \u001b[1m21s\u001b[0m 195ms/step - accuracy: 0.9266 - auc_6: 0.9930 - loss: 0.1944 - recall_6: 0.9221 - val_accuracy: 0.8963 - val_auc_6: 0.9803 - val_loss: 0.3447 - val_recall_6: 0.8940\n",
      "Epoch 7/10\n",
      "\u001b[1m107/107\u001b[0m \u001b[32m━━━━━━━━━━━━━━━━━━━━\u001b[0m\u001b[37m\u001b[0m \u001b[1m21s\u001b[0m 198ms/step - accuracy: 0.9355 - auc_6: 0.9925 - loss: 0.1869 - recall_6: 0.9290 - val_accuracy: 0.8946 - val_auc_6: 0.9836 - val_loss: 0.3080 - val_recall_6: 0.8916\n",
      "Epoch 8/10\n",
      "\u001b[1m107/107\u001b[0m \u001b[32m━━━━━━━━━━━━━━━━━━━━\u001b[0m\u001b[37m\u001b[0m \u001b[1m21s\u001b[0m 196ms/step - accuracy: 0.9514 - auc_6: 0.9966 - loss: 0.1258 - recall_6: 0.9493 - val_accuracy: 0.9104 - val_auc_6: 0.9827 - val_loss: 0.2940 - val_recall_6: 0.9086\n",
      "\u001b[1m54/54\u001b[0m \u001b[32m━━━━━━━━━━━━━━━━━━━━\u001b[0m\u001b[37m\u001b[0m \u001b[1m3s\u001b[0m 47ms/step\n",
      "Fold 2/3\n",
      "Epoch 1/10\n"
     ]
    },
    {
     "name": "stderr",
     "output_type": "stream",
     "text": [
      "c:\\Users\\user\\Documents\\GitHub\\ML-Excuses\\env\\Lib\\site-packages\\keras\\src\\layers\\convolutional\\base_conv.py:107: UserWarning: Do not pass an `input_shape`/`input_dim` argument to a layer. When using Sequential models, prefer using an `Input(shape)` object as the first layer in the model instead.\n",
      "  super().__init__(activity_regularizer=activity_regularizer, **kwargs)\n"
     ]
    },
    {
     "name": "stdout",
     "output_type": "stream",
     "text": [
      "\u001b[1m107/107\u001b[0m \u001b[32m━━━━━━━━━━━━━━━━━━━━\u001b[0m\u001b[37m\u001b[0m \u001b[1m23s\u001b[0m 205ms/step - accuracy: 0.4886 - auc_7: 0.7727 - loss: 1.1075 - recall_7: 0.2513 - val_accuracy: 0.7317 - val_auc_7: 0.9253 - val_loss: 0.6531 - val_recall_7: 0.6673\n",
      "Epoch 2/10\n",
      "\u001b[1m107/107\u001b[0m \u001b[32m━━━━━━━━━━━━━━━━━━━━\u001b[0m\u001b[37m\u001b[0m \u001b[1m22s\u001b[0m 210ms/step - accuracy: 0.7394 - auc_7: 0.9266 - loss: 0.6491 - recall_7: 0.6678 - val_accuracy: 0.8125 - val_auc_7: 0.9598 - val_loss: 0.4777 - val_recall_7: 0.7832\n",
      "Epoch 3/10\n",
      "\u001b[1m107/107\u001b[0m \u001b[32m━━━━━━━━━━━━━━━━━━━━\u001b[0m\u001b[37m\u001b[0m \u001b[1m22s\u001b[0m 204ms/step - accuracy: 0.8102 - auc_7: 0.9616 - loss: 0.4672 - recall_7: 0.7819 - val_accuracy: 0.7645 - val_auc_7: 0.9421 - val_loss: 0.5921 - val_recall_7: 0.7452\n",
      "Epoch 4/10\n",
      "\u001b[1m107/107\u001b[0m \u001b[32m━━━━━━━━━━━━━━━━━━━━\u001b[0m\u001b[37m\u001b[0m \u001b[1m22s\u001b[0m 207ms/step - accuracy: 0.8405 - auc_7: 0.9717 - loss: 0.3946 - recall_7: 0.8190 - val_accuracy: 0.8453 - val_auc_7: 0.9733 - val_loss: 0.3832 - val_recall_7: 0.8295\n",
      "Epoch 5/10\n",
      "\u001b[1m107/107\u001b[0m \u001b[32m━━━━━━━━━━━━━━━━━━━━\u001b[0m\u001b[37m\u001b[0m \u001b[1m21s\u001b[0m 200ms/step - accuracy: 0.8956 - auc_7: 0.9844 - loss: 0.2868 - recall_7: 0.8833 - val_accuracy: 0.8518 - val_auc_7: 0.9717 - val_loss: 0.3928 - val_recall_7: 0.8366\n",
      "Epoch 6/10\n",
      "\u001b[1m107/107\u001b[0m \u001b[32m━━━━━━━━━━━━━━━━━━━━\u001b[0m\u001b[37m\u001b[0m \u001b[1m22s\u001b[0m 204ms/step - accuracy: 0.9081 - auc_7: 0.9908 - loss: 0.2216 - recall_7: 0.9024 - val_accuracy: 0.8699 - val_auc_7: 0.9800 - val_loss: 0.3294 - val_recall_7: 0.8647\n",
      "Epoch 7/10\n",
      "\u001b[1m107/107\u001b[0m \u001b[32m━━━━━━━━━━━━━━━━━━━━\u001b[0m\u001b[37m\u001b[0m \u001b[1m22s\u001b[0m 205ms/step - accuracy: 0.9362 - auc_7: 0.9948 - loss: 0.1668 - recall_7: 0.9343 - val_accuracy: 0.8477 - val_auc_7: 0.9728 - val_loss: 0.4749 - val_recall_7: 0.8442\n",
      "Epoch 8/10\n",
      "\u001b[1m107/107\u001b[0m \u001b[32m━━━━━━━━━━━━━━━━━━━━\u001b[0m\u001b[37m\u001b[0m \u001b[1m21s\u001b[0m 201ms/step - accuracy: 0.9419 - auc_7: 0.9951 - loss: 0.1567 - recall_7: 0.9389 - val_accuracy: 0.8905 - val_auc_7: 0.9811 - val_loss: 0.3370 - val_recall_7: 0.8858\n",
      "Epoch 9/10\n",
      "\u001b[1m107/107\u001b[0m \u001b[32m━━━━━━━━━━━━━━━━━━━━\u001b[0m\u001b[37m\u001b[0m \u001b[1m22s\u001b[0m 204ms/step - accuracy: 0.9638 - auc_7: 0.9977 - loss: 0.1095 - recall_7: 0.9602 - val_accuracy: 0.8957 - val_auc_7: 0.9816 - val_loss: 0.3513 - val_recall_7: 0.8957\n",
      "\u001b[1m54/54\u001b[0m \u001b[32m━━━━━━━━━━━━━━━━━━━━\u001b[0m\u001b[37m\u001b[0m \u001b[1m3s\u001b[0m 48ms/step\n",
      "Fold 3/3\n",
      "Epoch 1/10\n"
     ]
    },
    {
     "name": "stderr",
     "output_type": "stream",
     "text": [
      "c:\\Users\\user\\Documents\\GitHub\\ML-Excuses\\env\\Lib\\site-packages\\keras\\src\\layers\\convolutional\\base_conv.py:107: UserWarning: Do not pass an `input_shape`/`input_dim` argument to a layer. When using Sequential models, prefer using an `Input(shape)` object as the first layer in the model instead.\n",
      "  super().__init__(activity_regularizer=activity_regularizer, **kwargs)\n"
     ]
    },
    {
     "name": "stdout",
     "output_type": "stream",
     "text": [
      "\u001b[1m107/107\u001b[0m \u001b[32m━━━━━━━━━━━━━━━━━━━━\u001b[0m\u001b[37m\u001b[0m \u001b[1m23s\u001b[0m 210ms/step - accuracy: 0.5129 - auc_8: 0.7665 - loss: 1.1004 - recall_8: 0.2763 - val_accuracy: 0.7984 - val_auc_8: 0.9477 - val_loss: 0.5529 - val_recall_8: 0.7638\n",
      "Epoch 2/10\n",
      "\u001b[1m107/107\u001b[0m \u001b[32m━━━━━━━━━━━━━━━━━━━━\u001b[0m\u001b[37m\u001b[0m \u001b[1m22s\u001b[0m 204ms/step - accuracy: 0.7638 - auc_8: 0.9410 - loss: 0.5747 - recall_8: 0.7228 - val_accuracy: 0.8253 - val_auc_8: 0.9581 - val_loss: 0.4921 - val_recall_8: 0.7907\n",
      "Epoch 3/10\n",
      "\u001b[1m107/107\u001b[0m \u001b[32m━━━━━━━━━━━━━━━━━━━━\u001b[0m\u001b[37m\u001b[0m \u001b[1m40s\u001b[0m 193ms/step - accuracy: 0.8207 - auc_8: 0.9640 - loss: 0.4453 - recall_8: 0.7910 - val_accuracy: 0.8634 - val_auc_8: 0.9727 - val_loss: 0.4032 - val_recall_8: 0.8388\n",
      "Epoch 4/10\n",
      "\u001b[1m107/107\u001b[0m \u001b[32m━━━━━━━━━━━━━━━━━━━━\u001b[0m\u001b[37m\u001b[0m \u001b[1m22s\u001b[0m 204ms/step - accuracy: 0.8682 - auc_8: 0.9770 - loss: 0.3561 - recall_8: 0.8488 - val_accuracy: 0.8576 - val_auc_8: 0.9739 - val_loss: 0.3834 - val_recall_8: 0.8447\n",
      "Epoch 5/10\n",
      "\u001b[1m107/107\u001b[0m \u001b[32m━━━━━━━━━━━━━━━━━━━━\u001b[0m\u001b[37m\u001b[0m \u001b[1m22s\u001b[0m 201ms/step - accuracy: 0.9091 - auc_8: 0.9888 - loss: 0.2495 - recall_8: 0.8950 - val_accuracy: 0.8792 - val_auc_8: 0.9777 - val_loss: 0.3584 - val_recall_8: 0.8728\n",
      "Epoch 6/10\n",
      "\u001b[1m107/107\u001b[0m \u001b[32m━━━━━━━━━━━━━━━━━━━━\u001b[0m\u001b[37m\u001b[0m \u001b[1m21s\u001b[0m 197ms/step - accuracy: 0.9293 - auc_8: 0.9930 - loss: 0.1912 - recall_8: 0.9243 - val_accuracy: 0.9039 - val_auc_8: 0.9830 - val_loss: 0.2994 - val_recall_8: 0.8998\n",
      "Epoch 7/10\n",
      "\u001b[1m107/107\u001b[0m \u001b[32m━━━━━━━━━━━━━━━━━━━━\u001b[0m\u001b[37m\u001b[0m \u001b[1m40s\u001b[0m 186ms/step - accuracy: 0.9563 - auc_8: 0.9963 - loss: 0.1322 - recall_8: 0.9527 - val_accuracy: 0.8980 - val_auc_8: 0.9802 - val_loss: 0.3515 - val_recall_8: 0.8939\n",
      "Epoch 8/10\n",
      "\u001b[1m107/107\u001b[0m \u001b[32m━━━━━━━━━━━━━━━━━━━━\u001b[0m\u001b[37m\u001b[0m \u001b[1m21s\u001b[0m 198ms/step - accuracy: 0.9557 - auc_8: 0.9972 - loss: 0.1219 - recall_8: 0.9539 - val_accuracy: 0.9091 - val_auc_8: 0.9849 - val_loss: 0.3004 - val_recall_8: 0.9074\n",
      "Epoch 9/10\n",
      "\u001b[1m107/107\u001b[0m \u001b[32m━━━━━━━━━━━━━━━━━━━━\u001b[0m\u001b[37m\u001b[0m \u001b[1m21s\u001b[0m 195ms/step - accuracy: 0.9769 - auc_8: 0.9990 - loss: 0.0681 - recall_8: 0.9753 - val_accuracy: 0.9220 - val_auc_8: 0.9830 - val_loss: 0.3316 - val_recall_8: 0.9209\n",
      "\u001b[1m54/54\u001b[0m \u001b[32m━━━━━━━━━━━━━━━━━━━━\u001b[0m\u001b[37m\u001b[0m \u001b[1m2s\u001b[0m 45ms/step\n",
      "\u001b[1m50/50\u001b[0m \u001b[32m━━━━━━━━━━━━━━━━━━━━\u001b[0m\u001b[37m\u001b[0m \u001b[1m2s\u001b[0m 46ms/step\n"
     ]
    },
    {
     "name": "stderr",
     "output_type": "stream",
     "text": [
      "2024/12/10 23:35:41 WARNING mlflow.keras.save: You are saving a Keras model without specifying model signature.\n",
      "2024/12/10 23:35:45 WARNING mlflow.models.model: Model logged without a signature and input example. Please set `input_example` parameter when logging the model to auto infer the model signature.\n"
     ]
    },
    {
     "name": "stdout",
     "output_type": "stream",
     "text": [
      "\u001b[1m160/160\u001b[0m \u001b[32m━━━━━━━━━━━━━━━━━━━━\u001b[0m\u001b[37m\u001b[0m \u001b[1m7s\u001b[0m 43ms/step\n"
     ]
    },
    {
     "data": {
      "application/vnd.jupyter.widget-view+json": {
       "model_id": "c71d718620804344889aaf7db665e963",
       "version_major": 2,
       "version_minor": 0
      },
      "text/plain": [
       "Downloading artifacts:   0%|          | 0/7 [00:00<?, ?it/s]"
      ]
     },
     "metadata": {},
     "output_type": "display_data"
    },
    {
     "name": "stdout",
     "output_type": "stream",
     "text": [
      "\u001b[1m1/1\u001b[0m \u001b[32m━━━━━━━━━━━━━━━━━━━━\u001b[0m\u001b[37m\u001b[0m \u001b[1m0s\u001b[0m 70ms/step\n"
     ]
    },
    {
     "name": "stderr",
     "output_type": "stream",
     "text": [
      "Registered model 'convolutional-neural-network' already exists. Creating a new version of this model...\n",
      "2024/12/10 23:35:58 INFO mlflow.store.model_registry.abstract_store: Waiting up to 300 seconds for model version to finish creation. Model name: convolutional-neural-network, version 3\n",
      "Created version '3' of model 'convolutional-neural-network'.\n"
     ]
    },
    {
     "name": "stdout",
     "output_type": "stream",
     "text": [
      "🏃 View run CNN : Experiment 3 at: http://127.0.0.1:5000/#/experiments/344762819335167390/runs/e8c4caba61494315b0c7cfeaccf76c72\n",
      "🧪 View experiment at: http://127.0.0.1:5000/#/experiments/344762819335167390\n",
      "Starting experiment 4 with parameters: {'filters': 32, 'kernel_size': (3, 3), 'dropout_rate': 0.5, 'batch_size': 32, 'epochs': 10, 'optimizer': 'adam'}\n",
      "Fold 1/3\n"
     ]
    },
    {
     "name": "stderr",
     "output_type": "stream",
     "text": [
      "c:\\Users\\user\\Documents\\GitHub\\ML-Excuses\\env\\Lib\\site-packages\\keras\\src\\layers\\convolutional\\base_conv.py:107: UserWarning: Do not pass an `input_shape`/`input_dim` argument to a layer. When using Sequential models, prefer using an `Input(shape)` object as the first layer in the model instead.\n",
      "  super().__init__(activity_regularizer=activity_regularizer, **kwargs)\n"
     ]
    },
    {
     "name": "stdout",
     "output_type": "stream",
     "text": [
      "Epoch 1/10\n",
      "\u001b[1m107/107\u001b[0m \u001b[32m━━━━━━━━━━━━━━━━━━━━\u001b[0m\u001b[37m\u001b[0m \u001b[1m23s\u001b[0m 201ms/step - accuracy: 0.4751 - auc_9: 0.7497 - loss: 1.1494 - recall_9: 0.2203 - val_accuracy: 0.7100 - val_auc_9: 0.9264 - val_loss: 0.6544 - val_recall_9: 0.6550\n",
      "Epoch 2/10\n",
      "\u001b[1m107/107\u001b[0m \u001b[32m━━━━━━━━━━━━━━━━━━━━\u001b[0m\u001b[37m\u001b[0m \u001b[1m21s\u001b[0m 196ms/step - accuracy: 0.7457 - auc_9: 0.9243 - loss: 0.6655 - recall_9: 0.6773 - val_accuracy: 0.8213 - val_auc_9: 0.9613 - val_loss: 0.4787 - val_recall_9: 0.7780\n",
      "Epoch 3/10\n",
      "\u001b[1m107/107\u001b[0m \u001b[32m━━━━━━━━━━━━━━━━━━━━\u001b[0m\u001b[37m\u001b[0m \u001b[1m21s\u001b[0m 198ms/step - accuracy: 0.7989 - auc_9: 0.9513 - loss: 0.5250 - recall_9: 0.7637 - val_accuracy: 0.8389 - val_auc_9: 0.9681 - val_loss: 0.4203 - val_recall_9: 0.8172\n",
      "Epoch 4/10\n",
      "\u001b[1m107/107\u001b[0m \u001b[32m━━━━━━━━━━━━━━━━━━━━\u001b[0m\u001b[37m\u001b[0m \u001b[1m21s\u001b[0m 197ms/step - accuracy: 0.8360 - auc_9: 0.9691 - loss: 0.4177 - recall_9: 0.8070 - val_accuracy: 0.8284 - val_auc_9: 0.9694 - val_loss: 0.4085 - val_recall_9: 0.8108\n",
      "Epoch 5/10\n",
      "\u001b[1m107/107\u001b[0m \u001b[32m━━━━━━━━━━━━━━━━━━━━\u001b[0m\u001b[37m\u001b[0m \u001b[1m21s\u001b[0m 199ms/step - accuracy: 0.8590 - auc_9: 0.9787 - loss: 0.3421 - recall_9: 0.8428 - val_accuracy: 0.8594 - val_auc_9: 0.9787 - val_loss: 0.3423 - val_recall_9: 0.8518\n",
      "Epoch 6/10\n",
      "\u001b[1m107/107\u001b[0m \u001b[32m━━━━━━━━━━━━━━━━━━━━\u001b[0m\u001b[37m\u001b[0m \u001b[1m21s\u001b[0m 200ms/step - accuracy: 0.8930 - auc_9: 0.9840 - loss: 0.2966 - recall_9: 0.8788 - val_accuracy: 0.8770 - val_auc_9: 0.9785 - val_loss: 0.3390 - val_recall_9: 0.8699\n",
      "Epoch 7/10\n",
      "\u001b[1m107/107\u001b[0m \u001b[32m━━━━━━━━━━━━━━━━━━━━\u001b[0m\u001b[37m\u001b[0m \u001b[1m22s\u001b[0m 204ms/step - accuracy: 0.9211 - auc_9: 0.9919 - loss: 0.2068 - recall_9: 0.9120 - val_accuracy: 0.8864 - val_auc_9: 0.9828 - val_loss: 0.2934 - val_recall_9: 0.8776\n",
      "Epoch 8/10\n",
      "\u001b[1m107/107\u001b[0m \u001b[32m━━━━━━━━━━━━━━━━━━━━\u001b[0m\u001b[37m\u001b[0m \u001b[1m22s\u001b[0m 205ms/step - accuracy: 0.9444 - auc_9: 0.9945 - loss: 0.1692 - recall_9: 0.9335 - val_accuracy: 0.9057 - val_auc_9: 0.9848 - val_loss: 0.2941 - val_recall_9: 0.9039\n",
      "Epoch 9/10\n",
      "\u001b[1m107/107\u001b[0m \u001b[32m━━━━━━━━━━━━━━━━━━━━\u001b[0m\u001b[37m\u001b[0m \u001b[1m22s\u001b[0m 206ms/step - accuracy: 0.9443 - auc_9: 0.9955 - loss: 0.1489 - recall_9: 0.9411 - val_accuracy: 0.9028 - val_auc_9: 0.9827 - val_loss: 0.3001 - val_recall_9: 0.8992\n",
      "Epoch 10/10\n",
      "\u001b[1m107/107\u001b[0m \u001b[32m━━━━━━━━━━━━━━━━━━━━\u001b[0m\u001b[37m\u001b[0m \u001b[1m22s\u001b[0m 205ms/step - accuracy: 0.9554 - auc_9: 0.9971 - loss: 0.1143 - recall_9: 0.9535 - val_accuracy: 0.9139 - val_auc_9: 0.9837 - val_loss: 0.2929 - val_recall_9: 0.9133\n",
      "\u001b[1m54/54\u001b[0m \u001b[32m━━━━━━━━━━━━━━━━━━━━\u001b[0m\u001b[37m\u001b[0m \u001b[1m3s\u001b[0m 50ms/step\n",
      "Fold 2/3\n"
     ]
    },
    {
     "name": "stderr",
     "output_type": "stream",
     "text": [
      "c:\\Users\\user\\Documents\\GitHub\\ML-Excuses\\env\\Lib\\site-packages\\keras\\src\\layers\\convolutional\\base_conv.py:107: UserWarning: Do not pass an `input_shape`/`input_dim` argument to a layer. When using Sequential models, prefer using an `Input(shape)` object as the first layer in the model instead.\n",
      "  super().__init__(activity_regularizer=activity_regularizer, **kwargs)\n"
     ]
    },
    {
     "name": "stdout",
     "output_type": "stream",
     "text": [
      "Epoch 1/10\n",
      "\u001b[1m107/107\u001b[0m \u001b[32m━━━━━━━━━━━━━━━━━━━━\u001b[0m\u001b[37m\u001b[0m \u001b[1m24s\u001b[0m 211ms/step - accuracy: 0.4880 - auc_10: 0.7660 - loss: 1.1029 - recall_10: 0.2629 - val_accuracy: 0.7551 - val_auc_10: 0.9383 - val_loss: 0.6145 - val_recall_10: 0.6766\n",
      "Epoch 2/10\n",
      "\u001b[1m107/107\u001b[0m \u001b[32m━━━━━━━━━━━━━━━━━━━━\u001b[0m\u001b[37m\u001b[0m \u001b[1m22s\u001b[0m 210ms/step - accuracy: 0.7622 - auc_10: 0.9384 - loss: 0.5959 - recall_10: 0.7056 - val_accuracy: 0.7698 - val_auc_10: 0.9512 - val_loss: 0.5227 - val_recall_10: 0.7422\n",
      "Epoch 3/10\n",
      "\u001b[1m107/107\u001b[0m \u001b[32m━━━━━━━━━━━━━━━━━━━━\u001b[0m\u001b[37m\u001b[0m \u001b[1m22s\u001b[0m 208ms/step - accuracy: 0.8127 - auc_10: 0.9580 - loss: 0.4897 - recall_10: 0.7863 - val_accuracy: 0.8289 - val_auc_10: 0.9646 - val_loss: 0.4455 - val_recall_10: 0.8079\n",
      "Epoch 4/10\n",
      "\u001b[1m107/107\u001b[0m \u001b[32m━━━━━━━━━━━━━━━━━━━━\u001b[0m\u001b[37m\u001b[0m \u001b[1m22s\u001b[0m 205ms/step - accuracy: 0.8525 - auc_10: 0.9726 - loss: 0.3909 - recall_10: 0.8278 - val_accuracy: 0.8582 - val_auc_10: 0.9726 - val_loss: 0.3835 - val_recall_10: 0.8489\n",
      "Epoch 5/10\n",
      "\u001b[1m107/107\u001b[0m \u001b[32m━━━━━━━━━━━━━━━━━━━━\u001b[0m\u001b[37m\u001b[0m \u001b[1m22s\u001b[0m 202ms/step - accuracy: 0.8887 - auc_10: 0.9813 - loss: 0.3176 - recall_10: 0.8729 - val_accuracy: 0.8752 - val_auc_10: 0.9773 - val_loss: 0.3607 - val_recall_10: 0.8682\n",
      "Epoch 6/10\n",
      "\u001b[1m107/107\u001b[0m \u001b[32m━━━━━━━━━━━━━━━━━━━━\u001b[0m\u001b[37m\u001b[0m \u001b[1m21s\u001b[0m 199ms/step - accuracy: 0.9070 - auc_10: 0.9892 - loss: 0.2412 - recall_10: 0.8982 - val_accuracy: 0.8817 - val_auc_10: 0.9798 - val_loss: 0.3461 - val_recall_10: 0.8694\n",
      "Epoch 7/10\n",
      "\u001b[1m107/107\u001b[0m \u001b[32m━━━━━━━━━━━━━━━━━━━━\u001b[0m\u001b[37m\u001b[0m \u001b[1m21s\u001b[0m 195ms/step - accuracy: 0.9244 - auc_10: 0.9928 - loss: 0.1914 - recall_10: 0.9175 - val_accuracy: 0.9010 - val_auc_10: 0.9811 - val_loss: 0.3278 - val_recall_10: 0.8981\n",
      "Epoch 8/10\n",
      "\u001b[1m107/107\u001b[0m \u001b[32m━━━━━━━━━━━━━━━━━━━━\u001b[0m\u001b[37m\u001b[0m \u001b[1m21s\u001b[0m 198ms/step - accuracy: 0.9413 - auc_10: 0.9956 - loss: 0.1479 - recall_10: 0.9373 - val_accuracy: 0.8940 - val_auc_10: 0.9818 - val_loss: 0.3303 - val_recall_10: 0.8916\n",
      "Epoch 9/10\n",
      "\u001b[1m107/107\u001b[0m \u001b[32m━━━━━━━━━━━━━━━━━━━━\u001b[0m\u001b[37m\u001b[0m \u001b[1m21s\u001b[0m 199ms/step - accuracy: 0.9598 - auc_10: 0.9979 - loss: 0.1092 - recall_10: 0.9593 - val_accuracy: 0.8881 - val_auc_10: 0.9816 - val_loss: 0.3264 - val_recall_10: 0.8834\n",
      "Epoch 10/10\n",
      "\u001b[1m107/107\u001b[0m \u001b[32m━━━━━━━━━━━━━━━━━━━━\u001b[0m\u001b[37m\u001b[0m \u001b[1m22s\u001b[0m 202ms/step - accuracy: 0.9670 - auc_10: 0.9983 - loss: 0.0946 - recall_10: 0.9657 - val_accuracy: 0.9156 - val_auc_10: 0.9838 - val_loss: 0.3313 - val_recall_10: 0.9156\n",
      "\u001b[1m54/54\u001b[0m \u001b[32m━━━━━━━━━━━━━━━━━━━━\u001b[0m\u001b[37m\u001b[0m \u001b[1m3s\u001b[0m 49ms/step\n",
      "Fold 3/3\n"
     ]
    },
    {
     "name": "stderr",
     "output_type": "stream",
     "text": [
      "c:\\Users\\user\\Documents\\GitHub\\ML-Excuses\\env\\Lib\\site-packages\\keras\\src\\layers\\convolutional\\base_conv.py:107: UserWarning: Do not pass an `input_shape`/`input_dim` argument to a layer. When using Sequential models, prefer using an `Input(shape)` object as the first layer in the model instead.\n",
      "  super().__init__(activity_regularizer=activity_regularizer, **kwargs)\n"
     ]
    },
    {
     "name": "stdout",
     "output_type": "stream",
     "text": [
      "Epoch 1/10\n",
      "\u001b[1m107/107\u001b[0m \u001b[32m━━━━━━━━━━━━━━━━━━━━\u001b[0m\u001b[37m\u001b[0m \u001b[1m23s\u001b[0m 205ms/step - accuracy: 0.4935 - auc_11: 0.7450 - loss: 1.1707 - recall_11: 0.2406 - val_accuracy: 0.8042 - val_auc_11: 0.9499 - val_loss: 0.5566 - val_recall_11: 0.7403\n",
      "Epoch 2/10\n",
      "\u001b[1m107/107\u001b[0m \u001b[32m━━━━━━━━━━━━━━━━━━━━\u001b[0m\u001b[37m\u001b[0m \u001b[1m22s\u001b[0m 205ms/step - accuracy: 0.7310 - auc_11: 0.9232 - loss: 0.6617 - recall_11: 0.6546 - val_accuracy: 0.7339 - val_auc_11: 0.9381 - val_loss: 0.6021 - val_recall_11: 0.7052\n",
      "Epoch 3/10\n",
      "\u001b[1m107/107\u001b[0m \u001b[32m━━━━━━━━━━━━━━━━━━━━\u001b[0m\u001b[37m\u001b[0m \u001b[1m22s\u001b[0m 201ms/step - accuracy: 0.7889 - auc_11: 0.9549 - loss: 0.5075 - recall_11: 0.7559 - val_accuracy: 0.8218 - val_auc_11: 0.9635 - val_loss: 0.4505 - val_recall_11: 0.8001\n",
      "Epoch 4/10\n",
      "\u001b[1m107/107\u001b[0m \u001b[32m━━━━━━━━━━━━━━━━━━━━\u001b[0m\u001b[37m\u001b[0m \u001b[1m22s\u001b[0m 208ms/step - accuracy: 0.8477 - auc_11: 0.9706 - loss: 0.4043 - recall_11: 0.8226 - val_accuracy: 0.8880 - val_auc_11: 0.9735 - val_loss: 0.3719 - val_recall_11: 0.8792\n",
      "Epoch 5/10\n",
      "\u001b[1m107/107\u001b[0m \u001b[32m━━━━━━━━━━━━━━━━━━━━\u001b[0m\u001b[37m\u001b[0m \u001b[1m22s\u001b[0m 209ms/step - accuracy: 0.8932 - auc_11: 0.9848 - loss: 0.2866 - recall_11: 0.8753 - val_accuracy: 0.8916 - val_auc_11: 0.9820 - val_loss: 0.3163 - val_recall_11: 0.8804\n",
      "Epoch 6/10\n",
      "\u001b[1m107/107\u001b[0m \u001b[32m━━━━━━━━━━━━━━━━━━━━\u001b[0m\u001b[37m\u001b[0m \u001b[1m22s\u001b[0m 209ms/step - accuracy: 0.9100 - auc_11: 0.9891 - loss: 0.2406 - recall_11: 0.9008 - val_accuracy: 0.9027 - val_auc_11: 0.9848 - val_loss: 0.2922 - val_recall_11: 0.8939\n",
      "Epoch 7/10\n",
      "\u001b[1m107/107\u001b[0m \u001b[32m━━━━━━━━━━━━━━━━━━━━\u001b[0m\u001b[37m\u001b[0m \u001b[1m22s\u001b[0m 209ms/step - accuracy: 0.9276 - auc_11: 0.9910 - loss: 0.2086 - recall_11: 0.9181 - val_accuracy: 0.9068 - val_auc_11: 0.9847 - val_loss: 0.2853 - val_recall_11: 0.9033\n",
      "Epoch 8/10\n",
      "\u001b[1m107/107\u001b[0m \u001b[32m━━━━━━━━━━━━━━━━━━━━\u001b[0m\u001b[37m\u001b[0m \u001b[1m22s\u001b[0m 210ms/step - accuracy: 0.9277 - auc_11: 0.9939 - loss: 0.1778 - recall_11: 0.9206 - val_accuracy: 0.9203 - val_auc_11: 0.9850 - val_loss: 0.2756 - val_recall_11: 0.9191\n",
      "Epoch 9/10\n",
      "\u001b[1m107/107\u001b[0m \u001b[32m━━━━━━━━━━━━━━━━━━━━\u001b[0m\u001b[37m\u001b[0m \u001b[1m23s\u001b[0m 211ms/step - accuracy: 0.9470 - auc_11: 0.9961 - loss: 0.1396 - recall_11: 0.9431 - val_accuracy: 0.9326 - val_auc_11: 0.9882 - val_loss: 0.2570 - val_recall_11: 0.9291\n",
      "Epoch 10/10\n",
      "\u001b[1m107/107\u001b[0m \u001b[32m━━━━━━━━━━━━━━━━━━━━\u001b[0m\u001b[37m\u001b[0m \u001b[1m23s\u001b[0m 217ms/step - accuracy: 0.9582 - auc_11: 0.9970 - loss: 0.1191 - recall_11: 0.9550 - val_accuracy: 0.9267 - val_auc_11: 0.9844 - val_loss: 0.2921 - val_recall_11: 0.9244\n",
      "\u001b[1m54/54\u001b[0m \u001b[32m━━━━━━━━━━━━━━━━━━━━\u001b[0m\u001b[37m\u001b[0m \u001b[1m3s\u001b[0m 54ms/step\n",
      "\u001b[1m50/50\u001b[0m \u001b[32m━━━━━━━━━━━━━━━━━━━━\u001b[0m\u001b[37m\u001b[0m \u001b[1m3s\u001b[0m 54ms/step\n"
     ]
    },
    {
     "name": "stderr",
     "output_type": "stream",
     "text": [
      "2024/12/10 23:47:11 WARNING mlflow.keras.save: You are saving a Keras model without specifying model signature.\n",
      "2024/12/10 23:47:16 WARNING mlflow.models.model: Model logged without a signature and input example. Please set `input_example` parameter when logging the model to auto infer the model signature.\n"
     ]
    },
    {
     "name": "stdout",
     "output_type": "stream",
     "text": [
      "\u001b[1m160/160\u001b[0m \u001b[32m━━━━━━━━━━━━━━━━━━━━\u001b[0m\u001b[37m\u001b[0m \u001b[1m9s\u001b[0m 55ms/step\n"
     ]
    },
    {
     "data": {
      "application/vnd.jupyter.widget-view+json": {
       "model_id": "88a6175f87f74b1e864df223e8a71a2f",
       "version_major": 2,
       "version_minor": 0
      },
      "text/plain": [
       "Downloading artifacts:   0%|          | 0/7 [00:00<?, ?it/s]"
      ]
     },
     "metadata": {},
     "output_type": "display_data"
    },
    {
     "name": "stdout",
     "output_type": "stream",
     "text": [
      "\u001b[1m1/1\u001b[0m \u001b[32m━━━━━━━━━━━━━━━━━━━━\u001b[0m\u001b[37m\u001b[0m \u001b[1m0s\u001b[0m 77ms/step\n"
     ]
    },
    {
     "name": "stderr",
     "output_type": "stream",
     "text": [
      "Registered model 'convolutional-neural-network' already exists. Creating a new version of this model...\n",
      "2024/12/10 23:47:32 INFO mlflow.store.model_registry.abstract_store: Waiting up to 300 seconds for model version to finish creation. Model name: convolutional-neural-network, version 4\n"
     ]
    },
    {
     "name": "stdout",
     "output_type": "stream",
     "text": [
      "🏃 View run CNN : Experiment 4 at: http://127.0.0.1:5000/#/experiments/344762819335167390/runs/7b6ab6dae00443878f8e89536fcb2bd1\n",
      "🧪 View experiment at: http://127.0.0.1:5000/#/experiments/344762819335167390\n"
     ]
    },
    {
     "name": "stderr",
     "output_type": "stream",
     "text": [
      "Created version '4' of model 'convolutional-neural-network'.\n"
     ]
    }
   ],
   "source": [
    "results = []\n",
    "nb = 0\n",
    "for filters in param_grid['filters']:\n",
    "    for dropout_rate in param_grid['dropout_rate']:\n",
    "        nb = nb + 1\n",
    "\n",
    "        # Paramètres du modèle\n",
    "        params = {\n",
    "            'filters': filters,\n",
    "            'kernel_size': param_grid['kernel_size'],\n",
    "            'dropout_rate': dropout_rate,\n",
    "            'batch_size': param_grid['batch_size'],\n",
    "            'epochs': param_grid['epochs'],\n",
    "            'optimizer': param_grid['optimizer']\n",
    "        }\n",
    "        print(f\"Starting experiment {nb} with parameters: {params}\")\n",
    "\n",
    "        with mlflow.start_run() as run:\n",
    "            mlflow.set_tag(\"mlflow.runName\", f\"CNN : Experiment {nb}\")\n",
    "            mlflow.set_tag(\"Experiment Info\", f\"Experiment {nb} for NN with parameters : {params}\")\n",
    "            mlflow.log_params(params)\n",
    "\n",
    "            fold_metrics = []\n",
    "            for fold, (train_idx, val_idx) in enumerate(cv.split(X_train, np.argmax(y_train, axis=1))):\n",
    "                print(f\"Fold {fold + 1}/{num_folds}\")\n",
    "\n",
    "                X_fold_train, X_fold_val = X_train[train_idx], X_train[val_idx]\n",
    "                y_fold_train, y_fold_val = y_train[train_idx], y_train[val_idx]\n",
    "\n",
    "                model = build_cnn_model(\n",
    "                    input_shape=(128, 128, 3),\n",
    "                    num_classes=4,\n",
    "                    optimizer=params['optimizer'],\n",
    "                    dropout_rate=params['dropout_rate'],\n",
    "                    activation='relu',\n",
    "                    filters=params['filters'],\n",
    "                    kernel_size=params['kernel_size']\n",
    "                )\n",
    "                early_stopping = EarlyStopping(monitor='val_loss', patience=3, restore_best_weights=True)\n",
    "\n",
    "                history = model.fit(\n",
    "                    X_fold_train, y_fold_train,\n",
    "                    validation_data=(X_fold_val, y_fold_val),\n",
    "                    batch_size=params['batch_size'],\n",
    "                    epochs=params['epochs'],\n",
    "                    callbacks=[early_stopping],\n",
    "                    verbose=1\n",
    "                )\n",
    "\n",
    "                # Prédictions et métriques sur le fold\n",
    "                y_val_pred = model.predict(X_fold_val)\n",
    "                y_val_pred_classes = np.argmax(y_val_pred, axis=1)\n",
    "                y_val_actual_classes = np.argmax(y_fold_val, axis=1)\n",
    "\n",
    "                accuracy = accuracy_score(y_val_actual_classes, y_val_pred_classes)\n",
    "                precision = precision_score(y_val_actual_classes, y_val_pred_classes, average='weighted')\n",
    "                recall = recall_score(y_val_actual_classes, y_val_pred_classes, average='weighted')\n",
    "                f1 = f1_score(y_val_actual_classes, y_val_pred_classes, average='weighted')\n",
    "                auc_roc = roc_auc_score(y_fold_val, y_val_pred, multi_class='ovr')\n",
    "\n",
    "                fold_metrics.append({\n",
    "                    'accuracy': accuracy,\n",
    "                    'precision': precision,\n",
    "                    'recall': recall,\n",
    "                    'f1': f1,\n",
    "                    'auc_roc': auc_roc\n",
    "                })\n",
    "\n",
    "                # Logging des métriques pour chaque fold\n",
    "                mlflow.log_metric(f\"fold_{fold + 1}_accuracy\", accuracy)\n",
    "                mlflow.log_metric(f\"fold_{fold + 1}_precision\", precision)\n",
    "                mlflow.log_metric(f\"fold_{fold + 1}_recall\", recall)\n",
    "                mlflow.log_metric(f\"fold_{fold + 1}_f1\", f1)\n",
    "                mlflow.log_metric(f\"fold_{fold + 1}_auc_roc\", auc_roc)\n",
    "\n",
    "            # Moyennes des métriques sur tous les folds\n",
    "            avg_accuracy = np.mean([m['accuracy'] for m in fold_metrics])\n",
    "            avg_precision = np.mean([m['precision'] for m in fold_metrics])\n",
    "            avg_recall = np.mean([m['recall'] for m in fold_metrics])\n",
    "            avg_f1 = np.mean([m['f1'] for m in fold_metrics])\n",
    "            avg_auc_roc = np.mean([m['auc_roc'] for m in fold_metrics])\n",
    "\n",
    "            mlflow.log_metric(\"avg_accuracy\", avg_accuracy)\n",
    "            mlflow.log_metric(\"avg_precision\", avg_precision)\n",
    "            mlflow.log_metric(\"avg_recall\", avg_recall)\n",
    "            mlflow.log_metric(\"avg_f1\", avg_f1)\n",
    "            mlflow.log_metric(\"avg_auc_roc\", avg_auc_roc)\n",
    "\n",
    "            # Prédictions finales sur X_test\n",
    "            y_test_pred = model.predict(X_test)\n",
    "            y_test_pred_classes = np.argmax(y_test_pred, axis=1)\n",
    "            y_test_actual_classes = np.argmax(y_test, axis=1)\n",
    "\n",
    "            # Calcul des métriques sur le test\n",
    "            test_accuracy = accuracy_score(y_test_actual_classes, y_test_pred_classes)\n",
    "            test_precision = precision_score(y_test_actual_classes, y_test_pred_classes, average='weighted')\n",
    "            test_recall = recall_score(y_test_actual_classes, y_test_pred_classes, average='weighted')\n",
    "            test_f1 = f1_score(y_test_actual_classes, y_test_pred_classes, average='weighted')\n",
    "\n",
    "            mlflow.log_metric(\"test_accuracy\", test_accuracy)\n",
    "            mlflow.log_metric(\"test_precision\", test_precision)\n",
    "            mlflow.log_metric(\"test_recall\", test_recall)\n",
    "            mlflow.log_metric(\"test_f1\", test_f1)\n",
    "\n",
    "            predictions_df = pd.DataFrame({\"Actual\": y_test_actual_classes, \"Predicted\": y_test_pred_classes})\n",
    "            predictions_csv_path = \"tmp/predictions.csv\"\n",
    "            predictions_df.to_csv(predictions_csv_path, index=False)\n",
    "            mlflow.log_artifact(predictions_csv_path, artifact_path=\"predictions\")\n",
    "\n",
    "            # Matrice de confusion\n",
    "            matrix = confusion_matrix(y_test_actual_classes, y_test_pred_classes)\n",
    "            plt.figure(figsize=(8, 6))\n",
    "            sns.heatmap(matrix, annot=True, fmt='d', cmap='Blues')\n",
    "            plt.title(\"Confusion Matrix\")\n",
    "            cf_matrix_path = \"tmp/confusion_matrix.png\"\n",
    "            plt.savefig(cf_matrix_path)\n",
    "            plt.close()\n",
    "            mlflow.log_artifact(cf_matrix_path, artifact_path=\"cf_matrix\")\n",
    "\n",
    "            # Courbe ROC AUC\n",
    "            fpr, tpr, _ = roc_curve(y_test.ravel(), y_test_pred.ravel())\n",
    "            roc_auc = auc(fpr, tpr)\n",
    "\n",
    "            plt.figure()\n",
    "            plt.plot(fpr, tpr, color='blue', lw=2, label=f'ROC curve (area = {roc_auc:.2f})')\n",
    "            plt.plot([0, 1], [0, 1], color='gray', lw=2, linestyle='--')\n",
    "            plt.xlabel(\"False Positive Rate\")\n",
    "            plt.ylabel(\"True Positive Rate\")\n",
    "            plt.title(\"Receiver Operating Characteristic\")\n",
    "            plt.legend(loc=\"lower right\")\n",
    "            roc_curve_path = \"tmp/roc_curve.png\"\n",
    "            plt.savefig(roc_curve_path)\n",
    "            plt.close()\n",
    "            mlflow.log_artifact(roc_curve_path, artifact_path=\"roc_curve\")\n",
    "\n",
    "            # Enregistrement du modèle final\n",
    "            mlflow.keras.log_model(model, \"cnn_model\")\n",
    "            signature = infer_signature(X_train, model.predict(X_train))\n",
    "            model_info = mlflow.sklearn.log_model(\n",
    "                sk_model=model,\n",
    "                artifact_path=\"cnn_model\",\n",
    "                signature=signature,\n",
    "                input_example=X_train[:1],\n",
    "                registered_model_name=\"convolutional-neural-network\",\n",
    "            )\n"
   ]
  },
  {
   "cell_type": "code",
   "execution_count": 15,
   "metadata": {},
   "outputs": [
    {
     "name": "stdout",
     "output_type": "stream",
     "text": [
      "Best Run ID: 7b6ab6dae00443878f8e89536fcb2bd1\n",
      "Best Run Metrics: metrics.avg_accuracy    0.911528\n",
      "metrics.avg_f1          0.911026\n",
      "Name: 0, dtype: object\n"
     ]
    },
    {
     "data": {
      "text/plain": [
       "'runs:/7b6ab6dae00443878f8e89536fcb2bd1/cnn_model'"
      ]
     },
     "execution_count": 15,
     "metadata": {},
     "output_type": "execute_result"
    }
   ],
   "source": [
    "runs = mlflow.search_runs(experiment_ids=experiment_id)\n",
    "\n",
    "    # Trier les exécutions par la métrique de performance choisie (par exemple, avg_accuracy)\n",
    "best_cnn = runs.sort_values(by=\"metrics.avg_accuracy\", ascending=False).iloc[0]\n",
    "\n",
    "    # Récupérer l'ID de la meilleure exécution\n",
    "best_cnn_id = best_cnn[\"run_id\"]\n",
    "\n",
    "print(f\"Best Run ID: {best_cnn_id}\")\n",
    "print(f\"Best Run Metrics: {best_cnn[['metrics.avg_accuracy', 'metrics.avg_f1']]}\")\n",
    "# Charger le modèle associé à la meilleure exécution\n",
    "best_cnn_uri = f\"runs:/{best_cnn_id}/cnn_model\"\n",
    "\n",
    "best_cnn_uri"
   ]
  },
  {
   "cell_type": "code",
   "execution_count": 16,
   "metadata": {},
   "outputs": [
    {
     "name": "stderr",
     "output_type": "stream",
     "text": [
      "Successfully registered model 'BrainTumor_BestCNN'.\n",
      "2024/12/11 00:19:00 INFO mlflow.store.model_registry.abstract_store: Waiting up to 300 seconds for model version to finish creation. Model name: BrainTumor_BestCNN, version 1\n",
      "Created version '1' of model 'BrainTumor_BestCNN'.\n"
     ]
    },
    {
     "data": {
      "text/plain": [
       "<ModelVersion: aliases=[], creation_timestamp=1733872740851, current_stage='None', description='', last_updated_timestamp=1733872740851, name='BrainTumor_BestCNN', run_id='7b6ab6dae00443878f8e89536fcb2bd1', run_link='', source='mlflow-artifacts:/344762819335167390/7b6ab6dae00443878f8e89536fcb2bd1/artifacts/cnn_model', status='READY', status_message='', tags={}, user_id='', version='1'>"
      ]
     },
     "execution_count": 16,
     "metadata": {},
     "output_type": "execute_result"
    }
   ],
   "source": [
    "mlflow.register_model(\n",
    "        model_uri=best_cnn_uri,\n",
    "        name=\"BrainTumor_BestCNN\"\n",
    "    )"
   ]
  }
 ],
 "metadata": {
  "kernelspec": {
   "display_name": "ML-Excuses",
   "language": "python",
   "name": "env"
  },
  "language_info": {
   "codemirror_mode": {
    "name": "ipython",
    "version": 3
   },
   "file_extension": ".py",
   "mimetype": "text/x-python",
   "name": "python",
   "nbconvert_exporter": "python",
   "pygments_lexer": "ipython3",
   "version": "3.12.0"
  }
 },
 "nbformat": 4,
 "nbformat_minor": 2
}

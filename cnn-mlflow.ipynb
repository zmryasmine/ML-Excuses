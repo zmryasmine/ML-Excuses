{
 "cells": [
  {
   "cell_type": "code",
   "execution_count": 1,
   "metadata": {},
   "outputs": [],
   "source": [
    "import mlflow.keras\n",
    "import numpy as np\n",
    "import pandas as pd\n",
    "import os\n",
    "from tensorflow.keras.preprocessing.image import load_img, img_to_array\n",
    "from sklearn.model_selection import train_test_split\n",
    "from tensorflow.keras.utils import to_categorical\n",
    "from tensorflow.keras.models import Sequential\n",
    "from tensorflow.keras.layers import Conv2D, MaxPooling2D, Flatten, Dense, Dropout\n",
    "from tensorflow.keras.optimizers import Adam, SGD, RMSprop\n",
    "from tensorflow.keras.metrics import Recall, AUC\n",
    "import matplotlib.pyplot as plt\n",
    "import seaborn as sns\n",
    "import itertools\n",
    "from sklearn.model_selection import StratifiedKFold\n",
    "from sklearn.metrics import roc_auc_score, roc_curve, auc, precision_score, recall_score, f1_score, accuracy_score, confusion_matrix\n",
    "from tensorflow.keras.callbacks import EarlyStopping\n",
    "from mlflow.models import infer_signature"
   ]
  },
  {
   "cell_type": "code",
   "execution_count": 2,
   "metadata": {},
   "outputs": [
    {
     "name": "stdout",
     "output_type": "stream",
     "text": [
      "(8000,)\n",
      "[3 3 3 3 3 3 3 3 3 3]\n"
     ]
    }
   ],
   "source": [
    "metadata = pd.read_csv('dataset/balanced_metadata.csv')\n",
    "image_folder = 'dataset/balanced_dataset/'\n",
    "images = []\n",
    "labels = []\n",
    "for i, row in metadata.iterrows():\n",
    "    img_path = os.path.join(image_folder, row['image_name'])\n",
    "    img = load_img(img_path, target_size=(128, 128))\n",
    "    images.append(img_to_array(img))\n",
    "    labels.append(row['target'])\n",
    "\n",
    "images = np.array(images) / 255.0  # Normalisation\n",
    "labels = np.array(labels)\n",
    "print(labels.shape)\n",
    "print(labels[:10])"
   ]
  },
  {
   "cell_type": "code",
   "execution_count": 3,
   "metadata": {},
   "outputs": [
    {
     "name": "stdout",
     "output_type": "stream",
     "text": [
      "(8000, 128, 128, 3)\n",
      "(8000, 4)\n"
     ]
    }
   ],
   "source": [
    "labels = to_categorical(labels, num_classes=4)\n",
    "print(images.shape)  \n",
    "print(labels.shape)"
   ]
  },
  {
   "cell_type": "code",
   "execution_count": 4,
   "metadata": {},
   "outputs": [],
   "source": [
    "def build_cnn_model(input_shape=(128, 128, 3), num_classes=4, optimizer='adam',\n",
    "                    dropout_rate=0.5, activation='relu', filters=32, kernel_size=(3, 3)):\n",
    "    model = Sequential()\n",
    "\n",
    "    # Première couche convolutionnelle\n",
    "    model.add(Conv2D(filters, kernel_size, activation=activation, input_shape=input_shape))\n",
    "    model.add(MaxPooling2D((2, 2)))\n",
    "\n",
    "    # Deuxième couche convolutionnelle\n",
    "    model.add(Conv2D(filters * 2, kernel_size, activation=activation))\n",
    "    model.add(MaxPooling2D((2, 2)))\n",
    "\n",
    "    # Troisième couche convolutionnelle\n",
    "    model.add(Conv2D(filters * 4, kernel_size, activation=activation))\n",
    "    model.add(MaxPooling2D((2, 2)))\n",
    "\n",
    "    # Aplatir les résultats des couches précédentes\n",
    "    model.add(Flatten())\n",
    "\n",
    "    # Couches entièrement connectées\n",
    "    model.add(Dense(128, activation=activation))\n",
    "    model.add(Dropout(dropout_rate))  # Dropout pour éviter l'overfitting\n",
    "    model.add(Dense(num_classes, activation='softmax'))  # Classification multi-classe\n",
    "\n",
    "    # Choisir l'optimiseur basé sur l'argument\n",
    "    if optimizer == 'adam':\n",
    "        optimizer_instance = Adam()\n",
    "    elif optimizer == 'sgd':\n",
    "        optimizer_instance = SGD()\n",
    "    elif optimizer == 'rmsprop':\n",
    "        optimizer_instance = RMSprop()\n",
    "\n",
    "    # Compiler le modèle avec les métriques supplémentaires\n",
    "    model.compile(optimizer=optimizer_instance, \n",
    "                  loss='categorical_crossentropy', \n",
    "                  metrics=['accuracy', Recall(), AUC()])\n",
    "\n",
    "    return model"
   ]
  },
  {
   "cell_type": "code",
   "execution_count": 5,
   "metadata": {},
   "outputs": [
    {
     "data": {
      "text/plain": [
       "\" # Grid search des paramètres\\nparam_grid = {\\n    'optimizer': ['adam', 'sgd', 'rmsprop'],  # Optimiseur à tester\\n    'dropout_rate': [0.3, 0.5, 0.7],  # Taux de dropout\\n    'activation': ['relu', 'tanh', 'elu'],  # Fonction d'activation des couches\\n    'filters': [32],  # Nombre de filtres dans les couches convolutionnelles\\n    'kernel_size': [(3, 3)],  # Taille des noyaux de convolution\\n    'batch_size': [16, 32],  # Taille des mini-batchs\\n    'epochs': [5, 10]  # Nombre d'époques\\n}\""
      ]
     },
     "execution_count": 5,
     "metadata": {},
     "output_type": "execute_result"
    }
   ],
   "source": [
    "# Choix des paramètres\n",
    "param_grid = {\n",
    "    'optimizer': 'rmsprop',  # Optimiseur à tester\n",
    "    'dropout_rate': [0.3, 0.5],  # Taux de dropout\n",
    "    'activation': 'relu',  # Fonction d'activation des couches\n",
    "    'filters': [16, 32],  # Nombre de filtres dans les couches convolutionnelles\n",
    "    'kernel_size': (3, 3),  # Taille des noyaux de convolution\n",
    "    'batch_size': 32,  # Taille des mini-batchs\n",
    "    'epochs': 10  # Nombre d'époques\n",
    "}\n",
    "\n",
    "''' # Grid search des paramètres\n",
    "param_grid = {\n",
    "    'optimizer': ['adam', 'sgd', 'rmsprop'],  # Optimiseur à tester\n",
    "    'dropout_rate': [0.3, 0.5, 0.7],  # Taux de dropout\n",
    "    'activation': ['relu', 'tanh', 'elu'],  # Fonction d'activation des couches\n",
    "    'filters': [32],  # Nombre de filtres dans les couches convolutionnelles\n",
    "    'kernel_size': [(3, 3)],  # Taille des noyaux de convolution\n",
    "    'batch_size': [16, 32],  # Taille des mini-batchs\n",
    "    'epochs': [5, 10]  # Nombre d'époques\n",
    "}'''"
   ]
  },
  {
   "cell_type": "code",
   "execution_count": 6,
   "metadata": {},
   "outputs": [],
   "source": [
    "X_train, X_test, y_train, y_test = train_test_split(images, labels, test_size=0.2, random_state=42)\n",
    "X_train, X_val, y_train, y_val = train_test_split(X_train, y_train, test_size=0.2, random_state=42)"
   ]
  },
  {
   "cell_type": "markdown",
   "metadata": {},
   "source": [
    "- run on terminal **mlflow server --host 127.0.0.1 --port 5000**"
   ]
  },
  {
   "cell_type": "code",
   "execution_count": 2,
   "metadata": {},
   "outputs": [],
   "source": [
    "mlflow.set_tracking_uri(uri=\"http://127.0.0.1:5000\")"
   ]
  },
  {
   "cell_type": "markdown",
   "metadata": {},
   "source": [
    "- run on terminal **mlflow ui**"
   ]
  },
  {
   "cell_type": "code",
   "execution_count": 3,
   "metadata": {},
   "outputs": [
    {
     "data": {
      "text/plain": [
       "<Experiment: artifact_location='mlflow-artifacts:/344762819335167390', creation_time=1733865490229, experiment_id='344762819335167390', last_update_time=1733865490229, lifecycle_stage='active', name='Brain_Tumor_Classification', tags={}>"
      ]
     },
     "execution_count": 3,
     "metadata": {},
     "output_type": "execute_result"
    }
   ],
   "source": [
    "mlflow.set_experiment(\"Brain_Tumor_Classification\")"
   ]
  },
  {
   "cell_type": "code",
   "execution_count": 4,
   "metadata": {},
   "outputs": [
    {
     "name": "stdout",
     "output_type": "stream",
     "text": [
      "Experiment ID: 344762819335167390\n"
     ]
    }
   ],
   "source": [
    "experiment = mlflow.get_experiment_by_name(\"Brain_Tumor_Classification\")\n",
    "experiment_id = experiment.experiment_id\n",
    "\n",
    "print(f\"Experiment ID: {experiment_id}\")"
   ]
  },
  {
   "cell_type": "code",
   "execution_count": 10,
   "metadata": {},
   "outputs": [],
   "source": [
    "# Paramètres pour la validation croisée\n",
    "num_folds = 3\n",
    "cv = StratifiedKFold(n_splits=num_folds, shuffle=True, random_state=42)"
   ]
  },
  {
   "cell_type": "code",
   "execution_count": 11,
   "metadata": {},
   "outputs": [
    {
     "name": "stdout",
     "output_type": "stream",
     "text": [
      "Starting experiment 5 with parameters: {'filters': 16, 'kernel_size': (3, 3), 'dropout_rate': 0.3, 'batch_size': 32, 'epochs': 10, 'optimizer': 'rmsprop'}\n",
      "Fold 1/3\n"
     ]
    },
    {
     "name": "stderr",
     "output_type": "stream",
     "text": [
      "c:\\Users\\user\\Documents\\GitHub\\ML-Excuses\\env\\Lib\\site-packages\\keras\\src\\layers\\convolutional\\base_conv.py:107: UserWarning: Do not pass an `input_shape`/`input_dim` argument to a layer. When using Sequential models, prefer using an `Input(shape)` object as the first layer in the model instead.\n",
      "  super().__init__(activity_regularizer=activity_regularizer, **kwargs)\n"
     ]
    },
    {
     "name": "stdout",
     "output_type": "stream",
     "text": [
      "Epoch 1/10\n",
      "\u001b[1m107/107\u001b[0m \u001b[32m━━━━━━━━━━━━━━━━━━━━\u001b[0m\u001b[37m\u001b[0m \u001b[1m10s\u001b[0m 84ms/step - accuracy: 0.4786 - auc: 0.7424 - loss: 1.2509 - recall: 0.1993 - val_accuracy: 0.6550 - val_auc: 0.8808 - val_loss: 0.8506 - val_recall: 0.5958\n",
      "Epoch 2/10\n",
      "\u001b[1m107/107\u001b[0m \u001b[32m━━━━━━━━━━━━━━━━━━━━\u001b[0m\u001b[37m\u001b[0m \u001b[1m8s\u001b[0m 76ms/step - accuracy: 0.7186 - auc: 0.9147 - loss: 0.7003 - recall: 0.6458 - val_accuracy: 0.7903 - val_auc: 0.9532 - val_loss: 0.5176 - val_recall: 0.7663\n",
      "Epoch 3/10\n",
      "\u001b[1m107/107\u001b[0m \u001b[32m━━━━━━━━━━━━━━━━━━━━\u001b[0m\u001b[37m\u001b[0m \u001b[1m8s\u001b[0m 76ms/step - accuracy: 0.8038 - auc: 0.9513 - loss: 0.5264 - recall: 0.7657 - val_accuracy: 0.8342 - val_auc: 0.9664 - val_loss: 0.4289 - val_recall: 0.8125\n",
      "Epoch 4/10\n",
      "\u001b[1m107/107\u001b[0m \u001b[32m━━━━━━━━━━━━━━━━━━━━\u001b[0m\u001b[37m\u001b[0m \u001b[1m8s\u001b[0m 79ms/step - accuracy: 0.8368 - auc: 0.9688 - loss: 0.4128 - recall: 0.8157 - val_accuracy: 0.8207 - val_auc: 0.9633 - val_loss: 0.4630 - val_recall: 0.8079\n",
      "Epoch 5/10\n",
      "\u001b[1m107/107\u001b[0m \u001b[32m━━━━━━━━━━━━━━━━━━━━\u001b[0m\u001b[37m\u001b[0m \u001b[1m8s\u001b[0m 75ms/step - accuracy: 0.8689 - auc: 0.9775 - loss: 0.3486 - recall: 0.8592 - val_accuracy: 0.8576 - val_auc: 0.9732 - val_loss: 0.3788 - val_recall: 0.8483\n",
      "Epoch 6/10\n",
      "\u001b[1m107/107\u001b[0m \u001b[32m━━━━━━━━━━━━━━━━━━━━\u001b[0m\u001b[37m\u001b[0m \u001b[1m8s\u001b[0m 76ms/step - accuracy: 0.9031 - auc: 0.9866 - loss: 0.2626 - recall: 0.8945 - val_accuracy: 0.8828 - val_auc: 0.9802 - val_loss: 0.3247 - val_recall: 0.8764\n",
      "Epoch 7/10\n",
      "\u001b[1m107/107\u001b[0m \u001b[32m━━━━━━━━━━━━━━━━━━━━\u001b[0m\u001b[37m\u001b[0m \u001b[1m8s\u001b[0m 75ms/step - accuracy: 0.9325 - auc: 0.9926 - loss: 0.2026 - recall: 0.9271 - val_accuracy: 0.8576 - val_auc: 0.9738 - val_loss: 0.3932 - val_recall: 0.8530\n",
      "Epoch 8/10\n",
      "\u001b[1m107/107\u001b[0m \u001b[32m━━━━━━━━━━━━━━━━━━━━\u001b[0m\u001b[37m\u001b[0m \u001b[1m8s\u001b[0m 75ms/step - accuracy: 0.9448 - auc: 0.9948 - loss: 0.1615 - recall: 0.9399 - val_accuracy: 0.8705 - val_auc: 0.9805 - val_loss: 0.3380 - val_recall: 0.8682\n",
      "Epoch 9/10\n",
      "\u001b[1m107/107\u001b[0m \u001b[32m━━━━━━━━━━━━━━━━━━━━\u001b[0m\u001b[37m\u001b[0m \u001b[1m8s\u001b[0m 75ms/step - accuracy: 0.9555 - auc: 0.9967 - loss: 0.1176 - recall: 0.9541 - val_accuracy: 0.8453 - val_auc: 0.9621 - val_loss: 0.5557 - val_recall: 0.8424\n",
      "\u001b[1m54/54\u001b[0m \u001b[32m━━━━━━━━━━━━━━━━━━━━\u001b[0m\u001b[37m\u001b[0m \u001b[1m1s\u001b[0m 19ms/step\n",
      "Fold 2/3\n",
      "Epoch 1/10\n"
     ]
    },
    {
     "name": "stderr",
     "output_type": "stream",
     "text": [
      "c:\\Users\\user\\Documents\\GitHub\\ML-Excuses\\env\\Lib\\site-packages\\keras\\src\\layers\\convolutional\\base_conv.py:107: UserWarning: Do not pass an `input_shape`/`input_dim` argument to a layer. When using Sequential models, prefer using an `Input(shape)` object as the first layer in the model instead.\n",
      "  super().__init__(activity_regularizer=activity_regularizer, **kwargs)\n"
     ]
    },
    {
     "name": "stdout",
     "output_type": "stream",
     "text": [
      "\u001b[1m107/107\u001b[0m \u001b[32m━━━━━━━━━━━━━━━━━━━━\u001b[0m\u001b[37m\u001b[0m \u001b[1m9s\u001b[0m 79ms/step - accuracy: 0.4554 - auc_1: 0.7430 - loss: 1.1796 - recall_1: 0.2304 - val_accuracy: 0.6719 - val_auc_1: 0.9015 - val_loss: 0.7575 - val_recall_1: 0.6397\n",
      "Epoch 2/10\n",
      "\u001b[1m107/107\u001b[0m \u001b[32m━━━━━━━━━━━━━━━━━━━━\u001b[0m\u001b[37m\u001b[0m \u001b[1m8s\u001b[0m 77ms/step - accuracy: 0.7383 - auc_1: 0.9228 - loss: 0.6656 - recall_1: 0.6795 - val_accuracy: 0.7827 - val_auc_1: 0.9470 - val_loss: 0.5510 - val_recall_1: 0.7639\n",
      "Epoch 3/10\n",
      "\u001b[1m107/107\u001b[0m \u001b[32m━━━━━━━━━━━━━━━━━━━━\u001b[0m\u001b[37m\u001b[0m \u001b[1m8s\u001b[0m 76ms/step - accuracy: 0.7855 - auc_1: 0.9498 - loss: 0.5374 - recall_1: 0.7599 - val_accuracy: 0.8278 - val_auc_1: 0.9647 - val_loss: 0.4534 - val_recall_1: 0.8079\n",
      "Epoch 4/10\n",
      "\u001b[1m107/107\u001b[0m \u001b[32m━━━━━━━━━━━━━━━━━━━━\u001b[0m\u001b[37m\u001b[0m \u001b[1m8s\u001b[0m 75ms/step - accuracy: 0.8487 - auc_1: 0.9717 - loss: 0.3964 - recall_1: 0.8260 - val_accuracy: 0.8530 - val_auc_1: 0.9697 - val_loss: 0.4142 - val_recall_1: 0.8389\n",
      "Epoch 5/10\n",
      "\u001b[1m107/107\u001b[0m \u001b[32m━━━━━━━━━━━━━━━━━━━━\u001b[0m\u001b[37m\u001b[0m \u001b[1m8s\u001b[0m 77ms/step - accuracy: 0.8923 - auc_1: 0.9837 - loss: 0.2917 - recall_1: 0.8832 - val_accuracy: 0.8723 - val_auc_1: 0.9777 - val_loss: 0.3546 - val_recall_1: 0.8612\n",
      "Epoch 6/10\n",
      "\u001b[1m107/107\u001b[0m \u001b[32m━━━━━━━━━━━━━━━━━━━━\u001b[0m\u001b[37m\u001b[0m \u001b[1m8s\u001b[0m 75ms/step - accuracy: 0.9014 - auc_1: 0.9864 - loss: 0.2649 - recall_1: 0.8946 - val_accuracy: 0.8864 - val_auc_1: 0.9810 - val_loss: 0.3269 - val_recall_1: 0.8822\n",
      "Epoch 7/10\n",
      "\u001b[1m107/107\u001b[0m \u001b[32m━━━━━━━━━━━━━━━━━━━━\u001b[0m\u001b[37m\u001b[0m \u001b[1m8s\u001b[0m 76ms/step - accuracy: 0.9255 - auc_1: 0.9926 - loss: 0.1956 - recall_1: 0.9218 - val_accuracy: 0.8834 - val_auc_1: 0.9837 - val_loss: 0.3098 - val_recall_1: 0.8758\n",
      "Epoch 8/10\n",
      "\u001b[1m107/107\u001b[0m \u001b[32m━━━━━━━━━━━━━━━━━━━━\u001b[0m\u001b[37m\u001b[0m \u001b[1m8s\u001b[0m 75ms/step - accuracy: 0.9451 - auc_1: 0.9967 - loss: 0.1308 - recall_1: 0.9417 - val_accuracy: 0.8776 - val_auc_1: 0.9819 - val_loss: 0.3497 - val_recall_1: 0.8758\n",
      "Epoch 9/10\n",
      "\u001b[1m107/107\u001b[0m \u001b[32m━━━━━━━━━━━━━━━━━━━━\u001b[0m\u001b[37m\u001b[0m \u001b[1m8s\u001b[0m 75ms/step - accuracy: 0.9641 - auc_1: 0.9973 - loss: 0.1146 - recall_1: 0.9624 - val_accuracy: 0.8565 - val_auc_1: 0.9721 - val_loss: 0.4646 - val_recall_1: 0.8541\n",
      "Epoch 10/10\n",
      "\u001b[1m107/107\u001b[0m \u001b[32m━━━━━━━━━━━━━━━━━━━━\u001b[0m\u001b[37m\u001b[0m \u001b[1m8s\u001b[0m 76ms/step - accuracy: 0.9667 - auc_1: 0.9986 - loss: 0.0851 - recall_1: 0.9656 - val_accuracy: 0.9045 - val_auc_1: 0.9815 - val_loss: 0.3448 - val_recall_1: 0.9028\n",
      "\u001b[1m54/54\u001b[0m \u001b[32m━━━━━━━━━━━━━━━━━━━━\u001b[0m\u001b[37m\u001b[0m \u001b[1m1s\u001b[0m 19ms/step\n",
      "Fold 3/3\n",
      "Epoch 1/10\n"
     ]
    },
    {
     "name": "stderr",
     "output_type": "stream",
     "text": [
      "c:\\Users\\user\\Documents\\GitHub\\ML-Excuses\\env\\Lib\\site-packages\\keras\\src\\layers\\convolutional\\base_conv.py:107: UserWarning: Do not pass an `input_shape`/`input_dim` argument to a layer. When using Sequential models, prefer using an `Input(shape)` object as the first layer in the model instead.\n",
      "  super().__init__(activity_regularizer=activity_regularizer, **kwargs)\n"
     ]
    },
    {
     "name": "stdout",
     "output_type": "stream",
     "text": [
      "\u001b[1m107/107\u001b[0m \u001b[32m━━━━━━━━━━━━━━━━━━━━\u001b[0m\u001b[37m\u001b[0m \u001b[1m9s\u001b[0m 77ms/step - accuracy: 0.4867 - auc_2: 0.7544 - loss: 1.1439 - recall_2: 0.2462 - val_accuracy: 0.7280 - val_auc_2: 0.9279 - val_loss: 0.6429 - val_recall_2: 0.6975\n",
      "Epoch 2/10\n",
      "\u001b[1m107/107\u001b[0m \u001b[32m━━━━━━━━━━━━━━━━━━━━\u001b[0m\u001b[37m\u001b[0m \u001b[1m8s\u001b[0m 73ms/step - accuracy: 0.7349 - auc_2: 0.9226 - loss: 0.6650 - recall_2: 0.6767 - val_accuracy: 0.8113 - val_auc_2: 0.9510 - val_loss: 0.5613 - val_recall_2: 0.7468\n",
      "Epoch 3/10\n",
      "\u001b[1m107/107\u001b[0m \u001b[32m━━━━━━━━━━━━━━━━━━━━\u001b[0m\u001b[37m\u001b[0m \u001b[1m8s\u001b[0m 74ms/step - accuracy: 0.8036 - auc_2: 0.9555 - loss: 0.4999 - recall_2: 0.7675 - val_accuracy: 0.8505 - val_auc_2: 0.9691 - val_loss: 0.4145 - val_recall_2: 0.8265\n",
      "Epoch 4/10\n",
      "\u001b[1m107/107\u001b[0m \u001b[32m━━━━━━━━━━━━━━━━━━━━\u001b[0m\u001b[37m\u001b[0m \u001b[1m8s\u001b[0m 75ms/step - accuracy: 0.8378 - auc_2: 0.9688 - loss: 0.4137 - recall_2: 0.8164 - val_accuracy: 0.8640 - val_auc_2: 0.9728 - val_loss: 0.3874 - val_recall_2: 0.8470\n",
      "Epoch 5/10\n",
      "\u001b[1m107/107\u001b[0m \u001b[32m━━━━━━━━━━━━━━━━━━━━\u001b[0m\u001b[37m\u001b[0m \u001b[1m8s\u001b[0m 74ms/step - accuracy: 0.8792 - auc_2: 0.9793 - loss: 0.3326 - recall_2: 0.8664 - val_accuracy: 0.8728 - val_auc_2: 0.9761 - val_loss: 0.3547 - val_recall_2: 0.8658\n",
      "Epoch 6/10\n",
      "\u001b[1m107/107\u001b[0m \u001b[32m━━━━━━━━━━━━━━━━━━━━\u001b[0m\u001b[37m\u001b[0m \u001b[1m8s\u001b[0m 75ms/step - accuracy: 0.8890 - auc_2: 0.9858 - loss: 0.2756 - recall_2: 0.8814 - val_accuracy: 0.8675 - val_auc_2: 0.9700 - val_loss: 0.4212 - val_recall_2: 0.8605\n",
      "Epoch 7/10\n",
      "\u001b[1m107/107\u001b[0m \u001b[32m━━━━━━━━━━━━━━━━━━━━\u001b[0m\u001b[37m\u001b[0m \u001b[1m8s\u001b[0m 75ms/step - accuracy: 0.9280 - auc_2: 0.9920 - loss: 0.2013 - recall_2: 0.9231 - val_accuracy: 0.9033 - val_auc_2: 0.9800 - val_loss: 0.3174 - val_recall_2: 0.8980\n",
      "Epoch 8/10\n",
      "\u001b[1m107/107\u001b[0m \u001b[32m━━━━━━━━━━━━━━━━━━━━\u001b[0m\u001b[37m\u001b[0m \u001b[1m8s\u001b[0m 75ms/step - accuracy: 0.9382 - auc_2: 0.9944 - loss: 0.1686 - recall_2: 0.9362 - val_accuracy: 0.8775 - val_auc_2: 0.9739 - val_loss: 0.4109 - val_recall_2: 0.8740\n",
      "Epoch 9/10\n",
      "\u001b[1m107/107\u001b[0m \u001b[32m━━━━━━━━━━━━━━━━━━━━\u001b[0m\u001b[37m\u001b[0m \u001b[1m8s\u001b[0m 75ms/step - accuracy: 0.9525 - auc_2: 0.9968 - loss: 0.1249 - recall_2: 0.9498 - val_accuracy: 0.8992 - val_auc_2: 0.9801 - val_loss: 0.3622 - val_recall_2: 0.8968\n",
      "Epoch 10/10\n",
      "\u001b[1m107/107\u001b[0m \u001b[32m━━━━━━━━━━━━━━━━━━━━\u001b[0m\u001b[37m\u001b[0m \u001b[1m8s\u001b[0m 75ms/step - accuracy: 0.9626 - auc_2: 0.9974 - loss: 0.1047 - recall_2: 0.9605 - val_accuracy: 0.8951 - val_auc_2: 0.9776 - val_loss: 0.3769 - val_recall_2: 0.8910\n",
      "\u001b[1m54/54\u001b[0m \u001b[32m━━━━━━━━━━━━━━━━━━━━\u001b[0m\u001b[37m\u001b[0m \u001b[1m1s\u001b[0m 19ms/step\n",
      "\u001b[1m50/50\u001b[0m \u001b[32m━━━━━━━━━━━━━━━━━━━━\u001b[0m\u001b[37m\u001b[0m \u001b[1m1s\u001b[0m 19ms/step\n"
     ]
    },
    {
     "name": "stderr",
     "output_type": "stream",
     "text": [
      "2024/12/11 03:00:54 WARNING mlflow.keras.save: You are saving a Keras model without specifying model signature.\n",
      "2024/12/11 03:01:04 WARNING mlflow.models.model: Model logged without a signature and input example. Please set `input_example` parameter when logging the model to auto infer the model signature.\n"
     ]
    },
    {
     "name": "stdout",
     "output_type": "stream",
     "text": [
      "\u001b[1m160/160\u001b[0m \u001b[32m━━━━━━━━━━━━━━━━━━━━\u001b[0m\u001b[37m\u001b[0m \u001b[1m3s\u001b[0m 18ms/step\n"
     ]
    },
    {
     "data": {
      "application/vnd.jupyter.widget-view+json": {
       "model_id": "aeb56047b24f400bb9923a1e4e073e07",
       "version_major": 2,
       "version_minor": 0
      },
      "text/plain": [
       "Downloading artifacts:   0%|          | 0/7 [00:00<?, ?it/s]"
      ]
     },
     "metadata": {},
     "output_type": "display_data"
    },
    {
     "name": "stdout",
     "output_type": "stream",
     "text": [
      "\u001b[1m1/1\u001b[0m \u001b[32m━━━━━━━━━━━━━━━━━━━━\u001b[0m\u001b[37m\u001b[0m \u001b[1m0s\u001b[0m 75ms/step\n"
     ]
    },
    {
     "name": "stderr",
     "output_type": "stream",
     "text": [
      "Registered model 'convolutional-neural-network' already exists. Creating a new version of this model...\n",
      "2024/12/11 03:01:13 INFO mlflow.store.model_registry.abstract_store: Waiting up to 300 seconds for model version to finish creation. Model name: convolutional-neural-network, version 5\n",
      "Created version '5' of model 'convolutional-neural-network'.\n"
     ]
    },
    {
     "name": "stdout",
     "output_type": "stream",
     "text": [
      "🏃 View run CNN : Experiment 5 at: http://127.0.0.1:5000/#/experiments/344762819335167390/runs/e9c7c05b3a9a44eab98575869625bfcb\n",
      "🧪 View experiment at: http://127.0.0.1:5000/#/experiments/344762819335167390\n",
      "Starting experiment 6 with parameters: {'filters': 16, 'kernel_size': (3, 3), 'dropout_rate': 0.5, 'batch_size': 32, 'epochs': 10, 'optimizer': 'rmsprop'}\n",
      "Fold 1/3\n"
     ]
    },
    {
     "name": "stderr",
     "output_type": "stream",
     "text": [
      "c:\\Users\\user\\Documents\\GitHub\\ML-Excuses\\env\\Lib\\site-packages\\keras\\src\\layers\\convolutional\\base_conv.py:107: UserWarning: Do not pass an `input_shape`/`input_dim` argument to a layer. When using Sequential models, prefer using an `Input(shape)` object as the first layer in the model instead.\n",
      "  super().__init__(activity_regularizer=activity_regularizer, **kwargs)\n"
     ]
    },
    {
     "name": "stdout",
     "output_type": "stream",
     "text": [
      "Epoch 1/10\n",
      "\u001b[1m107/107\u001b[0m \u001b[32m━━━━━━━━━━━━━━━━━━━━\u001b[0m\u001b[37m\u001b[0m \u001b[1m9s\u001b[0m 81ms/step - accuracy: 0.4741 - auc_3: 0.7534 - loss: 1.1330 - recall_3: 0.2114 - val_accuracy: 0.7077 - val_auc_3: 0.9009 - val_loss: 0.7765 - val_recall_3: 0.6286\n",
      "Epoch 2/10\n",
      "\u001b[1m107/107\u001b[0m \u001b[32m━━━━━━━━━━━━━━━━━━━━\u001b[0m\u001b[37m\u001b[0m \u001b[1m8s\u001b[0m 78ms/step - accuracy: 0.7048 - auc_3: 0.9083 - loss: 0.7260 - recall_3: 0.6255 - val_accuracy: 0.6819 - val_auc_3: 0.8925 - val_loss: 0.8431 - val_recall_3: 0.6561\n",
      "Epoch 3/10\n",
      "\u001b[1m107/107\u001b[0m \u001b[32m━━━━━━━━━━━━━━━━━━━━\u001b[0m\u001b[37m\u001b[0m \u001b[1m8s\u001b[0m 79ms/step - accuracy: 0.7503 - auc_3: 0.9344 - loss: 0.6138 - recall_3: 0.7058 - val_accuracy: 0.8125 - val_auc_3: 0.9558 - val_loss: 0.5030 - val_recall_3: 0.7909\n",
      "Epoch 4/10\n",
      "\u001b[1m107/107\u001b[0m \u001b[32m━━━━━━━━━━━━━━━━━━━━\u001b[0m\u001b[37m\u001b[0m \u001b[1m8s\u001b[0m 77ms/step - accuracy: 0.8055 - auc_3: 0.9557 - loss: 0.5013 - recall_3: 0.7681 - val_accuracy: 0.7967 - val_auc_3: 0.9551 - val_loss: 0.5000 - val_recall_3: 0.7768\n",
      "Epoch 5/10\n",
      "\u001b[1m107/107\u001b[0m \u001b[32m━━━━━━━━━━━━━━━━━━━━\u001b[0m\u001b[37m\u001b[0m \u001b[1m8s\u001b[0m 77ms/step - accuracy: 0.8315 - auc_3: 0.9650 - loss: 0.4415 - recall_3: 0.8094 - val_accuracy: 0.8512 - val_auc_3: 0.9703 - val_loss: 0.4039 - val_recall_3: 0.8360\n",
      "Epoch 6/10\n",
      "\u001b[1m107/107\u001b[0m \u001b[32m━━━━━━━━━━━━━━━━━━━━\u001b[0m\u001b[37m\u001b[0m \u001b[1m8s\u001b[0m 76ms/step - accuracy: 0.8507 - auc_3: 0.9726 - loss: 0.3897 - recall_3: 0.8338 - val_accuracy: 0.8664 - val_auc_3: 0.9776 - val_loss: 0.3513 - val_recall_3: 0.8565\n",
      "Epoch 7/10\n",
      "\u001b[1m107/107\u001b[0m \u001b[32m━━━━━━━━━━━━━━━━━━━━\u001b[0m\u001b[37m\u001b[0m \u001b[1m8s\u001b[0m 76ms/step - accuracy: 0.8890 - auc_3: 0.9820 - loss: 0.3140 - recall_3: 0.8763 - val_accuracy: 0.8711 - val_auc_3: 0.9787 - val_loss: 0.3365 - val_recall_3: 0.8576\n",
      "Epoch 8/10\n",
      "\u001b[1m107/107\u001b[0m \u001b[32m━━━━━━━━━━━━━━━━━━━━\u001b[0m\u001b[37m\u001b[0m \u001b[1m8s\u001b[0m 76ms/step - accuracy: 0.8852 - auc_3: 0.9846 - loss: 0.2904 - recall_3: 0.8769 - val_accuracy: 0.8547 - val_auc_3: 0.9710 - val_loss: 0.4053 - val_recall_3: 0.8500\n",
      "Epoch 9/10\n",
      "\u001b[1m107/107\u001b[0m \u001b[32m━━━━━━━━━━━━━━━━━━━━\u001b[0m\u001b[37m\u001b[0m \u001b[1m8s\u001b[0m 76ms/step - accuracy: 0.9230 - auc_3: 0.9915 - loss: 0.2093 - recall_3: 0.9186 - val_accuracy: 0.8096 - val_auc_3: 0.9605 - val_loss: 0.5171 - val_recall_3: 0.8002\n",
      "Epoch 10/10\n",
      "\u001b[1m107/107\u001b[0m \u001b[32m━━━━━━━━━━━━━━━━━━━━\u001b[0m\u001b[37m\u001b[0m \u001b[1m8s\u001b[0m 77ms/step - accuracy: 0.9387 - auc_3: 0.9905 - loss: 0.2025 - recall_3: 0.9318 - val_accuracy: 0.8881 - val_auc_3: 0.9802 - val_loss: 0.3243 - val_recall_3: 0.8858\n",
      "\u001b[1m54/54\u001b[0m \u001b[32m━━━━━━━━━━━━━━━━━━━━\u001b[0m\u001b[37m\u001b[0m \u001b[1m1s\u001b[0m 20ms/step\n",
      "Fold 2/3\n"
     ]
    },
    {
     "name": "stderr",
     "output_type": "stream",
     "text": [
      "c:\\Users\\user\\Documents\\GitHub\\ML-Excuses\\env\\Lib\\site-packages\\keras\\src\\layers\\convolutional\\base_conv.py:107: UserWarning: Do not pass an `input_shape`/`input_dim` argument to a layer. When using Sequential models, prefer using an `Input(shape)` object as the first layer in the model instead.\n",
      "  super().__init__(activity_regularizer=activity_regularizer, **kwargs)\n"
     ]
    },
    {
     "name": "stdout",
     "output_type": "stream",
     "text": [
      "Epoch 1/10\n",
      "\u001b[1m107/107\u001b[0m \u001b[32m━━━━━━━━━━━━━━━━━━━━\u001b[0m\u001b[37m\u001b[0m \u001b[1m9s\u001b[0m 80ms/step - accuracy: 0.4719 - auc_4: 0.7379 - loss: 1.2205 - recall_4: 0.2362 - val_accuracy: 0.7059 - val_auc_4: 0.9216 - val_loss: 0.7059 - val_recall_4: 0.6028\n",
      "Epoch 2/10\n",
      "\u001b[1m107/107\u001b[0m \u001b[32m━━━━━━━━━━━━━━━━━━━━\u001b[0m\u001b[37m\u001b[0m \u001b[1m8s\u001b[0m 77ms/step - accuracy: 0.7288 - auc_4: 0.9158 - loss: 0.7084 - recall_4: 0.6399 - val_accuracy: 0.7276 - val_auc_4: 0.9121 - val_loss: 0.7142 - val_recall_4: 0.6462\n",
      "Epoch 3/10\n",
      "\u001b[1m107/107\u001b[0m \u001b[32m━━━━━━━━━━━━━━━━━━━━\u001b[0m\u001b[37m\u001b[0m \u001b[1m8s\u001b[0m 77ms/step - accuracy: 0.8006 - auc_4: 0.9481 - loss: 0.5470 - recall_4: 0.7439 - val_accuracy: 0.7926 - val_auc_4: 0.9543 - val_loss: 0.5081 - val_recall_4: 0.7551\n",
      "Epoch 4/10\n",
      "\u001b[1m107/107\u001b[0m \u001b[32m━━━━━━━━━━━━━━━━━━━━\u001b[0m\u001b[37m\u001b[0m \u001b[1m8s\u001b[0m 77ms/step - accuracy: 0.8175 - auc_4: 0.9599 - loss: 0.4772 - recall_4: 0.7807 - val_accuracy: 0.7709 - val_auc_4: 0.9537 - val_loss: 0.5192 - val_recall_4: 0.7528\n",
      "Epoch 5/10\n",
      "\u001b[1m107/107\u001b[0m \u001b[32m━━━━━━━━━━━━━━━━━━━━\u001b[0m\u001b[37m\u001b[0m \u001b[1m9s\u001b[0m 80ms/step - accuracy: 0.8448 - auc_4: 0.9702 - loss: 0.4055 - recall_4: 0.8262 - val_accuracy: 0.8442 - val_auc_4: 0.9682 - val_loss: 0.4278 - val_recall_4: 0.8301\n",
      "Epoch 6/10\n",
      "\u001b[1m107/107\u001b[0m \u001b[32m━━━━━━━━━━━━━━━━━━━━\u001b[0m\u001b[37m\u001b[0m \u001b[1m8s\u001b[0m 79ms/step - accuracy: 0.8880 - auc_4: 0.9809 - loss: 0.3191 - recall_4: 0.8734 - val_accuracy: 0.8682 - val_auc_4: 0.9711 - val_loss: 0.3997 - val_recall_4: 0.8430\n",
      "Epoch 7/10\n",
      "\u001b[1m107/107\u001b[0m \u001b[32m━━━━━━━━━━━━━━━━━━━━\u001b[0m\u001b[37m\u001b[0m \u001b[1m8s\u001b[0m 78ms/step - accuracy: 0.8983 - auc_4: 0.9852 - loss: 0.2765 - recall_4: 0.8899 - val_accuracy: 0.8735 - val_auc_4: 0.9754 - val_loss: 0.3650 - val_recall_4: 0.8664\n",
      "Epoch 8/10\n",
      "\u001b[1m107/107\u001b[0m \u001b[32m━━━━━━━━━━━━━━━━━━━━\u001b[0m\u001b[37m\u001b[0m \u001b[1m9s\u001b[0m 79ms/step - accuracy: 0.9268 - auc_4: 0.9909 - loss: 0.2149 - recall_4: 0.9219 - val_accuracy: 0.8758 - val_auc_4: 0.9791 - val_loss: 0.3419 - val_recall_4: 0.8711\n",
      "Epoch 9/10\n",
      "\u001b[1m107/107\u001b[0m \u001b[32m━━━━━━━━━━━━━━━━━━━━\u001b[0m\u001b[37m\u001b[0m \u001b[1m8s\u001b[0m 79ms/step - accuracy: 0.9424 - auc_4: 0.9942 - loss: 0.1732 - recall_4: 0.9378 - val_accuracy: 0.8969 - val_auc_4: 0.9794 - val_loss: 0.3301 - val_recall_4: 0.8887\n",
      "Epoch 10/10\n",
      "\u001b[1m107/107\u001b[0m \u001b[32m━━━━━━━━━━━━━━━━━━━━\u001b[0m\u001b[37m\u001b[0m \u001b[1m8s\u001b[0m 79ms/step - accuracy: 0.9488 - auc_4: 0.9959 - loss: 0.1427 - recall_4: 0.9471 - val_accuracy: 0.9033 - val_auc_4: 0.9808 - val_loss: 0.3154 - val_recall_4: 0.9004\n",
      "\u001b[1m54/54\u001b[0m \u001b[32m━━━━━━━━━━━━━━━━━━━━\u001b[0m\u001b[37m\u001b[0m \u001b[1m1s\u001b[0m 20ms/step\n",
      "Fold 3/3\n"
     ]
    },
    {
     "name": "stderr",
     "output_type": "stream",
     "text": [
      "c:\\Users\\user\\Documents\\GitHub\\ML-Excuses\\env\\Lib\\site-packages\\keras\\src\\layers\\convolutional\\base_conv.py:107: UserWarning: Do not pass an `input_shape`/`input_dim` argument to a layer. When using Sequential models, prefer using an `Input(shape)` object as the first layer in the model instead.\n",
      "  super().__init__(activity_regularizer=activity_regularizer, **kwargs)\n"
     ]
    },
    {
     "name": "stdout",
     "output_type": "stream",
     "text": [
      "Epoch 1/10\n",
      "\u001b[1m107/107\u001b[0m \u001b[32m━━━━━━━━━━━━━━━━━━━━\u001b[0m\u001b[37m\u001b[0m \u001b[1m10s\u001b[0m 83ms/step - accuracy: 0.4625 - auc_5: 0.7381 - loss: 1.2000 - recall_5: 0.2116 - val_accuracy: 0.7204 - val_auc_5: 0.9132 - val_loss: 0.7226 - val_recall_5: 0.5979\n",
      "Epoch 2/10\n",
      "\u001b[1m107/107\u001b[0m \u001b[32m━━━━━━━━━━━━━━━━━━━━\u001b[0m\u001b[37m\u001b[0m \u001b[1m9s\u001b[0m 83ms/step - accuracy: 0.6860 - auc_5: 0.9060 - loss: 0.7321 - recall_5: 0.6040 - val_accuracy: 0.7409 - val_auc_5: 0.9405 - val_loss: 0.5837 - val_recall_5: 0.7075\n",
      "Epoch 3/10\n",
      "\u001b[1m107/107\u001b[0m \u001b[32m━━━━━━━━━━━━━━━━━━━━\u001b[0m\u001b[37m\u001b[0m \u001b[1m9s\u001b[0m 79ms/step - accuracy: 0.7728 - auc_5: 0.9390 - loss: 0.5916 - recall_5: 0.7089 - val_accuracy: 0.8406 - val_auc_5: 0.9650 - val_loss: 0.4569 - val_recall_5: 0.8148\n",
      "Epoch 4/10\n",
      "\u001b[1m107/107\u001b[0m \u001b[32m━━━━━━━━━━━━━━━━━━━━\u001b[0m\u001b[37m\u001b[0m \u001b[1m9s\u001b[0m 79ms/step - accuracy: 0.7987 - auc_5: 0.9547 - loss: 0.5058 - recall_5: 0.7646 - val_accuracy: 0.8623 - val_auc_5: 0.9678 - val_loss: 0.4230 - val_recall_5: 0.8464\n",
      "Epoch 5/10\n",
      "\u001b[1m107/107\u001b[0m \u001b[32m━━━━━━━━━━━━━━━━━━━━\u001b[0m\u001b[37m\u001b[0m \u001b[1m9s\u001b[0m 80ms/step - accuracy: 0.8444 - auc_5: 0.9689 - loss: 0.4188 - recall_5: 0.8184 - val_accuracy: 0.8312 - val_auc_5: 0.9686 - val_loss: 0.4195 - val_recall_5: 0.8195\n",
      "Epoch 6/10\n",
      "\u001b[1m107/107\u001b[0m \u001b[32m━━━━━━━━━━━━━━━━━━━━\u001b[0m\u001b[37m\u001b[0m \u001b[1m9s\u001b[0m 79ms/step - accuracy: 0.8695 - auc_5: 0.9789 - loss: 0.3399 - recall_5: 0.8500 - val_accuracy: 0.8869 - val_auc_5: 0.9754 - val_loss: 0.3733 - val_recall_5: 0.8722\n",
      "Epoch 7/10\n",
      "\u001b[1m107/107\u001b[0m \u001b[32m━━━━━━━━━━━━━━━━━━━━\u001b[0m\u001b[37m\u001b[0m \u001b[1m13s\u001b[0m 103ms/step - accuracy: 0.8949 - auc_5: 0.9850 - loss: 0.2858 - recall_5: 0.8859 - val_accuracy: 0.8880 - val_auc_5: 0.9765 - val_loss: 0.3689 - val_recall_5: 0.8816\n",
      "Epoch 8/10\n",
      "\u001b[1m107/107\u001b[0m \u001b[32m━━━━━━━━━━━━━━━━━━━━\u001b[0m\u001b[37m\u001b[0m \u001b[1m9s\u001b[0m 88ms/step - accuracy: 0.9064 - auc_5: 0.9864 - loss: 0.2660 - recall_5: 0.8974 - val_accuracy: 0.9021 - val_auc_5: 0.9794 - val_loss: 0.3330 - val_recall_5: 0.8980\n",
      "Epoch 9/10\n",
      "\u001b[1m107/107\u001b[0m \u001b[32m━━━━━━━━━━━━━━━━━━━━\u001b[0m\u001b[37m\u001b[0m \u001b[1m9s\u001b[0m 86ms/step - accuracy: 0.9258 - auc_5: 0.9923 - loss: 0.2000 - recall_5: 0.9177 - val_accuracy: 0.8769 - val_auc_5: 0.9764 - val_loss: 0.3753 - val_recall_5: 0.8763\n",
      "Epoch 10/10\n",
      "\u001b[1m107/107\u001b[0m \u001b[32m━━━━━━━━━━━━━━━━━━━━\u001b[0m\u001b[37m\u001b[0m \u001b[1m10s\u001b[0m 90ms/step - accuracy: 0.9260 - auc_5: 0.9916 - loss: 0.2027 - recall_5: 0.9202 - val_accuracy: 0.9021 - val_auc_5: 0.9824 - val_loss: 0.3201 - val_recall_5: 0.8968\n",
      "\u001b[1m54/54\u001b[0m \u001b[32m━━━━━━━━━━━━━━━━━━━━\u001b[0m\u001b[37m\u001b[0m \u001b[1m1s\u001b[0m 25ms/step\n",
      "\u001b[1m50/50\u001b[0m \u001b[32m━━━━━━━━━━━━━━━━━━━━\u001b[0m\u001b[37m\u001b[0m \u001b[1m1s\u001b[0m 24ms/step\n"
     ]
    },
    {
     "name": "stderr",
     "output_type": "stream",
     "text": [
      "2024/12/11 03:05:45 WARNING mlflow.keras.save: You are saving a Keras model without specifying model signature.\n",
      "2024/12/11 03:05:50 WARNING mlflow.models.model: Model logged without a signature and input example. Please set `input_example` parameter when logging the model to auto infer the model signature.\n"
     ]
    },
    {
     "name": "stdout",
     "output_type": "stream",
     "text": [
      "\u001b[1m160/160\u001b[0m \u001b[32m━━━━━━━━━━━━━━━━━━━━\u001b[0m\u001b[37m\u001b[0m \u001b[1m3s\u001b[0m 21ms/step\n"
     ]
    },
    {
     "data": {
      "application/vnd.jupyter.widget-view+json": {
       "model_id": "d1f0a9bbb8294381a96465b83f44f08c",
       "version_major": 2,
       "version_minor": 0
      },
      "text/plain": [
       "Downloading artifacts:   0%|          | 0/7 [00:00<?, ?it/s]"
      ]
     },
     "metadata": {},
     "output_type": "display_data"
    },
    {
     "name": "stdout",
     "output_type": "stream",
     "text": [
      "\u001b[1m1/1\u001b[0m \u001b[32m━━━━━━━━━━━━━━━━━━━━\u001b[0m\u001b[37m\u001b[0m \u001b[1m0s\u001b[0m 69ms/step\n"
     ]
    },
    {
     "name": "stderr",
     "output_type": "stream",
     "text": [
      "Registered model 'convolutional-neural-network' already exists. Creating a new version of this model...\n",
      "2024/12/11 03:06:00 INFO mlflow.store.model_registry.abstract_store: Waiting up to 300 seconds for model version to finish creation. Model name: convolutional-neural-network, version 6\n",
      "Created version '6' of model 'convolutional-neural-network'.\n"
     ]
    },
    {
     "name": "stdout",
     "output_type": "stream",
     "text": [
      "🏃 View run CNN : Experiment 6 at: http://127.0.0.1:5000/#/experiments/344762819335167390/runs/8e0191b3db8a480baaa5e8efb599c86b\n",
      "🧪 View experiment at: http://127.0.0.1:5000/#/experiments/344762819335167390\n",
      "Starting experiment 7 with parameters: {'filters': 32, 'kernel_size': (3, 3), 'dropout_rate': 0.3, 'batch_size': 32, 'epochs': 10, 'optimizer': 'rmsprop'}\n",
      "Fold 1/3\n"
     ]
    },
    {
     "name": "stderr",
     "output_type": "stream",
     "text": [
      "c:\\Users\\user\\Documents\\GitHub\\ML-Excuses\\env\\Lib\\site-packages\\keras\\src\\layers\\convolutional\\base_conv.py:107: UserWarning: Do not pass an `input_shape`/`input_dim` argument to a layer. When using Sequential models, prefer using an `Input(shape)` object as the first layer in the model instead.\n",
      "  super().__init__(activity_regularizer=activity_regularizer, **kwargs)\n"
     ]
    },
    {
     "name": "stdout",
     "output_type": "stream",
     "text": [
      "Epoch 1/10\n",
      "\u001b[1m107/107\u001b[0m \u001b[32m━━━━━━━━━━━━━━━━━━━━\u001b[0m\u001b[37m\u001b[0m \u001b[1m27s\u001b[0m 244ms/step - accuracy: 0.4536 - auc_6: 0.7171 - loss: 1.2774 - recall_6: 0.2080 - val_accuracy: 0.6731 - val_auc_6: 0.9085 - val_loss: 0.7153 - val_recall_6: 0.6069\n",
      "Epoch 2/10\n",
      "\u001b[1m107/107\u001b[0m \u001b[32m━━━━━━━━━━━━━━━━━━━━\u001b[0m\u001b[37m\u001b[0m \u001b[1m25s\u001b[0m 229ms/step - accuracy: 0.6746 - auc_6: 0.9028 - loss: 0.7390 - recall_6: 0.5996 - val_accuracy: 0.8020 - val_auc_6: 0.9577 - val_loss: 0.4879 - val_recall_6: 0.7756\n",
      "Epoch 3/10\n",
      "\u001b[1m107/107\u001b[0m \u001b[32m━━━━━━━━━━━━━━━━━━━━\u001b[0m\u001b[37m\u001b[0m \u001b[1m24s\u001b[0m 222ms/step - accuracy: 0.8017 - auc_6: 0.9548 - loss: 0.5061 - recall_6: 0.7767 - val_accuracy: 0.8178 - val_auc_6: 0.9652 - val_loss: 0.4434 - val_recall_6: 0.7967\n",
      "Epoch 4/10\n",
      "\u001b[1m107/107\u001b[0m \u001b[32m━━━━━━━━━━━━━━━━━━━━\u001b[0m\u001b[37m\u001b[0m \u001b[1m26s\u001b[0m 239ms/step - accuracy: 0.8365 - auc_6: 0.9716 - loss: 0.3938 - recall_6: 0.8195 - val_accuracy: 0.8477 - val_auc_6: 0.9695 - val_loss: 0.4066 - val_recall_6: 0.8342\n",
      "Epoch 5/10\n",
      "\u001b[1m107/107\u001b[0m \u001b[32m━━━━━━━━━━━━━━━━━━━━\u001b[0m\u001b[37m\u001b[0m \u001b[1m25s\u001b[0m 230ms/step - accuracy: 0.8807 - auc_6: 0.9830 - loss: 0.3017 - recall_6: 0.8702 - val_accuracy: 0.8448 - val_auc_6: 0.9679 - val_loss: 0.4274 - val_recall_6: 0.8342\n",
      "Epoch 6/10\n",
      "\u001b[1m107/107\u001b[0m \u001b[32m━━━━━━━━━━━━━━━━━━━━\u001b[0m\u001b[37m\u001b[0m \u001b[1m40s\u001b[0m 222ms/step - accuracy: 0.9131 - auc_6: 0.9900 - loss: 0.2264 - recall_6: 0.9047 - val_accuracy: 0.8987 - val_auc_6: 0.9836 - val_loss: 0.2893 - val_recall_6: 0.8916\n",
      "Epoch 7/10\n",
      "\u001b[1m107/107\u001b[0m \u001b[32m━━━━━━━━━━━━━━━━━━━━\u001b[0m\u001b[37m\u001b[0m \u001b[1m24s\u001b[0m 224ms/step - accuracy: 0.9442 - auc_6: 0.9958 - loss: 0.1483 - recall_6: 0.9418 - val_accuracy: 0.7914 - val_auc_6: 0.9578 - val_loss: 0.5946 - val_recall_6: 0.7868\n",
      "Epoch 8/10\n",
      "\u001b[1m107/107\u001b[0m \u001b[32m━━━━━━━━━━━━━━━━━━━━\u001b[0m\u001b[37m\u001b[0m \u001b[1m24s\u001b[0m 222ms/step - accuracy: 0.9630 - auc_6: 0.9975 - loss: 0.1052 - recall_6: 0.9614 - val_accuracy: 0.9010 - val_auc_6: 0.9809 - val_loss: 0.3428 - val_recall_6: 0.8963\n",
      "Epoch 9/10\n",
      "\u001b[1m107/107\u001b[0m \u001b[32m━━━━━━━━━━━━━━━━━━━━\u001b[0m\u001b[37m\u001b[0m \u001b[1m24s\u001b[0m 220ms/step - accuracy: 0.9659 - auc_6: 0.9977 - loss: 0.1008 - recall_6: 0.9648 - val_accuracy: 0.9010 - val_auc_6: 0.9821 - val_loss: 0.3145 - val_recall_6: 0.9004\n",
      "\u001b[1m54/54\u001b[0m \u001b[32m━━━━━━━━━━━━━━━━━━━━\u001b[0m\u001b[37m\u001b[0m \u001b[1m3s\u001b[0m 57ms/step\n",
      "Fold 2/3\n"
     ]
    },
    {
     "name": "stderr",
     "output_type": "stream",
     "text": [
      "c:\\Users\\user\\Documents\\GitHub\\ML-Excuses\\env\\Lib\\site-packages\\keras\\src\\layers\\convolutional\\base_conv.py:107: UserWarning: Do not pass an `input_shape`/`input_dim` argument to a layer. When using Sequential models, prefer using an `Input(shape)` object as the first layer in the model instead.\n",
      "  super().__init__(activity_regularizer=activity_regularizer, **kwargs)\n"
     ]
    },
    {
     "name": "stdout",
     "output_type": "stream",
     "text": [
      "Epoch 1/10\n",
      "\u001b[1m107/107\u001b[0m \u001b[32m━━━━━━━━━━━━━━━━━━━━\u001b[0m\u001b[37m\u001b[0m \u001b[1m25s\u001b[0m 226ms/step - accuracy: 0.4945 - auc_7: 0.7374 - loss: 1.3664 - recall_7: 0.2336 - val_accuracy: 0.6725 - val_auc_7: 0.9086 - val_loss: 0.7140 - val_recall_7: 0.5917\n",
      "Epoch 2/10\n",
      "\u001b[1m107/107\u001b[0m \u001b[32m━━━━━━━━━━━━━━━━━━━━\u001b[0m\u001b[37m\u001b[0m \u001b[1m25s\u001b[0m 234ms/step - accuracy: 0.7315 - auc_7: 0.9223 - loss: 0.6673 - recall_7: 0.6726 - val_accuracy: 0.8125 - val_auc_7: 0.9589 - val_loss: 0.4879 - val_recall_7: 0.7780\n",
      "Epoch 3/10\n",
      "\u001b[1m107/107\u001b[0m \u001b[32m━━━━━━━━━━━━━━━━━━━━\u001b[0m\u001b[37m\u001b[0m \u001b[1m25s\u001b[0m 233ms/step - accuracy: 0.8023 - auc_7: 0.9565 - loss: 0.4939 - recall_7: 0.7694 - val_accuracy: 0.7381 - val_auc_7: 0.9444 - val_loss: 0.6172 - val_recall_7: 0.7241\n",
      "Epoch 4/10\n",
      "\u001b[1m107/107\u001b[0m \u001b[32m━━━━━━━━━━━━━━━━━━━━\u001b[0m\u001b[37m\u001b[0m \u001b[1m26s\u001b[0m 243ms/step - accuracy: 0.8548 - auc_7: 0.9733 - loss: 0.3799 - recall_7: 0.8431 - val_accuracy: 0.8295 - val_auc_7: 0.9700 - val_loss: 0.4110 - val_recall_7: 0.8231\n",
      "Epoch 5/10\n",
      "\u001b[1m107/107\u001b[0m \u001b[32m━━━━━━━━━━━━━━━━━━━━\u001b[0m\u001b[37m\u001b[0m \u001b[1m26s\u001b[0m 240ms/step - accuracy: 0.8914 - auc_7: 0.9829 - loss: 0.3020 - recall_7: 0.8823 - val_accuracy: 0.8483 - val_auc_7: 0.9706 - val_loss: 0.4270 - val_recall_7: 0.8424\n",
      "Epoch 6/10\n",
      "\u001b[1m107/107\u001b[0m \u001b[32m━━━━━━━━━━━━━━━━━━━━\u001b[0m\u001b[37m\u001b[0m \u001b[1m26s\u001b[0m 241ms/step - accuracy: 0.9177 - auc_7: 0.9908 - loss: 0.2139 - recall_7: 0.9129 - val_accuracy: 0.8653 - val_auc_7: 0.9752 - val_loss: 0.3869 - val_recall_7: 0.8600\n",
      "Epoch 7/10\n",
      "\u001b[1m107/107\u001b[0m \u001b[32m━━━━━━━━━━━━━━━━━━━━\u001b[0m\u001b[37m\u001b[0m \u001b[1m27s\u001b[0m 250ms/step - accuracy: 0.9409 - auc_7: 0.9937 - loss: 0.1708 - recall_7: 0.9365 - val_accuracy: 0.8881 - val_auc_7: 0.9812 - val_loss: 0.3409 - val_recall_7: 0.8864\n",
      "Epoch 8/10\n",
      "\u001b[1m107/107\u001b[0m \u001b[32m━━━━━━━━━━━━━━━━━━━━\u001b[0m\u001b[37m\u001b[0m \u001b[1m27s\u001b[0m 251ms/step - accuracy: 0.9586 - auc_7: 0.9968 - loss: 0.1133 - recall_7: 0.9564 - val_accuracy: 0.8740 - val_auc_7: 0.9722 - val_loss: 0.4830 - val_recall_7: 0.8711\n",
      "Epoch 9/10\n",
      "\u001b[1m107/107\u001b[0m \u001b[32m━━━━━━━━━━━━━━━━━━━━\u001b[0m\u001b[37m\u001b[0m \u001b[1m27s\u001b[0m 256ms/step - accuracy: 0.9548 - auc_7: 0.9958 - loss: 0.1264 - recall_7: 0.9542 - val_accuracy: 0.8981 - val_auc_7: 0.9797 - val_loss: 0.3777 - val_recall_7: 0.8946\n",
      "Epoch 10/10\n",
      "\u001b[1m107/107\u001b[0m \u001b[32m━━━━━━━━━━━━━━━━━━━━\u001b[0m\u001b[37m\u001b[0m \u001b[1m27s\u001b[0m 256ms/step - accuracy: 0.9759 - auc_7: 0.9985 - loss: 0.0663 - recall_7: 0.9753 - val_accuracy: 0.8676 - val_auc_7: 0.9751 - val_loss: 0.4616 - val_recall_7: 0.8647\n",
      "\u001b[1m54/54\u001b[0m \u001b[32m━━━━━━━━━━━━━━━━━━━━\u001b[0m\u001b[37m\u001b[0m \u001b[1m4s\u001b[0m 65ms/step\n",
      "Fold 3/3\n"
     ]
    },
    {
     "name": "stderr",
     "output_type": "stream",
     "text": [
      "c:\\Users\\user\\Documents\\GitHub\\ML-Excuses\\env\\Lib\\site-packages\\keras\\src\\layers\\convolutional\\base_conv.py:107: UserWarning: Do not pass an `input_shape`/`input_dim` argument to a layer. When using Sequential models, prefer using an `Input(shape)` object as the first layer in the model instead.\n",
      "  super().__init__(activity_regularizer=activity_regularizer, **kwargs)\n"
     ]
    },
    {
     "name": "stdout",
     "output_type": "stream",
     "text": [
      "Epoch 1/10\n",
      "\u001b[1m107/107\u001b[0m \u001b[32m━━━━━━━━━━━━━━━━━━━━\u001b[0m\u001b[37m\u001b[0m \u001b[1m29s\u001b[0m 260ms/step - accuracy: 0.4482 - auc_8: 0.7312 - loss: 1.2742 - recall_8: 0.2014 - val_accuracy: 0.5780 - val_auc_8: 0.8566 - val_loss: 0.9089 - val_recall_8: 0.4924\n",
      "Epoch 2/10\n",
      "\u001b[1m107/107\u001b[0m \u001b[32m━━━━━━━━━━━━━━━━━━━━\u001b[0m\u001b[37m\u001b[0m \u001b[1m27s\u001b[0m 251ms/step - accuracy: 0.7055 - auc_8: 0.9090 - loss: 0.7228 - recall_8: 0.6054 - val_accuracy: 0.7263 - val_auc_8: 0.9343 - val_loss: 0.6252 - val_recall_8: 0.6987\n",
      "Epoch 3/10\n",
      "\u001b[1m107/107\u001b[0m \u001b[32m━━━━━━━━━━━━━━━━━━━━\u001b[0m\u001b[37m\u001b[0m \u001b[1m26s\u001b[0m 247ms/step - accuracy: 0.7727 - auc_8: 0.9466 - loss: 0.5466 - recall_8: 0.7355 - val_accuracy: 0.8558 - val_auc_8: 0.9686 - val_loss: 0.4356 - val_recall_8: 0.8236\n",
      "Epoch 4/10\n",
      "\u001b[1m107/107\u001b[0m \u001b[32m━━━━━━━━━━━━━━━━━━━━\u001b[0m\u001b[37m\u001b[0m \u001b[1m25s\u001b[0m 237ms/step - accuracy: 0.8293 - auc_8: 0.9613 - loss: 0.4635 - recall_8: 0.8049 - val_accuracy: 0.8494 - val_auc_8: 0.9686 - val_loss: 0.4183 - val_recall_8: 0.8306\n",
      "Epoch 5/10\n",
      "\u001b[1m107/107\u001b[0m \u001b[32m━━━━━━━━━━━━━━━━━━━━\u001b[0m\u001b[37m\u001b[0m \u001b[1m26s\u001b[0m 244ms/step - accuracy: 0.8583 - auc_8: 0.9767 - loss: 0.3573 - recall_8: 0.8449 - val_accuracy: 0.8810 - val_auc_8: 0.9743 - val_loss: 0.3791 - val_recall_8: 0.8710\n",
      "Epoch 6/10\n",
      "\u001b[1m107/107\u001b[0m \u001b[32m━━━━━━━━━━━━━━━━━━━━\u001b[0m\u001b[37m\u001b[0m \u001b[1m27s\u001b[0m 249ms/step - accuracy: 0.9046 - auc_8: 0.9875 - loss: 0.2572 - recall_8: 0.8956 - val_accuracy: 0.8705 - val_auc_8: 0.9748 - val_loss: 0.3899 - val_recall_8: 0.8599\n",
      "Epoch 7/10\n",
      "\u001b[1m107/107\u001b[0m \u001b[32m━━━━━━━━━━━━━━━━━━━━\u001b[0m\u001b[37m\u001b[0m \u001b[1m27s\u001b[0m 250ms/step - accuracy: 0.9175 - auc_8: 0.9903 - loss: 0.2170 - recall_8: 0.9129 - val_accuracy: 0.9015 - val_auc_8: 0.9766 - val_loss: 0.3615 - val_recall_8: 0.8998\n",
      "Epoch 8/10\n",
      "\u001b[1m107/107\u001b[0m \u001b[32m━━━━━━━━━━━━━━━━━━━━\u001b[0m\u001b[37m\u001b[0m \u001b[1m28s\u001b[0m 257ms/step - accuracy: 0.9273 - auc_8: 0.9932 - loss: 0.1855 - recall_8: 0.9220 - val_accuracy: 0.9121 - val_auc_8: 0.9802 - val_loss: 0.3251 - val_recall_8: 0.9109\n",
      "Epoch 9/10\n",
      "\u001b[1m107/107\u001b[0m \u001b[32m━━━━━━━━━━━━━━━━━━━━\u001b[0m\u001b[37m\u001b[0m \u001b[1m27s\u001b[0m 249ms/step - accuracy: 0.9594 - auc_8: 0.9961 - loss: 0.1260 - recall_8: 0.9577 - val_accuracy: 0.8828 - val_auc_8: 0.9770 - val_loss: 0.4244 - val_recall_8: 0.8804\n",
      "Epoch 10/10\n",
      "\u001b[1m107/107\u001b[0m \u001b[32m━━━━━━━━━━━━━━━━━━━━\u001b[0m\u001b[37m\u001b[0m \u001b[1m26s\u001b[0m 243ms/step - accuracy: 0.9670 - auc_8: 0.9970 - loss: 0.1048 - recall_8: 0.9620 - val_accuracy: 0.8605 - val_auc_8: 0.9763 - val_loss: 0.4175 - val_recall_8: 0.8564\n",
      "\u001b[1m54/54\u001b[0m \u001b[32m━━━━━━━━━━━━━━━━━━━━\u001b[0m\u001b[37m\u001b[0m \u001b[1m3s\u001b[0m 60ms/step\n",
      "\u001b[1m50/50\u001b[0m \u001b[32m━━━━━━━━━━━━━━━━━━━━\u001b[0m\u001b[37m\u001b[0m \u001b[1m3s\u001b[0m 61ms/step\n"
     ]
    },
    {
     "name": "stderr",
     "output_type": "stream",
     "text": [
      "2024/12/11 03:19:03 WARNING mlflow.keras.save: You are saving a Keras model without specifying model signature.\n",
      "2024/12/11 03:19:10 WARNING mlflow.models.model: Model logged without a signature and input example. Please set `input_example` parameter when logging the model to auto infer the model signature.\n"
     ]
    },
    {
     "name": "stdout",
     "output_type": "stream",
     "text": [
      "\u001b[1m160/160\u001b[0m \u001b[32m━━━━━━━━━━━━━━━━━━━━\u001b[0m\u001b[37m\u001b[0m \u001b[1m9s\u001b[0m 57ms/step\n"
     ]
    },
    {
     "data": {
      "application/vnd.jupyter.widget-view+json": {
       "model_id": "1287d7ece89947bcbfb7c4dce2527c2a",
       "version_major": 2,
       "version_minor": 0
      },
      "text/plain": [
       "Downloading artifacts:   0%|          | 0/7 [00:00<?, ?it/s]"
      ]
     },
     "metadata": {},
     "output_type": "display_data"
    },
    {
     "name": "stdout",
     "output_type": "stream",
     "text": [
      "\u001b[1m1/1\u001b[0m \u001b[32m━━━━━━━━━━━━━━━━━━━━\u001b[0m\u001b[37m\u001b[0m \u001b[1m0s\u001b[0m 88ms/step\n"
     ]
    },
    {
     "name": "stderr",
     "output_type": "stream",
     "text": [
      "Registered model 'convolutional-neural-network' already exists. Creating a new version of this model...\n",
      "2024/12/11 03:19:26 INFO mlflow.store.model_registry.abstract_store: Waiting up to 300 seconds for model version to finish creation. Model name: convolutional-neural-network, version 7\n",
      "Created version '7' of model 'convolutional-neural-network'.\n"
     ]
    },
    {
     "name": "stdout",
     "output_type": "stream",
     "text": [
      "🏃 View run CNN : Experiment 7 at: http://127.0.0.1:5000/#/experiments/344762819335167390/runs/4f91d4bdd3e248269818fc844b689035\n",
      "🧪 View experiment at: http://127.0.0.1:5000/#/experiments/344762819335167390\n",
      "Starting experiment 8 with parameters: {'filters': 32, 'kernel_size': (3, 3), 'dropout_rate': 0.5, 'batch_size': 32, 'epochs': 10, 'optimizer': 'rmsprop'}\n",
      "Fold 1/3\n"
     ]
    },
    {
     "name": "stderr",
     "output_type": "stream",
     "text": [
      "c:\\Users\\user\\Documents\\GitHub\\ML-Excuses\\env\\Lib\\site-packages\\keras\\src\\layers\\convolutional\\base_conv.py:107: UserWarning: Do not pass an `input_shape`/`input_dim` argument to a layer. When using Sequential models, prefer using an `Input(shape)` object as the first layer in the model instead.\n",
      "  super().__init__(activity_regularizer=activity_regularizer, **kwargs)\n"
     ]
    },
    {
     "name": "stdout",
     "output_type": "stream",
     "text": [
      "Epoch 1/10\n",
      "\u001b[1m107/107\u001b[0m \u001b[32m━━━━━━━━━━━━━━━━━━━━\u001b[0m\u001b[37m\u001b[0m \u001b[1m26s\u001b[0m 230ms/step - accuracy: 0.4169 - auc_9: 0.7072 - loss: 1.2998 - recall_9: 0.1726 - val_accuracy: 0.7323 - val_auc_9: 0.9224 - val_loss: 0.6745 - val_recall_9: 0.6508\n",
      "Epoch 2/10\n",
      "\u001b[1m107/107\u001b[0m \u001b[32m━━━━━━━━━━━━━━━━━━━━\u001b[0m\u001b[37m\u001b[0m \u001b[1m24s\u001b[0m 221ms/step - accuracy: 0.7026 - auc_9: 0.9100 - loss: 0.7237 - recall_9: 0.6064 - val_accuracy: 0.6954 - val_auc_9: 0.9244 - val_loss: 0.6413 - val_recall_9: 0.6462\n",
      "Epoch 3/10\n",
      "\u001b[1m107/107\u001b[0m \u001b[32m━━━━━━━━━━━━━━━━━━━━\u001b[0m\u001b[37m\u001b[0m \u001b[1m24s\u001b[0m 226ms/step - accuracy: 0.7567 - auc_9: 0.9341 - loss: 0.6176 - recall_9: 0.7042 - val_accuracy: 0.8114 - val_auc_9: 0.9634 - val_loss: 0.4529 - val_recall_9: 0.7920\n",
      "Epoch 4/10\n",
      "\u001b[1m107/107\u001b[0m \u001b[32m━━━━━━━━━━━━━━━━━━━━\u001b[0m\u001b[37m\u001b[0m \u001b[1m26s\u001b[0m 241ms/step - accuracy: 0.8071 - auc_9: 0.9582 - loss: 0.4842 - recall_9: 0.7766 - val_accuracy: 0.8354 - val_auc_9: 0.9671 - val_loss: 0.4246 - val_recall_9: 0.8237\n",
      "Epoch 5/10\n",
      "\u001b[1m107/107\u001b[0m \u001b[32m━━━━━━━━━━━━━━━━━━━━\u001b[0m\u001b[37m\u001b[0m \u001b[1m25s\u001b[0m 236ms/step - accuracy: 0.8581 - auc_9: 0.9748 - loss: 0.3730 - recall_9: 0.8373 - val_accuracy: 0.8670 - val_auc_9: 0.9778 - val_loss: 0.3494 - val_recall_9: 0.8506\n",
      "Epoch 6/10\n",
      "\u001b[1m107/107\u001b[0m \u001b[32m━━━━━━━━━━━━━━━━━━━━\u001b[0m\u001b[37m\u001b[0m \u001b[1m26s\u001b[0m 240ms/step - accuracy: 0.8807 - auc_9: 0.9811 - loss: 0.3214 - recall_9: 0.8627 - val_accuracy: 0.8805 - val_auc_9: 0.9781 - val_loss: 0.3536 - val_recall_9: 0.8735\n",
      "Epoch 7/10\n",
      "\u001b[1m107/107\u001b[0m \u001b[32m━━━━━━━━━━━━━━━━━━━━\u001b[0m\u001b[37m\u001b[0m \u001b[1m24s\u001b[0m 226ms/step - accuracy: 0.9126 - auc_9: 0.9888 - loss: 0.2424 - recall_9: 0.9060 - val_accuracy: 0.8928 - val_auc_9: 0.9805 - val_loss: 0.3258 - val_recall_9: 0.8881\n",
      "Epoch 8/10\n",
      "\u001b[1m107/107\u001b[0m \u001b[32m━━━━━━━━━━━━━━━━━━━━\u001b[0m\u001b[37m\u001b[0m \u001b[1m24s\u001b[0m 226ms/step - accuracy: 0.9283 - auc_9: 0.9925 - loss: 0.1906 - recall_9: 0.9236 - val_accuracy: 0.8916 - val_auc_9: 0.9820 - val_loss: 0.3285 - val_recall_9: 0.8875\n",
      "Epoch 9/10\n",
      "\u001b[1m107/107\u001b[0m \u001b[32m━━━━━━━━━━━━━━━━━━━━\u001b[0m\u001b[37m\u001b[0m \u001b[1m24s\u001b[0m 227ms/step - accuracy: 0.9389 - auc_9: 0.9926 - loss: 0.1800 - recall_9: 0.9341 - val_accuracy: 0.8828 - val_auc_9: 0.9807 - val_loss: 0.3094 - val_recall_9: 0.8764\n",
      "Epoch 10/10\n",
      "\u001b[1m107/107\u001b[0m \u001b[32m━━━━━━━━━━━━━━━━━━━━\u001b[0m\u001b[37m\u001b[0m \u001b[1m24s\u001b[0m 228ms/step - accuracy: 0.9577 - auc_9: 0.9963 - loss: 0.1301 - recall_9: 0.9554 - val_accuracy: 0.8828 - val_auc_9: 0.9762 - val_loss: 0.3811 - val_recall_9: 0.8781\n",
      "\u001b[1m54/54\u001b[0m \u001b[32m━━━━━━━━━━━━━━━━━━━━\u001b[0m\u001b[37m\u001b[0m \u001b[1m3s\u001b[0m 58ms/step\n",
      "Fold 2/3\n"
     ]
    },
    {
     "name": "stderr",
     "output_type": "stream",
     "text": [
      "c:\\Users\\user\\Documents\\GitHub\\ML-Excuses\\env\\Lib\\site-packages\\keras\\src\\layers\\convolutional\\base_conv.py:107: UserWarning: Do not pass an `input_shape`/`input_dim` argument to a layer. When using Sequential models, prefer using an `Input(shape)` object as the first layer in the model instead.\n",
      "  super().__init__(activity_regularizer=activity_regularizer, **kwargs)\n"
     ]
    },
    {
     "name": "stdout",
     "output_type": "stream",
     "text": [
      "Epoch 1/10\n",
      "\u001b[1m107/107\u001b[0m \u001b[32m━━━━━━━━━━━━━━━━━━━━\u001b[0m\u001b[37m\u001b[0m \u001b[1m26s\u001b[0m 236ms/step - accuracy: 0.4515 - auc_10: 0.7430 - loss: 1.1476 - recall_10: 0.2133 - val_accuracy: 0.7118 - val_auc_10: 0.9112 - val_loss: 0.7160 - val_recall_10: 0.6544\n",
      "Epoch 2/10\n",
      "\u001b[1m107/107\u001b[0m \u001b[32m━━━━━━━━━━━━━━━━━━━━\u001b[0m\u001b[37m\u001b[0m \u001b[1m23s\u001b[0m 216ms/step - accuracy: 0.7375 - auc_10: 0.9227 - loss: 0.6699 - recall_10: 0.6673 - val_accuracy: 0.8166 - val_auc_10: 0.9602 - val_loss: 0.4751 - val_recall_10: 0.7797\n",
      "Epoch 3/10\n",
      "\u001b[1m107/107\u001b[0m \u001b[32m━━━━━━━━━━━━━━━━━━━━\u001b[0m\u001b[37m\u001b[0m \u001b[1m23s\u001b[0m 210ms/step - accuracy: 0.7978 - auc_10: 0.9509 - loss: 0.5236 - recall_10: 0.7628 - val_accuracy: 0.8131 - val_auc_10: 0.9609 - val_loss: 0.4809 - val_recall_10: 0.7657\n",
      "Epoch 4/10\n",
      "\u001b[1m107/107\u001b[0m \u001b[32m━━━━━━━━━━━━━━━━━━━━\u001b[0m\u001b[37m\u001b[0m \u001b[1m22s\u001b[0m 207ms/step - accuracy: 0.8289 - auc_10: 0.9654 - loss: 0.4378 - recall_10: 0.8038 - val_accuracy: 0.7891 - val_auc_10: 0.9472 - val_loss: 0.5758 - val_recall_10: 0.7768\n",
      "Epoch 5/10\n",
      "\u001b[1m107/107\u001b[0m \u001b[32m━━━━━━━━━━━━━━━━━━━━\u001b[0m\u001b[37m\u001b[0m \u001b[1m22s\u001b[0m 208ms/step - accuracy: 0.8625 - auc_10: 0.9775 - loss: 0.3527 - recall_10: 0.8447 - val_accuracy: 0.8735 - val_auc_10: 0.9777 - val_loss: 0.3487 - val_recall_10: 0.8647\n",
      "Epoch 6/10\n",
      "\u001b[1m107/107\u001b[0m \u001b[32m━━━━━━━━━━━━━━━━━━━━\u001b[0m\u001b[37m\u001b[0m \u001b[1m23s\u001b[0m 211ms/step - accuracy: 0.8919 - auc_10: 0.9835 - loss: 0.2965 - recall_10: 0.8812 - val_accuracy: 0.8524 - val_auc_10: 0.9750 - val_loss: 0.3778 - val_recall_10: 0.8465\n",
      "Epoch 7/10\n",
      "\u001b[1m107/107\u001b[0m \u001b[32m━━━━━━━━━━━━━━━━━━━━\u001b[0m\u001b[37m\u001b[0m \u001b[1m23s\u001b[0m 210ms/step - accuracy: 0.9083 - auc_10: 0.9870 - loss: 0.2564 - recall_10: 0.9009 - val_accuracy: 0.8858 - val_auc_10: 0.9771 - val_loss: 0.3829 - val_recall_10: 0.8834\n",
      "Epoch 8/10\n",
      "\u001b[1m107/107\u001b[0m \u001b[32m━━━━━━━━━━━━━━━━━━━━\u001b[0m\u001b[37m\u001b[0m \u001b[1m23s\u001b[0m 215ms/step - accuracy: 0.9345 - auc_10: 0.9930 - loss: 0.1824 - recall_10: 0.9319 - val_accuracy: 0.8348 - val_auc_10: 0.9689 - val_loss: 0.4742 - val_recall_10: 0.8313\n",
      "\u001b[1m54/54\u001b[0m \u001b[32m━━━━━━━━━━━━━━━━━━━━\u001b[0m\u001b[37m\u001b[0m \u001b[1m3s\u001b[0m 55ms/step\n",
      "Fold 3/3\n"
     ]
    },
    {
     "name": "stderr",
     "output_type": "stream",
     "text": [
      "c:\\Users\\user\\Documents\\GitHub\\ML-Excuses\\env\\Lib\\site-packages\\keras\\src\\layers\\convolutional\\base_conv.py:107: UserWarning: Do not pass an `input_shape`/`input_dim` argument to a layer. When using Sequential models, prefer using an `Input(shape)` object as the first layer in the model instead.\n",
      "  super().__init__(activity_regularizer=activity_regularizer, **kwargs)\n"
     ]
    },
    {
     "name": "stdout",
     "output_type": "stream",
     "text": [
      "Epoch 1/10\n",
      "\u001b[1m107/107\u001b[0m \u001b[32m━━━━━━━━━━━━━━━━━━━━\u001b[0m\u001b[37m\u001b[0m \u001b[1m25s\u001b[0m 221ms/step - accuracy: 0.4708 - auc_11: 0.7434 - loss: 1.2351 - recall_11: 0.2179 - val_accuracy: 0.7210 - val_auc_11: 0.9112 - val_loss: 0.7383 - val_recall_11: 0.6671\n",
      "Epoch 2/10\n",
      "\u001b[1m107/107\u001b[0m \u001b[32m━━━━━━━━━━━━━━━━━━━━\u001b[0m\u001b[37m\u001b[0m \u001b[1m23s\u001b[0m 216ms/step - accuracy: 0.7124 - auc_11: 0.9223 - loss: 0.6616 - recall_11: 0.6532 - val_accuracy: 0.8218 - val_auc_11: 0.9553 - val_loss: 0.5215 - val_recall_11: 0.7825\n",
      "Epoch 3/10\n",
      "\u001b[1m107/107\u001b[0m \u001b[32m━━━━━━━━━━━━━━━━━━━━\u001b[0m\u001b[37m\u001b[0m \u001b[1m23s\u001b[0m 217ms/step - accuracy: 0.7855 - auc_11: 0.9485 - loss: 0.5362 - recall_11: 0.7471 - val_accuracy: 0.8523 - val_auc_11: 0.9680 - val_loss: 0.4369 - val_recall_11: 0.8165\n",
      "Epoch 4/10\n",
      "\u001b[1m107/107\u001b[0m \u001b[32m━━━━━━━━━━━━━━━━━━━━\u001b[0m\u001b[37m\u001b[0m \u001b[1m22s\u001b[0m 209ms/step - accuracy: 0.8334 - auc_11: 0.9682 - loss: 0.4208 - recall_11: 0.8095 - val_accuracy: 0.8710 - val_auc_11: 0.9737 - val_loss: 0.3764 - val_recall_11: 0.8576\n",
      "Epoch 5/10\n",
      "\u001b[1m107/107\u001b[0m \u001b[32m━━━━━━━━━━━━━━━━━━━━\u001b[0m\u001b[37m\u001b[0m \u001b[1m23s\u001b[0m 213ms/step - accuracy: 0.8748 - auc_11: 0.9780 - loss: 0.3429 - recall_11: 0.8552 - val_accuracy: 0.8693 - val_auc_11: 0.9736 - val_loss: 0.3851 - val_recall_11: 0.8617\n",
      "Epoch 6/10\n",
      "\u001b[1m107/107\u001b[0m \u001b[32m━━━━━━━━━━━━━━━━━━━━\u001b[0m\u001b[37m\u001b[0m \u001b[1m22s\u001b[0m 210ms/step - accuracy: 0.8912 - auc_11: 0.9838 - loss: 0.2967 - recall_11: 0.8788 - val_accuracy: 0.8968 - val_auc_11: 0.9790 - val_loss: 0.3412 - val_recall_11: 0.8880\n",
      "Epoch 7/10\n",
      "\u001b[1m107/107\u001b[0m \u001b[32m━━━━━━━━━━━━━━━━━━━━\u001b[0m\u001b[37m\u001b[0m \u001b[1m23s\u001b[0m 211ms/step - accuracy: 0.9315 - auc_11: 0.9909 - loss: 0.2059 - recall_11: 0.9259 - val_accuracy: 0.8810 - val_auc_11: 0.9793 - val_loss: 0.3516 - val_recall_11: 0.8740\n",
      "Epoch 8/10\n",
      "\u001b[1m107/107\u001b[0m \u001b[32m━━━━━━━━━━━━━━━━━━━━\u001b[0m\u001b[37m\u001b[0m \u001b[1m23s\u001b[0m 213ms/step - accuracy: 0.9318 - auc_11: 0.9932 - loss: 0.1817 - recall_11: 0.9270 - val_accuracy: 0.8892 - val_auc_11: 0.9775 - val_loss: 0.3629 - val_recall_11: 0.8880\n",
      "Epoch 9/10\n",
      "\u001b[1m107/107\u001b[0m \u001b[32m━━━━━━━━━━━━━━━━━━━━\u001b[0m\u001b[37m\u001b[0m \u001b[1m23s\u001b[0m 213ms/step - accuracy: 0.9440 - auc_11: 0.9960 - loss: 0.1370 - recall_11: 0.9406 - val_accuracy: 0.9144 - val_auc_11: 0.9848 - val_loss: 0.2760 - val_recall_11: 0.9121\n",
      "Epoch 10/10\n",
      "\u001b[1m107/107\u001b[0m \u001b[32m━━━━━━━━━━━━━━━━━━━━\u001b[0m\u001b[37m\u001b[0m \u001b[1m23s\u001b[0m 218ms/step - accuracy: 0.9616 - auc_11: 0.9972 - loss: 0.1071 - recall_11: 0.9607 - val_accuracy: 0.9138 - val_auc_11: 0.9788 - val_loss: 0.3724 - val_recall_11: 0.9132\n",
      "\u001b[1m54/54\u001b[0m \u001b[32m━━━━━━━━━━━━━━━━━━━━\u001b[0m\u001b[37m\u001b[0m \u001b[1m3s\u001b[0m 55ms/step\n",
      "\u001b[1m50/50\u001b[0m \u001b[32m━━━━━━━━━━━━━━━━━━━━\u001b[0m\u001b[37m\u001b[0m \u001b[1m3s\u001b[0m 54ms/step\n"
     ]
    },
    {
     "name": "stderr",
     "output_type": "stream",
     "text": [
      "2024/12/11 03:30:44 WARNING mlflow.keras.save: You are saving a Keras model without specifying model signature.\n",
      "2024/12/11 03:30:49 WARNING mlflow.models.model: Model logged without a signature and input example. Please set `input_example` parameter when logging the model to auto infer the model signature.\n"
     ]
    },
    {
     "name": "stdout",
     "output_type": "stream",
     "text": [
      "\u001b[1m160/160\u001b[0m \u001b[32m━━━━━━━━━━━━━━━━━━━━\u001b[0m\u001b[37m\u001b[0m \u001b[1m8s\u001b[0m 50ms/step\n"
     ]
    },
    {
     "data": {
      "application/vnd.jupyter.widget-view+json": {
       "model_id": "b78352aca0184af3b4f6e62dfbc117a7",
       "version_major": 2,
       "version_minor": 0
      },
      "text/plain": [
       "Downloading artifacts:   0%|          | 0/7 [00:00<?, ?it/s]"
      ]
     },
     "metadata": {},
     "output_type": "display_data"
    },
    {
     "name": "stdout",
     "output_type": "stream",
     "text": [
      "\u001b[1m1/1\u001b[0m \u001b[32m━━━━━━━━━━━━━━━━━━━━\u001b[0m\u001b[37m\u001b[0m \u001b[1m0s\u001b[0m 68ms/step\n"
     ]
    },
    {
     "name": "stderr",
     "output_type": "stream",
     "text": [
      "Registered model 'convolutional-neural-network' already exists. Creating a new version of this model...\n",
      "2024/12/11 03:31:03 INFO mlflow.store.model_registry.abstract_store: Waiting up to 300 seconds for model version to finish creation. Model name: convolutional-neural-network, version 8\n"
     ]
    },
    {
     "name": "stdout",
     "output_type": "stream",
     "text": [
      "🏃 View run CNN : Experiment 8 at: http://127.0.0.1:5000/#/experiments/344762819335167390/runs/9af40823da7b4311a2d37e347feeb674\n",
      "🧪 View experiment at: http://127.0.0.1:5000/#/experiments/344762819335167390\n"
     ]
    },
    {
     "name": "stderr",
     "output_type": "stream",
     "text": [
      "Created version '8' of model 'convolutional-neural-network'.\n"
     ]
    }
   ],
   "source": [
    "results = []\n",
    "nb = 4\n",
    "for filters in param_grid['filters']:\n",
    "    for dropout_rate in param_grid['dropout_rate']:\n",
    "        nb = nb + 1\n",
    "\n",
    "        # Paramètres du modèle\n",
    "        params = {\n",
    "            'filters': filters,\n",
    "            'kernel_size': param_grid['kernel_size'],\n",
    "            'dropout_rate': dropout_rate,\n",
    "            'batch_size': param_grid['batch_size'],\n",
    "            'epochs': param_grid['epochs'],\n",
    "            'optimizer': param_grid['optimizer']\n",
    "        }\n",
    "        print(f\"Starting experiment {nb} with parameters: {params}\")\n",
    "\n",
    "        with mlflow.start_run() as run:\n",
    "            mlflow.set_tag(\"mlflow.runName\", f\"CNN : Experiment {nb}\")\n",
    "            mlflow.set_tag(\"Experiment Info\", f\"Experiment {nb} for CNN with parameters : {params}\")\n",
    "            mlflow.log_params(params)\n",
    "\n",
    "            fold_metrics = []\n",
    "            for fold, (train_idx, val_idx) in enumerate(cv.split(X_train, np.argmax(y_train, axis=1))):\n",
    "                print(f\"Fold {fold + 1}/{num_folds}\")\n",
    "\n",
    "                X_fold_train, X_fold_val = X_train[train_idx], X_train[val_idx]\n",
    "                y_fold_train, y_fold_val = y_train[train_idx], y_train[val_idx]\n",
    "\n",
    "                model = build_cnn_model(\n",
    "                    input_shape=(128, 128, 3),\n",
    "                    num_classes=4,\n",
    "                    optimizer=params['optimizer'],\n",
    "                    dropout_rate=params['dropout_rate'],\n",
    "                    activation='relu',\n",
    "                    filters=params['filters'],\n",
    "                    kernel_size=params['kernel_size']\n",
    "                )\n",
    "                early_stopping = EarlyStopping(monitor='val_loss', patience=3, restore_best_weights=True)\n",
    "\n",
    "                history = model.fit(\n",
    "                    X_fold_train, y_fold_train,\n",
    "                    validation_data=(X_fold_val, y_fold_val),\n",
    "                    batch_size=params['batch_size'],\n",
    "                    epochs=params['epochs'],\n",
    "                    callbacks=[early_stopping],\n",
    "                    verbose=1\n",
    "                )\n",
    "\n",
    "                # Prédictions et métriques sur le fold\n",
    "                y_val_pred = model.predict(X_fold_val)\n",
    "                y_val_pred_classes = np.argmax(y_val_pred, axis=1)\n",
    "                y_val_actual_classes = np.argmax(y_fold_val, axis=1)\n",
    "\n",
    "                accuracy = accuracy_score(y_val_actual_classes, y_val_pred_classes)\n",
    "                precision = precision_score(y_val_actual_classes, y_val_pred_classes, average='weighted')\n",
    "                recall = recall_score(y_val_actual_classes, y_val_pred_classes, average='weighted')\n",
    "                f1 = f1_score(y_val_actual_classes, y_val_pred_classes, average='weighted')\n",
    "                auc_roc = roc_auc_score(y_fold_val, y_val_pred, multi_class='ovr')\n",
    "\n",
    "                fold_metrics.append({\n",
    "                    'accuracy': accuracy,\n",
    "                    'precision': precision,\n",
    "                    'recall': recall,\n",
    "                    'f1': f1,\n",
    "                    'auc_roc': auc_roc\n",
    "                })\n",
    "\n",
    "                # Logging des métriques pour chaque fold\n",
    "                mlflow.log_metric(f\"fold_{fold + 1}_accuracy\", accuracy)\n",
    "                mlflow.log_metric(f\"fold_{fold + 1}_precision\", precision)\n",
    "                mlflow.log_metric(f\"fold_{fold + 1}_recall\", recall)\n",
    "                mlflow.log_metric(f\"fold_{fold + 1}_f1\", f1)\n",
    "                mlflow.log_metric(f\"fold_{fold + 1}_auc_roc\", auc_roc)\n",
    "\n",
    "            # Moyennes des métriques sur tous les folds\n",
    "            avg_accuracy = np.mean([m['accuracy'] for m in fold_metrics])\n",
    "            avg_precision = np.mean([m['precision'] for m in fold_metrics])\n",
    "            avg_recall = np.mean([m['recall'] for m in fold_metrics])\n",
    "            avg_f1 = np.mean([m['f1'] for m in fold_metrics])\n",
    "            avg_auc_roc = np.mean([m['auc_roc'] for m in fold_metrics])\n",
    "\n",
    "            mlflow.log_metric(\"avg_accuracy\", avg_accuracy)\n",
    "            mlflow.log_metric(\"avg_precision\", avg_precision)\n",
    "            mlflow.log_metric(\"avg_recall\", avg_recall)\n",
    "            mlflow.log_metric(\"avg_f1\", avg_f1)\n",
    "            mlflow.log_metric(\"avg_auc_roc\", avg_auc_roc)\n",
    "\n",
    "            # Prédictions finales sur X_test\n",
    "            y_test_pred = model.predict(X_test)\n",
    "            y_test_pred_classes = np.argmax(y_test_pred, axis=1)\n",
    "            y_test_actual_classes = np.argmax(y_test, axis=1)\n",
    "\n",
    "            # Calcul des métriques sur le test\n",
    "            test_accuracy = accuracy_score(y_test_actual_classes, y_test_pred_classes)\n",
    "            test_precision = precision_score(y_test_actual_classes, y_test_pred_classes, average='weighted')\n",
    "            test_recall = recall_score(y_test_actual_classes, y_test_pred_classes, average='weighted')\n",
    "            test_f1 = f1_score(y_test_actual_classes, y_test_pred_classes, average='weighted')\n",
    "\n",
    "            mlflow.log_metric(\"test_accuracy\", test_accuracy)\n",
    "            mlflow.log_metric(\"test_precision\", test_precision)\n",
    "            mlflow.log_metric(\"test_recall\", test_recall)\n",
    "            mlflow.log_metric(\"test_f1\", test_f1)\n",
    "\n",
    "            predictions_df = pd.DataFrame({\"Actual\": y_test_actual_classes, \"Predicted\": y_test_pred_classes})\n",
    "            predictions_csv_path = \"tmp/predictions.csv\"\n",
    "            predictions_df.to_csv(predictions_csv_path, index=False)\n",
    "            mlflow.log_artifact(predictions_csv_path, artifact_path=\"predictions\")\n",
    "\n",
    "            # Matrice de confusion\n",
    "            matrix = confusion_matrix(y_test_actual_classes, y_test_pred_classes)\n",
    "            plt.figure(figsize=(8, 6))\n",
    "            sns.heatmap(matrix, annot=True, fmt='d', cmap='Blues')\n",
    "            plt.title(\"Confusion Matrix\")\n",
    "            cf_matrix_path = \"tmp/confusion_matrix.png\"\n",
    "            plt.savefig(cf_matrix_path)\n",
    "            plt.close()\n",
    "            mlflow.log_artifact(cf_matrix_path, artifact_path=\"cf_matrix\")\n",
    "\n",
    "            # Courbe ROC AUC\n",
    "            fpr, tpr, _ = roc_curve(y_test.ravel(), y_test_pred.ravel())\n",
    "            roc_auc = auc(fpr, tpr)\n",
    "\n",
    "            plt.figure()\n",
    "            plt.plot(fpr, tpr, color='blue', lw=2, label=f'ROC curve (area = {roc_auc:.2f})')\n",
    "            plt.plot([0, 1], [0, 1], color='gray', lw=2, linestyle='--')\n",
    "            plt.xlabel(\"False Positive Rate\")\n",
    "            plt.ylabel(\"True Positive Rate\")\n",
    "            plt.title(\"Receiver Operating Characteristic\")\n",
    "            plt.legend(loc=\"lower right\")\n",
    "            roc_curve_path = \"tmp/roc_curve.png\"\n",
    "            plt.savefig(roc_curve_path)\n",
    "            plt.close()\n",
    "            mlflow.log_artifact(roc_curve_path, artifact_path=\"roc_curve\")\n",
    "\n",
    "            # Enregistrement du modèle final\n",
    "            mlflow.keras.log_model(model, \"cnn_model\")\n",
    "            signature = infer_signature(X_train, model.predict(X_train))\n",
    "            model_info = mlflow.sklearn.log_model(\n",
    "                sk_model=model,\n",
    "                artifact_path=\"cnn_model\",\n",
    "                signature=signature,\n",
    "                input_example=X_train[:1],\n",
    "                registered_model_name=\"convolutional-neural-network\",\n",
    "            )\n"
   ]
  },
  {
   "cell_type": "code",
   "execution_count": 7,
   "metadata": {},
   "outputs": [
    {
     "name": "stdout",
     "output_type": "stream",
     "text": [
      "Best Run ID: 7b6ab6dae00443878f8e89536fcb2bd1\n",
      "Best Run Metrics: metrics.avg_accuracy     0.911528\n",
      "metrics.avg_f1           0.911026\n",
      "metrics.test_accuracy    0.914375\n",
      "metrics.test_f1          0.914609\n",
      "Name: 5, dtype: object\n"
     ]
    },
    {
     "data": {
      "text/plain": [
       "'runs:/7b6ab6dae00443878f8e89536fcb2bd1/cnn_model'"
      ]
     },
     "execution_count": 7,
     "metadata": {},
     "output_type": "execute_result"
    }
   ],
   "source": [
    "runs = mlflow.search_runs(experiment_ids=experiment_id)\n",
    "\n",
    "best_cnn = runs.sort_values(by=\"metrics.test_accuracy\", ascending=False).iloc[0]\n",
    "\n",
    "best_cnn_id = best_cnn[\"run_id\"]\n",
    "\n",
    "print(f\"Best Run ID: {best_cnn_id}\")\n",
    "print(f\"Best Run Metrics: {best_cnn[['metrics.avg_accuracy', 'metrics.avg_f1', 'metrics.test_accuracy', 'metrics.test_f1']]}\")\n",
    "\n",
    "best_cnn_uri = f\"runs:/{best_cnn_id}/cnn_model\"\n",
    "\n",
    "best_cnn_uri"
   ]
  },
  {
   "cell_type": "code",
   "execution_count": 8,
   "metadata": {},
   "outputs": [
    {
     "data": {
      "text/html": [
       "<div>\n",
       "<style scoped>\n",
       "    .dataframe tbody tr th:only-of-type {\n",
       "        vertical-align: middle;\n",
       "    }\n",
       "\n",
       "    .dataframe tbody tr th {\n",
       "        vertical-align: top;\n",
       "    }\n",
       "\n",
       "    .dataframe thead th {\n",
       "        text-align: right;\n",
       "    }\n",
       "</style>\n",
       "<table border=\"1\" class=\"dataframe\">\n",
       "  <thead>\n",
       "    <tr style=\"text-align: right;\">\n",
       "      <th></th>\n",
       "      <th>run_id</th>\n",
       "      <th>experiment_id</th>\n",
       "      <th>status</th>\n",
       "      <th>artifact_uri</th>\n",
       "      <th>start_time</th>\n",
       "      <th>end_time</th>\n",
       "      <th>metrics.fold_2_recall</th>\n",
       "      <th>metrics.fold_2_precision</th>\n",
       "      <th>metrics.fold_1_accuracy</th>\n",
       "      <th>metrics.fold_3_auc_roc</th>\n",
       "      <th>...</th>\n",
       "      <th>params.batch_size</th>\n",
       "      <th>params.optimizer</th>\n",
       "      <th>params.kernel_size</th>\n",
       "      <th>params.epochs</th>\n",
       "      <th>tags.mlflow.runName</th>\n",
       "      <th>tags.Experiment Info</th>\n",
       "      <th>tags.mlflow.user</th>\n",
       "      <th>tags.mlflow.source.type</th>\n",
       "      <th>tags.mlflow.log-model.history</th>\n",
       "      <th>tags.mlflow.source.name</th>\n",
       "    </tr>\n",
       "  </thead>\n",
       "  <tbody>\n",
       "    <tr>\n",
       "      <th>0</th>\n",
       "      <td>9af40823da7b4311a2d37e347feeb674</td>\n",
       "      <td>344762819335167390</td>\n",
       "      <td>FINISHED</td>\n",
       "      <td>mlflow-artifacts:/344762819335167390/9af40823d...</td>\n",
       "      <td>2024-12-11 02:19:27.012000+00:00</td>\n",
       "      <td>2024-12-11 02:31:03.224000+00:00</td>\n",
       "      <td>0.873462</td>\n",
       "      <td>0.874331</td>\n",
       "      <td>0.882835</td>\n",
       "      <td>0.985932</td>\n",
       "      <td>...</td>\n",
       "      <td>32</td>\n",
       "      <td>rmsprop</td>\n",
       "      <td>(3, 3)</td>\n",
       "      <td>10</td>\n",
       "      <td>CNN : Experiment 8</td>\n",
       "      <td>Experiment 8 for CNN with parameters : {'filte...</td>\n",
       "      <td>user</td>\n",
       "      <td>LOCAL</td>\n",
       "      <td>[{\"run_id\": \"9af40823da7b4311a2d37e347feeb674\"...</td>\n",
       "      <td>c:\\Users\\user\\Documents\\GitHub\\ML-Excuses\\env\\...</td>\n",
       "    </tr>\n",
       "    <tr>\n",
       "      <th>1</th>\n",
       "      <td>4f91d4bdd3e248269818fc844b689035</td>\n",
       "      <td>344762819335167390</td>\n",
       "      <td>FINISHED</td>\n",
       "      <td>mlflow-artifacts:/344762819335167390/4f91d4bdd...</td>\n",
       "      <td>2024-12-11 02:06:00.797000+00:00</td>\n",
       "      <td>2024-12-11 02:19:26.992000+00:00</td>\n",
       "      <td>0.888108</td>\n",
       "      <td>0.889865</td>\n",
       "      <td>0.898653</td>\n",
       "      <td>0.981860</td>\n",
       "      <td>...</td>\n",
       "      <td>32</td>\n",
       "      <td>rmsprop</td>\n",
       "      <td>(3, 3)</td>\n",
       "      <td>10</td>\n",
       "      <td>CNN : Experiment 7</td>\n",
       "      <td>Experiment 7 for CNN with parameters : {'filte...</td>\n",
       "      <td>user</td>\n",
       "      <td>LOCAL</td>\n",
       "      <td>[{\"run_id\": \"4f91d4bdd3e248269818fc844b689035\"...</td>\n",
       "      <td>c:\\Users\\user\\Documents\\GitHub\\ML-Excuses\\env\\...</td>\n",
       "    </tr>\n",
       "    <tr>\n",
       "      <th>2</th>\n",
       "      <td>8e0191b3db8a480baaa5e8efb599c86b</td>\n",
       "      <td>344762819335167390</td>\n",
       "      <td>FINISHED</td>\n",
       "      <td>mlflow-artifacts:/344762819335167390/8e0191b3d...</td>\n",
       "      <td>2024-12-11 02:01:13.851000+00:00</td>\n",
       "      <td>2024-12-11 02:06:00.779000+00:00</td>\n",
       "      <td>0.903339</td>\n",
       "      <td>0.904348</td>\n",
       "      <td>0.888108</td>\n",
       "      <td>0.982342</td>\n",
       "      <td>...</td>\n",
       "      <td>32</td>\n",
       "      <td>rmsprop</td>\n",
       "      <td>(3, 3)</td>\n",
       "      <td>10</td>\n",
       "      <td>CNN : Experiment 6</td>\n",
       "      <td>Experiment 6 for CNN with parameters : {'filte...</td>\n",
       "      <td>user</td>\n",
       "      <td>LOCAL</td>\n",
       "      <td>[{\"run_id\": \"8e0191b3db8a480baaa5e8efb599c86b\"...</td>\n",
       "      <td>c:\\Users\\user\\Documents\\GitHub\\ML-Excuses\\env\\...</td>\n",
       "    </tr>\n",
       "    <tr>\n",
       "      <th>3</th>\n",
       "      <td>e9c7c05b3a9a44eab98575869625bfcb</td>\n",
       "      <td>344762819335167390</td>\n",
       "      <td>FINISHED</td>\n",
       "      <td>mlflow-artifacts:/344762819335167390/e9c7c05b3...</td>\n",
       "      <td>2024-12-11 01:56:48.062000+00:00</td>\n",
       "      <td>2024-12-11 02:01:13.829000+00:00</td>\n",
       "      <td>0.883421</td>\n",
       "      <td>0.883450</td>\n",
       "      <td>0.882835</td>\n",
       "      <td>0.980024</td>\n",
       "      <td>...</td>\n",
       "      <td>32</td>\n",
       "      <td>rmsprop</td>\n",
       "      <td>(3, 3)</td>\n",
       "      <td>10</td>\n",
       "      <td>CNN : Experiment 5</td>\n",
       "      <td>Experiment 5 for CNN with parameters : {'filte...</td>\n",
       "      <td>user</td>\n",
       "      <td>LOCAL</td>\n",
       "      <td>[{\"run_id\": \"e9c7c05b3a9a44eab98575869625bfcb\"...</td>\n",
       "      <td>c:\\Users\\user\\Documents\\GitHub\\ML-Excuses\\env\\...</td>\n",
       "    </tr>\n",
       "    <tr>\n",
       "      <th>4</th>\n",
       "      <td>c1e700c88edc48c69caf79d0412ba5f1</td>\n",
       "      <td>344762819335167390</td>\n",
       "      <td>RUNNING</td>\n",
       "      <td>mlflow-artifacts:/344762819335167390/c1e700c88...</td>\n",
       "      <td>2024-12-11 01:56:22.147000+00:00</td>\n",
       "      <td>NaT</td>\n",
       "      <td>NaN</td>\n",
       "      <td>NaN</td>\n",
       "      <td>NaN</td>\n",
       "      <td>NaN</td>\n",
       "      <td>...</td>\n",
       "      <td>32</td>\n",
       "      <td>rmsprop</td>\n",
       "      <td>(3, 3)</td>\n",
       "      <td>10</td>\n",
       "      <td>CNN : Experiment 0</td>\n",
       "      <td>Experiment 5 for CNN with parameters : {'filte...</td>\n",
       "      <td>user</td>\n",
       "      <td>LOCAL</td>\n",
       "      <td>None</td>\n",
       "      <td>c:\\Users\\user\\Documents\\GitHub\\ML-Excuses\\env\\...</td>\n",
       "    </tr>\n",
       "    <tr>\n",
       "      <th>5</th>\n",
       "      <td>7b6ab6dae00443878f8e89536fcb2bd1</td>\n",
       "      <td>344762819335167390</td>\n",
       "      <td>FINISHED</td>\n",
       "      <td>mlflow-artifacts:/344762819335167390/7b6ab6dae...</td>\n",
       "      <td>2024-12-10 22:35:58.683000+00:00</td>\n",
       "      <td>2024-12-10 22:47:32.615000+00:00</td>\n",
       "      <td>0.888108</td>\n",
       "      <td>0.890458</td>\n",
       "      <td>0.913884</td>\n",
       "      <td>0.987324</td>\n",
       "      <td>...</td>\n",
       "      <td>32</td>\n",
       "      <td>adam</td>\n",
       "      <td>(3, 3)</td>\n",
       "      <td>10</td>\n",
       "      <td>CNN : Experiment 4</td>\n",
       "      <td>Experiment 4 for CNN with parameters : {'filte...</td>\n",
       "      <td>user</td>\n",
       "      <td>LOCAL</td>\n",
       "      <td>[{\"run_id\": \"7b6ab6dae00443878f8e89536fcb2bd1\"...</td>\n",
       "      <td>c:\\Users\\user\\Documents\\GitHub\\ML-Excuses\\env\\...</td>\n",
       "    </tr>\n",
       "    <tr>\n",
       "      <th>6</th>\n",
       "      <td>e8c4caba61494315b0c7cfeaccf76c72</td>\n",
       "      <td>344762819335167390</td>\n",
       "      <td>FINISHED</td>\n",
       "      <td>mlflow-artifacts:/344762819335167390/e8c4caba6...</td>\n",
       "      <td>2024-12-10 22:25:28.632000+00:00</td>\n",
       "      <td>2024-12-10 22:35:58.665000+00:00</td>\n",
       "      <td>0.869947</td>\n",
       "      <td>0.869288</td>\n",
       "      <td>0.899238</td>\n",
       "      <td>0.983052</td>\n",
       "      <td>...</td>\n",
       "      <td>32</td>\n",
       "      <td>adam</td>\n",
       "      <td>(3, 3)</td>\n",
       "      <td>10</td>\n",
       "      <td>CNN : Experiment 3</td>\n",
       "      <td>Experiment 3 for CNN with parameters : {'filte...</td>\n",
       "      <td>user</td>\n",
       "      <td>LOCAL</td>\n",
       "      <td>[{\"run_id\": \"e8c4caba61494315b0c7cfeaccf76c72\"...</td>\n",
       "      <td>c:\\Users\\user\\Documents\\GitHub\\ML-Excuses\\env\\...</td>\n",
       "    </tr>\n",
       "    <tr>\n",
       "      <th>7</th>\n",
       "      <td>0691c41a1bc54dbcb837edc3462cbbd1</td>\n",
       "      <td>344762819335167390</td>\n",
       "      <td>FINISHED</td>\n",
       "      <td>mlflow-artifacts:/344762819335167390/0691c41a1...</td>\n",
       "      <td>2024-12-10 22:20:57.271000+00:00</td>\n",
       "      <td>2024-12-10 22:25:28.612000+00:00</td>\n",
       "      <td>0.890451</td>\n",
       "      <td>0.890898</td>\n",
       "      <td>0.900996</td>\n",
       "      <td>0.981090</td>\n",
       "      <td>...</td>\n",
       "      <td>32</td>\n",
       "      <td>adam</td>\n",
       "      <td>(3, 3)</td>\n",
       "      <td>10</td>\n",
       "      <td>CNN : Experiment 2</td>\n",
       "      <td>Experiment 2 for CNN with parameters : {'filte...</td>\n",
       "      <td>user</td>\n",
       "      <td>LOCAL</td>\n",
       "      <td>[{\"run_id\": \"0691c41a1bc54dbcb837edc3462cbbd1\"...</td>\n",
       "      <td>c:\\Users\\user\\Documents\\GitHub\\ML-Excuses\\env\\...</td>\n",
       "    </tr>\n",
       "    <tr>\n",
       "      <th>8</th>\n",
       "      <td>ebf5c6e3ba6e459ba70ae803999bd4da</td>\n",
       "      <td>344762819335167390</td>\n",
       "      <td>FINISHED</td>\n",
       "      <td>mlflow-artifacts:/344762819335167390/ebf5c6e3b...</td>\n",
       "      <td>2024-12-10 22:14:35.155000+00:00</td>\n",
       "      <td>2024-12-10 22:20:57.252000+00:00</td>\n",
       "      <td>0.896309</td>\n",
       "      <td>0.896123</td>\n",
       "      <td>0.899824</td>\n",
       "      <td>0.982114</td>\n",
       "      <td>...</td>\n",
       "      <td>32</td>\n",
       "      <td>adam</td>\n",
       "      <td>(3, 3)</td>\n",
       "      <td>10</td>\n",
       "      <td>CNN : Experiment 1</td>\n",
       "      <td>Experiment 1 for CNN with parameters : {'filte...</td>\n",
       "      <td>user</td>\n",
       "      <td>LOCAL</td>\n",
       "      <td>[{\"run_id\": \"ebf5c6e3ba6e459ba70ae803999bd4da\"...</td>\n",
       "      <td>c:\\Users\\user\\Documents\\GitHub\\ML-Excuses\\env\\...</td>\n",
       "    </tr>\n",
       "  </tbody>\n",
       "</table>\n",
       "<p>9 rows × 42 columns</p>\n",
       "</div>"
      ],
      "text/plain": [
       "                             run_id       experiment_id    status  \\\n",
       "0  9af40823da7b4311a2d37e347feeb674  344762819335167390  FINISHED   \n",
       "1  4f91d4bdd3e248269818fc844b689035  344762819335167390  FINISHED   \n",
       "2  8e0191b3db8a480baaa5e8efb599c86b  344762819335167390  FINISHED   \n",
       "3  e9c7c05b3a9a44eab98575869625bfcb  344762819335167390  FINISHED   \n",
       "4  c1e700c88edc48c69caf79d0412ba5f1  344762819335167390   RUNNING   \n",
       "5  7b6ab6dae00443878f8e89536fcb2bd1  344762819335167390  FINISHED   \n",
       "6  e8c4caba61494315b0c7cfeaccf76c72  344762819335167390  FINISHED   \n",
       "7  0691c41a1bc54dbcb837edc3462cbbd1  344762819335167390  FINISHED   \n",
       "8  ebf5c6e3ba6e459ba70ae803999bd4da  344762819335167390  FINISHED   \n",
       "\n",
       "                                        artifact_uri  \\\n",
       "0  mlflow-artifacts:/344762819335167390/9af40823d...   \n",
       "1  mlflow-artifacts:/344762819335167390/4f91d4bdd...   \n",
       "2  mlflow-artifacts:/344762819335167390/8e0191b3d...   \n",
       "3  mlflow-artifacts:/344762819335167390/e9c7c05b3...   \n",
       "4  mlflow-artifacts:/344762819335167390/c1e700c88...   \n",
       "5  mlflow-artifacts:/344762819335167390/7b6ab6dae...   \n",
       "6  mlflow-artifacts:/344762819335167390/e8c4caba6...   \n",
       "7  mlflow-artifacts:/344762819335167390/0691c41a1...   \n",
       "8  mlflow-artifacts:/344762819335167390/ebf5c6e3b...   \n",
       "\n",
       "                        start_time                         end_time  \\\n",
       "0 2024-12-11 02:19:27.012000+00:00 2024-12-11 02:31:03.224000+00:00   \n",
       "1 2024-12-11 02:06:00.797000+00:00 2024-12-11 02:19:26.992000+00:00   \n",
       "2 2024-12-11 02:01:13.851000+00:00 2024-12-11 02:06:00.779000+00:00   \n",
       "3 2024-12-11 01:56:48.062000+00:00 2024-12-11 02:01:13.829000+00:00   \n",
       "4 2024-12-11 01:56:22.147000+00:00                              NaT   \n",
       "5 2024-12-10 22:35:58.683000+00:00 2024-12-10 22:47:32.615000+00:00   \n",
       "6 2024-12-10 22:25:28.632000+00:00 2024-12-10 22:35:58.665000+00:00   \n",
       "7 2024-12-10 22:20:57.271000+00:00 2024-12-10 22:25:28.612000+00:00   \n",
       "8 2024-12-10 22:14:35.155000+00:00 2024-12-10 22:20:57.252000+00:00   \n",
       "\n",
       "   metrics.fold_2_recall  metrics.fold_2_precision  metrics.fold_1_accuracy  \\\n",
       "0               0.873462                  0.874331                 0.882835   \n",
       "1               0.888108                  0.889865                 0.898653   \n",
       "2               0.903339                  0.904348                 0.888108   \n",
       "3               0.883421                  0.883450                 0.882835   \n",
       "4                    NaN                       NaN                      NaN   \n",
       "5               0.888108                  0.890458                 0.913884   \n",
       "6               0.869947                  0.869288                 0.899238   \n",
       "7               0.890451                  0.890898                 0.900996   \n",
       "8               0.896309                  0.896123                 0.899824   \n",
       "\n",
       "   metrics.fold_3_auc_roc  ...  params.batch_size  params.optimizer  \\\n",
       "0                0.985932  ...                 32           rmsprop   \n",
       "1                0.981860  ...                 32           rmsprop   \n",
       "2                0.982342  ...                 32           rmsprop   \n",
       "3                0.980024  ...                 32           rmsprop   \n",
       "4                     NaN  ...                 32           rmsprop   \n",
       "5                0.987324  ...                 32              adam   \n",
       "6                0.983052  ...                 32              adam   \n",
       "7                0.981090  ...                 32              adam   \n",
       "8                0.982114  ...                 32              adam   \n",
       "\n",
       "   params.kernel_size  params.epochs  tags.mlflow.runName  \\\n",
       "0              (3, 3)             10   CNN : Experiment 8   \n",
       "1              (3, 3)             10   CNN : Experiment 7   \n",
       "2              (3, 3)             10   CNN : Experiment 6   \n",
       "3              (3, 3)             10   CNN : Experiment 5   \n",
       "4              (3, 3)             10   CNN : Experiment 0   \n",
       "5              (3, 3)             10   CNN : Experiment 4   \n",
       "6              (3, 3)             10   CNN : Experiment 3   \n",
       "7              (3, 3)             10   CNN : Experiment 2   \n",
       "8              (3, 3)             10   CNN : Experiment 1   \n",
       "\n",
       "                                tags.Experiment Info  tags.mlflow.user  \\\n",
       "0  Experiment 8 for CNN with parameters : {'filte...              user   \n",
       "1  Experiment 7 for CNN with parameters : {'filte...              user   \n",
       "2  Experiment 6 for CNN with parameters : {'filte...              user   \n",
       "3  Experiment 5 for CNN with parameters : {'filte...              user   \n",
       "4  Experiment 5 for CNN with parameters : {'filte...              user   \n",
       "5  Experiment 4 for CNN with parameters : {'filte...              user   \n",
       "6  Experiment 3 for CNN with parameters : {'filte...              user   \n",
       "7  Experiment 2 for CNN with parameters : {'filte...              user   \n",
       "8  Experiment 1 for CNN with parameters : {'filte...              user   \n",
       "\n",
       "   tags.mlflow.source.type                      tags.mlflow.log-model.history  \\\n",
       "0                    LOCAL  [{\"run_id\": \"9af40823da7b4311a2d37e347feeb674\"...   \n",
       "1                    LOCAL  [{\"run_id\": \"4f91d4bdd3e248269818fc844b689035\"...   \n",
       "2                    LOCAL  [{\"run_id\": \"8e0191b3db8a480baaa5e8efb599c86b\"...   \n",
       "3                    LOCAL  [{\"run_id\": \"e9c7c05b3a9a44eab98575869625bfcb\"...   \n",
       "4                    LOCAL                                               None   \n",
       "5                    LOCAL  [{\"run_id\": \"7b6ab6dae00443878f8e89536fcb2bd1\"...   \n",
       "6                    LOCAL  [{\"run_id\": \"e8c4caba61494315b0c7cfeaccf76c72\"...   \n",
       "7                    LOCAL  [{\"run_id\": \"0691c41a1bc54dbcb837edc3462cbbd1\"...   \n",
       "8                    LOCAL  [{\"run_id\": \"ebf5c6e3ba6e459ba70ae803999bd4da\"...   \n",
       "\n",
       "                             tags.mlflow.source.name  \n",
       "0  c:\\Users\\user\\Documents\\GitHub\\ML-Excuses\\env\\...  \n",
       "1  c:\\Users\\user\\Documents\\GitHub\\ML-Excuses\\env\\...  \n",
       "2  c:\\Users\\user\\Documents\\GitHub\\ML-Excuses\\env\\...  \n",
       "3  c:\\Users\\user\\Documents\\GitHub\\ML-Excuses\\env\\...  \n",
       "4  c:\\Users\\user\\Documents\\GitHub\\ML-Excuses\\env\\...  \n",
       "5  c:\\Users\\user\\Documents\\GitHub\\ML-Excuses\\env\\...  \n",
       "6  c:\\Users\\user\\Documents\\GitHub\\ML-Excuses\\env\\...  \n",
       "7  c:\\Users\\user\\Documents\\GitHub\\ML-Excuses\\env\\...  \n",
       "8  c:\\Users\\user\\Documents\\GitHub\\ML-Excuses\\env\\...  \n",
       "\n",
       "[9 rows x 42 columns]"
      ]
     },
     "execution_count": 8,
     "metadata": {},
     "output_type": "execute_result"
    }
   ],
   "source": [
    "runs"
   ]
  },
  {
   "cell_type": "code",
   "execution_count": 13,
   "metadata": {},
   "outputs": [
    {
     "name": "stderr",
     "output_type": "stream",
     "text": [
      "Successfully registered model 'BrainTumor_BestCNN'.\n",
      "2024/12/11 03:31:03 INFO mlflow.store.model_registry.abstract_store: Waiting up to 300 seconds for model version to finish creation. Model name: BrainTumor_BestCNN, version 1\n",
      "Created version '1' of model 'BrainTumor_BestCNN'.\n"
     ]
    },
    {
     "data": {
      "text/plain": [
       "<ModelVersion: aliases=[], creation_timestamp=1733884263385, current_stage='None', description='', last_updated_timestamp=1733884263385, name='BrainTumor_BestCNN', run_id='7b6ab6dae00443878f8e89536fcb2bd1', run_link='', source='mlflow-artifacts:/344762819335167390/7b6ab6dae00443878f8e89536fcb2bd1/artifacts/cnn_model', status='READY', status_message='', tags={}, user_id='', version='1'>"
      ]
     },
     "execution_count": 13,
     "metadata": {},
     "output_type": "execute_result"
    }
   ],
   "source": [
    "mlflow.register_model(\n",
    "        model_uri=best_cnn_uri,\n",
    "        name=\"BrainTumor_BestCNN\"\n",
    "    )"
   ]
  }
 ],
 "metadata": {
  "kernelspec": {
   "display_name": "ML-Excuses",
   "language": "python",
   "name": "env"
  },
  "language_info": {
   "codemirror_mode": {
    "name": "ipython",
    "version": 3
   },
   "file_extension": ".py",
   "mimetype": "text/x-python",
   "name": "python",
   "nbconvert_exporter": "python",
   "pygments_lexer": "ipython3",
   "version": "3.12.0"
  }
 },
 "nbformat": 4,
 "nbformat_minor": 2
}

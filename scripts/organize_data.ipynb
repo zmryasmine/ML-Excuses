{
 "cells": [
  {
   "cell_type": "code",
   "execution_count": 1,
   "metadata": {},
   "outputs": [],
   "source": [
    "import pandas as pd\n",
    "import os"
   ]
  },
  {
   "cell_type": "markdown",
   "metadata": {},
   "source": [
    "#### Relier les images et leurs classes pour les deux dossiers Training et Testing :"
   ]
  },
  {
   "cell_type": "code",
   "execution_count": 5,
   "metadata": {},
   "outputs": [
    {
     "name": "stdout",
     "output_type": "stream",
     "text": [
      "Fichier CSV créé : ..\\dataset\\initial_dataset\\Testing\\images_classes_test.csv\n"
     ]
    }
   ],
   "source": [
    "dossier_principal = '..\\\\dataset\\\\initial_dataset\\\\Testing'\n",
    "\n",
    "data = []\n",
    "\n",
    "for class_folder in os.listdir(dossier_principal):\n",
    "    class_path = os.path.join(dossier_principal, class_folder)\n",
    "    \n",
    "    if os.path.isdir(class_path):\n",
    "        for image_name in os.listdir(class_path):\n",
    "            if image_name.endswith(('.jpg', '.png', '.jpeg')):\n",
    "                data.append([image_name, class_folder])\n",
    "\n",
    "df = pd.DataFrame(data, columns=['image_name', 'target']) \n",
    "\n",
    "csv_output = os.path.join(dossier_principal, 'images_classes_test.csv')\n",
    "df.to_csv(csv_output, index=False)\n",
    "\n",
    "print(f\"Fichier CSV créé : {csv_output}\")"
   ]
  },
  {
   "cell_type": "code",
   "execution_count": 4,
   "metadata": {},
   "outputs": [
    {
     "name": "stdout",
     "output_type": "stream",
     "text": [
      "Fichier CSV créé : ..\\dataset\\initial_dataset\\Training\\images_classes.csv\n"
     ]
    }
   ],
   "source": [
    "dossier_principal = '..\\\\dataset\\\\initial_dataset\\\\Training'\n",
    "\n",
    "data = []\n",
    "\n",
    "for class_folder in os.listdir(dossier_principal):\n",
    "    class_path = os.path.join(dossier_principal, class_folder)\n",
    "    \n",
    "    if os.path.isdir(class_path):\n",
    "        for image_name in os.listdir(class_path):\n",
    "            if image_name.endswith(('.jpg', '.png', '.jpeg')):\n",
    "                data.append([image_name, class_folder])\n",
    "\n",
    "df = pd.DataFrame(data, columns=['image_name', 'target']) \n",
    "\n",
    "csv_output = os.path.join(dossier_principal, 'images_classes.csv')\n",
    "df.to_csv(csv_output, index=False)\n",
    "\n",
    "print(f\"Fichier CSV créé : {csv_output}\")"
   ]
  },
  {
   "cell_type": "markdown",
   "metadata": {},
   "source": [
    "#### Union des deux fichiers csv :"
   ]
  },
  {
   "cell_type": "code",
   "execution_count": null,
   "metadata": {},
   "outputs": [
    {
     "name": "stdout",
     "output_type": "stream",
     "text": [
      "Nombre de lignes dans images_classes.csv : 5712\n",
      "Nombre de lignes dans images_classes_test.csv: 1311\n",
      "Nombre de lignes après l'union : 7023\n"
     ]
    }
   ],
   "source": [
    "df1 = pd.read_csv(os.path.join('..\\\\dataset\\\\initial_dataset\\\\Training', 'images_classes.csv')) \n",
    "df2 = pd.read_csv(os.path.join('..\\\\dataset\\\\initial_dataset\\\\Testing', 'images_classes_test.csv')) \n",
    "\n",
    "print(\"Nombre de lignes dans images_classes.csv :\", df1.shape[0])\n",
    "print(\"Nombre de lignes dans images_classes_test.csv:\", df2.shape[0])\n",
    "\n",
    "df_union = pd.concat([df1, df2], ignore_index=True)\n",
    "\n",
    "print(\"Nombre de lignes après l'union :\", df_union.shape[0])\n",
    "\n",
    "# Sauvegarder le fichier résultant dans le même dossier\n",
    "df_union.to_csv(os.path.join('..\\\\dataset', 'metadata.csv'), index=False)\n"
   ]
  }
 ],
 "metadata": {
  "kernelspec": {
   "display_name": "ML-Excuses",
   "language": "python",
   "name": "env"
  },
  "language_info": {
   "codemirror_mode": {
    "name": "ipython",
    "version": 3
   },
   "file_extension": ".py",
   "mimetype": "text/x-python",
   "name": "python",
   "nbconvert_exporter": "python",
   "pygments_lexer": "ipython3",
   "version": "3.12.0"
  }
 },
 "nbformat": 4,
 "nbformat_minor": 2
}
